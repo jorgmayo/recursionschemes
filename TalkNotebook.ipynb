{
 "cells": [
  {
   "cell_type": "code",
   "execution_count": null,
   "id": "3df98465-98d2-4972-9496-1743b793f94c",
   "metadata": {
    "slideshow": {
     "slide_type": "slide"
    }
   },
   "outputs": [],
   "source": [
    "sealed trait Nat\n",
    "final object Zero extends Nat\n",
    "final case class Suc(n: Nat) extends Nat\n",
    "sealed trait List[+A]\n",
    "final object Nil extends List[Nothing]\n",
    "final case class Cons[A](head: A, tail: List[A]) extends List[A]"
   ]
  },
  {
   "cell_type": "code",
   "execution_count": null,
   "id": "5f7b37f1-18e4-44df-828b-cc25d897efa5",
   "metadata": {
    "slideshow": {
     "slide_type": "slide"
    }
   },
   "outputs": [],
   "source": [
    "def length[A]: List[A] => Int = {\n",
    "    case Nil => 0\n",
    "    case Cons(h, t) => 1 + length(t)\n",
    "} "
   ]
  },
  {
   "cell_type": "code",
   "execution_count": null,
   "id": "04c967b7-068b-46cc-bafb-dfbddf8d563a",
   "metadata": {
    "slideshow": {
     "slide_type": "slide"
    }
   },
   "outputs": [],
   "source": [
    "sealed trait Ring \n",
    "case object Zero extends Ring\n",
    "case object One extends Ring\n",
    "case class Elem(x: Int) extends Ring\n",
    "case class Add(x: Ring, y: Ring) extends Ring\n",
    "case class Mult(x: Ring, y: Ring) extends Ring\n"
   ]
  },
  {
   "cell_type": "code",
   "execution_count": null,
   "id": "9394f31d-f84f-4d94-b6b0-09d56023d0df",
   "metadata": {},
   "outputs": [],
   "source": [
    "def reduce: Ring => Ring = {\n",
    "    case Zero => Zero\n",
    "    case One => One\n",
    "    case Elem(x) => Elem(x)\n",
    "    case Add(x, y) => if (x == y) Mult(reduce(x), Elem(2)) else Add(reduce(x), reduce(y))\n",
    "    case Mult(x, y) => Mult(reduce(x), reduce(y))\n",
    "}"
   ]
  },
  {
   "cell_type": "code",
   "execution_count": null,
   "id": "0bb7d89b-e90d-466b-9e3b-9cf408c37ee5",
   "metadata": {
    "slideshow": {
     "slide_type": "slide"
    }
   },
   "outputs": [],
   "source": [
    "def toInt: Ring => Int = {\n",
    "    case Zero => 0\n",
    "    case One => 1\n",
    "    case Elem(x) => x\n",
    "    case Add(x, y) => toInt(x) + toInt(y)\n",
    "    case Mult(x, y) => toInt(x) * toInt(y)\n",
    "}"
   ]
  },
  {
   "cell_type": "code",
   "execution_count": null,
   "id": "69943d7c-f104-4a5e-a6cc-2da436288f75",
   "metadata": {
    "slideshow": {
     "slide_type": "slide"
    }
   },
   "outputs": [],
   "source": [
    "sealed trait RingF[+A]\n",
    "case object Zero extends RingF[Nothing]\n",
    "case object One extends RingF[Nothing]\n",
    "case class Elem(x: Int) extends RingF[Nothing]\n",
    "case class Add[A](x: A, y: A) extends RingF[A]\n",
    "case class Mult[A](x:A, y: A) extends RingF[A]\n",
    "\n"
   ]
  },
  {
   "cell_type": "code",
   "execution_count": null,
   "id": "c1039ac1-b9f0-4e76-ba24-762e56e792dd",
   "metadata": {
    "slideshow": {
     "slide_type": "slide"
    }
   },
   "outputs": [],
   "source": [
    "val expresion1 = Mult(Elem(4), Add(Elem(3), One))"
   ]
  },
  {
   "cell_type": "code",
   "execution_count": null,
   "id": "07b3965b-3acf-499b-af75-ce7e17c7e4c3",
   "metadata": {
    "slideshow": {
     "slide_type": "slide"
    }
   },
   "outputs": [],
   "source": [
    "def evalToInt: RingF[Int] => Int = {\n",
    "    x => x match {\n",
    "        case Zero => 0\n",
    "        case One => 1\n",
    "        case Elem(x) => x\n",
    "        case Add(x, y) => x + y\n",
    "        case Mult(x, y) => x * y\n",
    "    }\n",
    "}\n",
    "\n"
   ]
  },
  {
   "cell_type": "code",
   "execution_count": null,
   "id": "900a0e93-dc4c-4407-9a05-247f6cab13a0",
   "metadata": {
    "slideshow": {
     "slide_type": "slide"
    }
   },
   "outputs": [],
   "source": [
    "\n",
    "trait Functor[F[_]] {\n",
    "    def map[A,B](f: A => B): F[A] => F[B]\n",
    "}\n",
    "\n",
    "implicit val ringFunctor = new Functor[RingF] {\n",
    "    override def map[A, B](f: A => B): RingF[A] => RingF[B] = {\n",
    "        case Zero => Zero\n",
    "        case One => One\n",
    "        case Elem(x) => Elem(x)\n",
    "        case Add(x, y) => Add(f(x), f(y))\n",
    "        case Mult(x, y) => Mult(f(x), f(y))\n",
    "    }\n",
    "}"
   ]
  },
  {
   "cell_type": "code",
   "execution_count": null,
   "id": "30ca95fb-1648-4981-8fec-f4bcadd6f05c",
   "metadata": {
    "slideshow": {
     "slide_type": "slide"
    }
   },
   "outputs": [],
   "source": [
    "def liftInt: RingF[RingF[Int]] => RingF[Int] = {\n",
    "    ringFunctor.map(evalToInt)\n",
    "}"
   ]
  },
  {
   "cell_type": "code",
   "execution_count": null,
   "id": "a57d22ef-633a-4ac3-b17e-ac393ba76689",
   "metadata": {},
   "outputs": [],
   "source": [
    "val rare = Add(Elem(1), Elem(2))\n",
    "liftInt(rare)"
   ]
  },
  {
   "cell_type": "code",
   "execution_count": null,
   "id": "4969f7d5-47fd-4d5a-8e61-684619a094f6",
   "metadata": {
    "slideshow": {
     "slide_type": "slide"
    }
   },
   "outputs": [],
   "source": [
    "case class Fix[F[_]](value: F[Fix[F]] )\n",
    "object Fix {\n",
    "  def fix[F[_]](ff: F[Fix[F]]): Fix[F] = new Fix[F](ff)\n",
    "  def unfix[F[_]]: Fix[F] => F[Fix[F]] = f => f.value\n",
    "}"
   ]
  },
  {
   "cell_type": "code",
   "execution_count": null,
   "id": "53757144-0ad2-434b-8264-03b536a8f1be",
   "metadata": {
    "slideshow": {
     "slide_type": "slide"
    }
   },
   "outputs": [],
   "source": [
    "type Ring = Fix[RingF]\n",
    "val zero = Fix[RingF](Zero)\n",
    "val one =  Fix[RingF](One)\n",
    "def elem: Int  => Ring = x => Fix[RingF](Elem(x))\n",
    "def add: (Ring, Ring) => Ring = (x, y) =>  Fix[RingF](Add(x, y))\n",
    "def mult: (Ring, Ring) => Ring = (x, y) =>  Fix[RingF](Mult(x, y))"
   ]
  },
  {
   "cell_type": "code",
   "execution_count": null,
   "id": "2567b97e-c266-441e-967b-ea45042041a1",
   "metadata": {
    "slideshow": {
     "slide_type": "slide"
    }
   },
   "outputs": [],
   "source": [
    "val s = add(elem(7), elem(7))\n",
    "val exp1 = mult(elem(4), add(elem(3), one))"
   ]
  },
  {
   "cell_type": "code",
   "execution_count": null,
   "id": "9e6f660e-b033-4a3f-97be-e97a034597db",
   "metadata": {
    "slideshow": {
     "slide_type": "slide"
    }
   },
   "outputs": [],
   "source": [
    "def cata: Fix[RingF] => Int = {\n",
    "    x => (evalToInt compose ringFunctor.map(cata) compose Fix.unfix)(x)\n",
    "}\n"
   ]
  },
  {
   "cell_type": "code",
   "execution_count": null,
   "id": "0ba46697-5944-4bdd-aec9-dcd044f0bbfa",
   "metadata": {},
   "outputs": [],
   "source": [
    "cata(exp1)"
   ]
  },
  {
   "cell_type": "code",
   "execution_count": null,
   "id": "fde3ce7b-2d08-4d37-a78c-2cee6ef2b0f1",
   "metadata": {
    "slideshow": {
     "slide_type": "slide"
    }
   },
   "outputs": [],
   "source": [
    "def cata[F[_], A](alg: F[A] => A)(implicit F: Functor[F]): Fix[F] => A = {\n",
    "    x => alg(F.map(cata(alg))(Fix.unfix(x)))\n",
    "}"
   ]
  },
  {
   "cell_type": "code",
   "execution_count": null,
   "id": "dfcdbf72-e24f-402c-904d-51ed92f9a0a4",
   "metadata": {},
   "outputs": [],
   "source": [
    "def cata2[F[_], A](alg: F[A] => A)(implicit F: Functor[F]): Fix[F] => A = {\n",
    "    x => (alg compose F.map(cata(alg)) compose Fix.unfix)(x)\n",
    "}"
   ]
  },
  {
   "cell_type": "code",
   "execution_count": null,
   "id": "ab1eb065-66cb-48b8-9a57-aef7cb06ca3e",
   "metadata": {},
   "outputs": [],
   "source": [
    "cata2(evalToInt)(ringFunctor)(exp1)"
   ]
  },
  {
   "cell_type": "code",
   "execution_count": null,
   "id": "b7913f97-8305-4232-87db-d2f2d9dafe17",
   "metadata": {
    "slideshow": {
     "slide_type": "slide"
    }
   },
   "outputs": [],
   "source": [
    "def recursiveEvalToInt = cata(evalToInt)\n",
    "recursiveEvalToInt(exp1)"
   ]
  },
  {
   "cell_type": "code",
   "execution_count": null,
   "id": "eb871f8e-bc7e-4567-9c72-288fceedcb91",
   "metadata": {},
   "outputs": [],
   "source": [
    "/**h\n",
    "Repasar esto para que funcione\n",
    "**/\n",
    "sealed trait ListF[+A, +B]\n",
    "sealed trait List[+A] extends ListF[A, Fix[List]]\n",
    "final object Nil extends ListF[Nothing, Nothing]\n",
    "final case class Cons[A, B](head: A, tail: B) extends ListF[A, B]"
   ]
  },
  {
   "cell_type": "code",
   "execution_count": null,
   "id": "ba3cbdbb-fa08-46bb-bd97-f7ea161c61e4",
   "metadata": {},
   "outputs": [],
   "source": [
    "def findDivisorsOf(r: Int): RingF[Int] = {\n",
    "    def loop(n: Int): RingF[Int] = {\n",
    "        if (n >= r/2) Elem(r)\n",
    "        else if (r%n == 0) Mult(r/n, n) \n",
    "        else loop(n+1)\n",
    "    }\n",
    "    r match {\n",
    "        case 0 => Zero\n",
    "        case 1 => One\n",
    "        case _ => loop(2)\n",
    "    }\n",
    "}"
   ]
  },
  {
   "cell_type": "code",
   "execution_count": null,
   "id": "45621645-26e1-41f6-9d8e-6181ecb26352",
   "metadata": {},
   "outputs": [],
   "source": []
  },
  {
   "cell_type": "code",
   "execution_count": null,
   "id": "9d85e6f5-5161-4551-8348-d0ac02e2b6dc",
   "metadata": {},
   "outputs": [],
   "source": [
    "findDivisorsOf(6)\n",
    "findDivisorsOf(12)\n",
    "findDivisorsOf(1)\n",
    "findDivisorsOf(3)"
   ]
  },
  {
   "cell_type": "code",
   "execution_count": null,
   "id": "90fdb3d9-09e9-4e83-a278-600c0eae879a",
   "metadata": {},
   "outputs": [],
   "source": [
    "def f1: RingF[Int] => RingF[RingF[Int]] = ringFunctor.map(findDivisorsOf)\n",
    "def find: Int => RingF[RingF[Int]] = {\n",
    "    x => f1(findDivisorsOf(x))\n",
    "}"
   ]
  },
  {
   "cell_type": "code",
   "execution_count": null,
   "id": "7d41ec0c-ea68-4b95-a7be-b1e128d66fc5",
   "metadata": {},
   "outputs": [],
   "source": [
    "find(8)"
   ]
  },
  {
   "cell_type": "code",
   "execution_count": null,
   "id": "60d0796c-6152-451f-b403-2c0307917dbf",
   "metadata": {},
   "outputs": [],
   "source": [
    "def ana[F[_], A](coalg: A => F[A])(implicit F: Functor[F]): A => Fix[F] = {\n",
    "    x => Fix.fix((F.map(ana(coalg)) compose coalg)(x))\n",
    "}"
   ]
  },
  {
   "cell_type": "code",
   "execution_count": null,
   "id": "16c8f5f6-10ca-4563-b626-4357ed9238a2",
   "metadata": {},
   "outputs": [],
   "source": [
    "val expression3 = ana(findDivisorsOf)(ringFunctor)(12)"
   ]
  },
  {
   "cell_type": "code",
   "execution_count": null,
   "id": "c9caa2ba-f76a-460e-abd5-691031850e02",
   "metadata": {},
   "outputs": [],
   "source": [
    "def evalToStr: RingF[String] => String = {\n",
    "    x => x match {\n",
    "        case Zero => \"0\"\n",
    "        case One => \"1\"\n",
    "        case Elem(x) => x.toString\n",
    "        case Add(x, y) => x.toString + \" + \" + y.toString\n",
    "        case Mult(x, y) => x.toString + \" * \" + y.toString\n",
    "    }\n",
    "}"
   ]
  },
  {
   "cell_type": "code",
   "execution_count": null,
   "id": "724b82d2-186a-4eb2-85e5-a14cc1f6f220",
   "metadata": {},
   "outputs": [],
   "source": [
    "cata(evalToStr)(ringFunctor)(ana(findDivisorsOf)(ringFunctor)(12))"
   ]
  },
  {
   "cell_type": "code",
   "execution_count": null,
   "id": "8439c102-fb59-46af-a97d-983b4468e5f0",
   "metadata": {},
   "outputs": [],
   "source": [
    "import $ivy.`io.github.stanch::reftree:1.3.0`\n",
    "\n",
    "{{\n",
    "  import reftree.render._, reftree.diagram._\n",
    "  import reftree.contrib.SimplifiedInstances.string\n",
    "  val renderer = Renderer(renderingOptions = RenderingOptions(density = 60))\n",
    "    \n",
    "  renderer.render(\"examples/example5\", Diagram.sourceCodeCaption(expression3))\n",
    "}}\n",
    "Image.fromFile(\"examples/example5.png\")"
   ]
  },
  {
   "cell_type": "code",
   "execution_count": null,
   "id": "5765dfe3-f52f-41de-ae8c-2c53cd4bb2c6",
   "metadata": {},
   "outputs": [],
   "source": [
    "sealed trait ListF[+A] \n",
    "case object NilF extends ListF[Nothing]\n",
    "case class ConsF[A](head: String, tail: A) extends ListF[A]"
   ]
  },
  {
   "cell_type": "code",
   "execution_count": null,
   "id": "f89405c6-28a6-4b6b-bc5a-b09709e58dd6",
   "metadata": {},
   "outputs": [],
   "source": [
    "val listOfStringFunctor = new Functor[ListF] {\n",
    " override def map[A, B](f: A => B): ListF[A] => ListF[B] = {\n",
    "     case NilF => NilF\n",
    "     case ConsF(h, t) => ConsF(h, f(t))\n",
    " }   \n",
    "}"
   ]
  },
  {
   "cell_type": "code",
   "execution_count": null,
   "id": "1375145e-ab2c-4f40-8fe1-96ffb5095d63",
   "metadata": {},
   "outputs": [],
   "source": [
    "type ListString = Fix[ListF]\n",
    "val nil = Fix[ListF](NilF)\n",
    "def cons : (String, ListString) => ListString = (h, t) =>  Fix[ListF](ConsF(h, t))"
   ]
  },
  {
   "cell_type": "code",
   "execution_count": null,
   "id": "4caa648d-aec1-452a-8d37-1163a3359b43",
   "metadata": {},
   "outputs": [],
   "source": [
    "val fixL1 = cons(\"a\", cons(\"b\", cons(\"c\", nil)))"
   ]
  },
  {
   "cell_type": "code",
   "execution_count": null,
   "id": "2c3283af-cdaf-42f8-bd12-9f9ae6996a5a",
   "metadata": {},
   "outputs": [],
   "source": [
    "def length: ListF[Int] => Int = {\n",
    "    case NilF => 0\n",
    "    case ConsF(h, t) => t + 1\n",
    "}\n",
    "\n",
    "cata(length)(listOfStringFunctor)(fixL1)"
   ]
  },
  {
   "cell_type": "code",
   "execution_count": null,
   "id": "d3b13ce0-8d8e-44ed-8a2b-6ff7b983dd80",
   "metadata": {},
   "outputs": [],
   "source": [
    "val l1 = List(\"a\", \"b\", \"c\")"
   ]
  },
  {
   "cell_type": "code",
   "execution_count": null,
   "id": "30a08f9f-49ff-4b6e-b288-aefd24de57ab",
   "metadata": {},
   "outputs": [],
   "source": []
  },
  {
   "cell_type": "code",
   "execution_count": null,
   "id": "dc2c1efb-6a73-4996-9926-d66bdbfc5742",
   "metadata": {},
   "outputs": [],
   "source": [
    "import $ivy.`io.github.stanch::reftree:1.3.0`\n",
    "\n",
    "{{\n",
    "  import reftree.render._, reftree.diagram._\n",
    "  import reftree.contrib.SimplifiedInstances.string\n",
    "  val renderer = Renderer(renderingOptions = RenderingOptions(density = 60))\n",
    "    \n",
    "  renderer.render(\"examples/example7\", Diagram.sourceCodeCaption(l1))\n",
    "}}\n",
    "Image.fromFile(\"examples/example7.png\")"
   ]
  },
  {
   "cell_type": "code",
   "execution_count": null,
   "id": "16bf9d5b-7f38-4d18-a6e0-17e475dd8ebe",
   "metadata": {},
   "outputs": [],
   "source": [
    "l1.foldLeft(0)((h, t) => h + 1)"
   ]
  },
  {
   "cell_type": "code",
   "execution_count": null,
   "id": "d515570d-5e3e-4721-ada3-b23bfbcb4fcc",
   "metadata": {},
   "outputs": [],
   "source": [
    "import $ivy.`io.github.stanch::reftree:1.3.0`\n",
    "\n",
    "{{\n",
    "  import reftree.render._, reftree.diagram._\n",
    "  import reftree.contrib.SimplifiedInstances.string\n",
    "  val renderer = Renderer(renderingOptions = RenderingOptions(density = 60))\n",
    "    \n",
    "  renderer.render(\"examples/example8\", Diagram.sourceCodeCaption(fixL1))\n",
    "}}\n",
    "Image.fromFile(\"examples/example8.png\")"
   ]
  },
  {
   "cell_type": "code",
   "execution_count": null,
   "id": "848a7ebc-2683-4c49-9561-3131ea787e8d",
   "metadata": {},
   "outputs": [],
   "source": [
    "def myFoldLeft[A](baseValue: A)(evaluator: (String, A) => A)(l: ListString): A = {\n",
    "    def alg: ListF[A] => A = {\n",
    "        case NilF => baseValue\n",
    "        case ConsF(h, t) => evaluator(h, t)\n",
    "        }\n",
    "    cata(alg)(listOfStringFunctor)(l)\n",
    "\n",
    "}"
   ]
  },
  {
   "cell_type": "code",
   "execution_count": null,
   "id": "556cef84-351a-4cb8-9a11-ead56d3cc471",
   "metadata": {},
   "outputs": [],
   "source": [
    "myFoldLeft(0)((x, y) => y + 1)(fixL1)"
   ]
  },
  {
   "cell_type": "code",
   "execution_count": null,
   "id": "357f1883-dc49-45a2-adb9-d06ac3d832f9",
   "metadata": {},
   "outputs": [],
   "source": [
    "def hylo[A, B, F[_]](ev1: A => F[A])(ev2: F[B] => B)(implicit functor: Functor[F]): A => B = {\n",
    "    x => cata(ev2)(functor)((ana(ev1)(functor)(x)))\n",
    "}"
   ]
  },
  {
   "cell_type": "code",
   "execution_count": null,
   "id": "43d87cbb-0f6a-4863-b445-2ea276e36f21",
   "metadata": {},
   "outputs": [],
   "source": [
    "hylo(findDivisorsOf)(evalToInt)(ringFunctor)(12)"
   ]
  },
  {
   "cell_type": "code",
   "execution_count": null,
   "id": "b12d3c95-3b43-44da-afed-7aabcdce59a2",
   "metadata": {},
   "outputs": [],
   "source": [
    "def prettyPrint: RingF[String] => String = {\n",
    "    case Zero => \"0\"\n",
    "    case One => \"1\"\n",
    "    case Elem(x: Int) => x.toString\n",
    "    case Add(x, y) => x + \" + \" + y\n",
    "    case Mult(x, y) => x + \" * \" + y\n",
    "}"
   ]
  },
  {
   "cell_type": "code",
   "execution_count": null,
   "id": "e60d3718-49ac-4e13-a92f-62a85c27d1ec",
   "metadata": {},
   "outputs": [],
   "source": [
    "hylo(findDivisorsOf)(prettyPrint)(ringFunctor)(12)"
   ]
  },
  {
   "cell_type": "code",
   "execution_count": null,
   "id": "138cf26a-4566-4c4a-9db9-549a6b6e825c",
   "metadata": {},
   "outputs": [],
   "source": []
  },
  {
   "cell_type": "code",
   "execution_count": null,
   "id": "110b633c-ba6f-4b78-bbf3-944cf674437e",
   "metadata": {},
   "outputs": [],
   "source": [
    "def optimize[A]: RingF[Fix[RingF]] => Fix[RingF] = {\n",
    "    case Add(x, y) => if (x == y) Fix[RingF](Mult(y, Fix[RingF](Elem(2)))) else Fix[RingF](Add(x,y))\n",
    "    case other => Fix[RingF](other)\n",
    "}"
   ]
  },
  {
   "cell_type": "code",
   "execution_count": null,
   "id": "26a970e3-4413-43a4-9c71-ec1ad46fdb2e",
   "metadata": {},
   "outputs": [],
   "source": [
    "val a = add(add(elem(3), elem(3)), add(elem(3), elem(3)))"
   ]
  },
  {
   "cell_type": "code",
   "execution_count": null,
   "id": "7a722da8-620f-4d5f-beec-892decfb270c",
   "metadata": {},
   "outputs": [],
   "source": [
    "cata(prettyPrint)(ringFunctor)(cata(optimize)(ringFunctor)(a))"
   ]
  },
  {
   "cell_type": "code",
   "execution_count": null,
   "id": "e2c88824-b37c-4b66-ac37-805c533b091e",
   "metadata": {},
   "outputs": [],
   "source": [
    "sealed trait LList[+A, +B]\n",
    "object  NilL extends LList[Nothing, Nothing]\n",
    "case class ConsL[A, B](h: A, t: B) extends LList[A, B]"
   ]
  },
  {
   "cell_type": "code",
   "execution_count": null,
   "id": "c432776c-e7d7-4965-8cd7-6aa3d8dd02b1",
   "metadata": {},
   "outputs": [],
   "source": [
    "case class Fix2[F[_, _]](value: F[_, Fix2[F]])"
   ]
  },
  {
   "cell_type": "code",
   "execution_count": null,
   "id": "d5ed3d23-dbe2-4c78-a242-db2f86bb5564",
   "metadata": {},
   "outputs": [],
   "source": [
    "type Mlist = Fix2[LList]\n",
    "val nil = Fix2[LList](NilL)\n",
    "def cons[A]: (A, Mlist) => Mlist = (x, y) => Fix2[LList](ConsL(x, y))"
   ]
  },
  {
   "cell_type": "code",
   "execution_count": null,
   "id": "d0082aae-a23a-4731-be2d-fbbd935b1482",
   "metadata": {},
   "outputs": [],
   "source": [
    "type Pol = List[Int]\n",
    "\n",
    "\n",
    "sealed trait RingF[+A, +B]\n",
    "case object Zero extends RingF[Nothing, Nothing]\n",
    "case object One extends RingF[Nothing, Nothing]\n",
    "//case class Elem[B](x: B) extends RingF[Nothing, B]\n",
    "//case class Add[A, B](x: A, y: A) extends RingF[A, B]\n",
    "//case class Mult[A, B](x:A, y: A) extends RingF[A, B]\n",
    "//\n",
    "def evPol: RingF[List[Int], List[Int]] => List[Int] = {\n",
    "    case Zero => List[0]\n",
    "    case One => List(1)\n",
    "}\n"
   ]
  },
  {
   "cell_type": "code",
   "execution_count": 58,
   "id": "69d01258-8305-4ec9-9625-398a8877b4a3",
   "metadata": {},
   "outputs": [
    {
     "data": {
      "text/plain": [
       "\u001b[36mres57\u001b[39m: \u001b[32mBoolean\u001b[39m = true"
      ]
     },
     "execution_count": 58,
     "metadata": {},
     "output_type": "execute_result"
    }
   ],
   "source": [
    "List(0)==List[Int](0)"
   ]
  },
  {
   "cell_type": "code",
   "execution_count": null,
   "id": "752a386d-7e87-427a-ab8c-bb3a2f94731b",
   "metadata": {},
   "outputs": [],
   "source": []
  },
  {
   "cell_type": "code",
   "execution_count": null,
   "id": "1ef1434d-01bb-42e9-aa56-cd154c474a54",
   "metadata": {},
   "outputs": [],
   "source": []
  },
  {
   "cell_type": "code",
   "execution_count": null,
   "id": "848fd890-84f8-4ce0-a5bd-9f454f1e728c",
   "metadata": {},
   "outputs": [],
   "source": []
  },
  {
   "cell_type": "code",
   "execution_count": null,
   "id": "5a1ef2fb-f980-43d3-9da7-249e902a71dd",
   "metadata": {},
   "outputs": [],
   "source": []
  },
  {
   "cell_type": "code",
   "execution_count": null,
   "id": "e799259b-05d5-4069-afd1-aa549fb2c3d4",
   "metadata": {},
   "outputs": [],
   "source": []
  },
  {
   "cell_type": "code",
   "execution_count": null,
   "id": "f9a345a1-d8b1-4c4d-b9b0-2e8574367e0d",
   "metadata": {},
   "outputs": [],
   "source": []
  },
  {
   "cell_type": "code",
   "execution_count": null,
   "id": "65277e6a-ba13-4c7d-be67-3906327dd1f0",
   "metadata": {},
   "outputs": [],
   "source": []
  },
  {
   "cell_type": "code",
   "execution_count": 52,
   "id": "f559db8c-161b-4ca7-b0a0-6950cc786e2b",
   "metadata": {},
   "outputs": [
    {
     "data": {
      "text/plain": [
       "\u001b[36mres51\u001b[39m: \u001b[32mMlist\u001b[39m = \u001b[33mFix2\u001b[39m(\n",
       "  \u001b[33mConsL\u001b[39m(\u001b[32m\"A\"\u001b[39m, \u001b[33mFix2\u001b[39m(\u001b[33mConsL\u001b[39m(\u001b[32m7\u001b[39m, \u001b[33mFix2\u001b[39m(ammonite.$sess.cmd48$Helper$NilL$@53c9a54e))))\n",
       ")"
      ]
     },
     "execution_count": 52,
     "metadata": {},
     "output_type": "execute_result"
    }
   ],
   "source": [
    "cons(\"A\", cons(7, nil))"
   ]
  },
  {
   "cell_type": "code",
   "execution_count": 53,
   "id": "629dceac-aca8-4d67-9290-977f8fff4dbb",
   "metadata": {},
   "outputs": [
    {
     "data": {
      "text/plain": [
       "\u001b[32mimport \u001b[39m\u001b[36mreftree.render._\n",
       "\u001b[39m\n",
       "\u001b[32mimport \u001b[39m\u001b[36mreftree.diagram._\n",
       "\u001b[39m\n",
       "\u001b[32mimport \u001b[39m\u001b[36mjava.nio.file.Paths\n",
       "\n",
       "\u001b[39m\n",
       "\u001b[36mrenderer\u001b[39m: \u001b[32mRenderer\u001b[39m = \u001b[33mRenderer\u001b[39m(\n",
       "  \u001b[33mRenderingOptions\u001b[39m(\n",
       "    \u001b[32m0.8\u001b[39m,\n",
       "    \u001b[33mWrappedArray\u001b[39m(\n",
       "      \u001b[33mRGBA\u001b[39m(\u001b[32m0.06274509803921569\u001b[39m, \u001b[32m0.3058823529411765\u001b[39m, \u001b[32m0.5450980392156862\u001b[39m, \u001b[32m1.0\u001b[39m),\n",
       "      \u001b[33mRGBA\u001b[39m(\u001b[32m0.13333333333333333\u001b[39m, \u001b[32m0.5450980392156862\u001b[39m, \u001b[32m0.13333333333333333\u001b[39m, \u001b[32m1.0\u001b[39m),\n",
       "      \u001b[33mRGBA\u001b[39m(\u001b[32m0.803921568627451\u001b[39m, \u001b[32m0.3568627450980392\u001b[39m, \u001b[32m0.27058823529411763\u001b[39m, \u001b[32m1.0\u001b[39m)\n",
       "    ),\n",
       "    \u001b[32m\"Source Code Pro\"\u001b[39m,\n",
       "    \u001b[32m60\u001b[39m\n",
       "  ),\n",
       "  \u001b[33mAnimationOptions\u001b[39m(2 seconds, 1 second, \u001b[32m9\u001b[39m, true, \u001b[32m0\u001b[39m),\n",
       "  examples/guide,\n",
       "  \u001b[32m\"png\"\u001b[39m\n",
       ")\n",
       "\u001b[32mimport \u001b[39m\u001b[36mscala.collection.immutable.Queue\n",
       "\u001b[39m"
      ]
     },
     "execution_count": 53,
     "metadata": {},
     "output_type": "execute_result"
    }
   ],
   "source": [
    "import reftree.render._\n",
    "import reftree.diagram._\n",
    "import java.nio.file.Paths\n",
    "\n",
    "val renderer = Renderer(\n",
    "  renderingOptions = RenderingOptions(density = 60),\n",
    "  directory = Paths.get(\"examples\", \"guide\")\n",
    ")\n",
    "import scala.collection.immutable.Queue\n"
   ]
  },
  {
   "cell_type": "code",
   "execution_count": 52,
   "id": "015658ee-df12-4119-af55-aa2203969c55",
   "metadata": {},
   "outputs": [],
   "source": [
    "renderer.render(\"diagram2\",Diagram(Queue(1)).withCaption(\"one\") + Diagram(Queue(2)).withCaption(\"two\"))"
   ]
  },
  {
   "cell_type": "code",
   "execution_count": 53,
   "id": "7aa86491-9ef4-46d4-9c18-d4c734314c08",
   "metadata": {},
   "outputs": [
    {
     "data": {
      "text/plain": [
       "\u001b[36mz\u001b[39m: \u001b[32mRing\u001b[39m = \u001b[33mFix\u001b[39m(\u001b[33mMult\u001b[39m(\u001b[33mFix\u001b[39m(\u001b[33mElem\u001b[39m(\u001b[32m2\u001b[39m)), \u001b[33mFix\u001b[39m(\u001b[33mAdd\u001b[39m(\u001b[33mFix\u001b[39m(\u001b[33mElem\u001b[39m(\u001b[32m2\u001b[39m)), \u001b[33mFix\u001b[39m(\u001b[33mElem\u001b[39m(\u001b[32m3\u001b[39m))))))"
      ]
     },
     "execution_count": 53,
     "metadata": {},
     "output_type": "execute_result"
    }
   ],
   "source": [
    "val z = mult(elem(2), add(elem(2), elem(3)))\n",
    "//renderer.render(\"animation2\", Animation.startWith(z.value).iterate(x => x).build())"
   ]
  },
  {
   "cell_type": "code",
   "execution_count": 54,
   "id": "b4ebb8a0-56f6-446f-bd60-8d693d7ac932",
   "metadata": {},
   "outputs": [
    {
     "data": {
      "text/plain": [
       "defined \u001b[32mfunction\u001b[39m \u001b[36moptimiz\u001b[39m\n",
       "defined \u001b[32mfunction\u001b[39m \u001b[36munoptimize\u001b[39m"
      ]
     },
     "execution_count": 54,
     "metadata": {},
     "output_type": "execute_result"
    }
   ],
   "source": [
    "def optimiz: RingF[Fix[RingF]] => Fix[RingF] = {\n",
    "    case Add(x, y) => x match {\n",
    "        case Fix(Elem(z)) => y match {\n",
    "            case Fix(Elem(w)) =>Fix[RingF](Elem(z+w))\n",
    "            case Fix(other) => Fix[RingF](Add(x, optimiz(y.value)))\n",
    "        }\n",
    "        case Fix(other) => optimiz(other)\n",
    "    }\n",
    "    case Mult(x, y) => x match {\n",
    "        case Fix(Elem(z)) => y match {\n",
    "            case Fix(Elem(w)) =>Fix[RingF](Elem(z*w))\n",
    "            case Fix(other) => Fix[RingF](Mult(x, optimiz(y.value)))\n",
    "        }\n",
    "        case Fix(other) => optimiz(other)\n",
    "    }\n",
    "    case other => optimiz(other)\n",
    "}\n",
    "\n",
    "def unoptimize: RingF[Fix[RingF]] => Fix[RingF] = {\n",
    "    case Elem(x) => {\n",
    "        val y = findDivisorsOf(x)\n",
    "        y match{ \n",
    "            case Elem(z) => elem(z)\n",
    "            case Mult(a, b) => mult(elem(a), elem(b))\n",
    "        }\n",
    "        \n",
    "    }\n",
    "    case Mult(x, y) => x match {\n",
    "        case Fix(Elem(z)) => mult(unoptimize(Elem(z)), y)\n",
    "        //case Fix(other) => unoptimize(other)\n",
    "    }\n",
    "    y match {\n",
    "        case Fix(Elem(z)) => unoptimize(Elem(z))\n",
    "        case Fix(other) => unoptimize(other)\n",
    "    }\n",
    "    case other => unoptimize(other)\n",
    "}"
   ]
  },
  {
   "cell_type": "code",
   "execution_count": 55,
   "id": "d0360db2-8913-4dae-a67a-23b4c17b5708",
   "metadata": {},
   "outputs": [
    {
     "data": {
      "text/plain": [
       "defined \u001b[32mfunction\u001b[39m \u001b[36miterateoptimize\u001b[39m"
      ]
     },
     "execution_count": 55,
     "metadata": {},
     "output_type": "execute_result"
    }
   ],
   "source": [
    "def iterateoptimize(n: Int): Fix[RingF] => Fix[RingF] = {\n",
    "    if (n == 0) x => optimiz(x.value)\n",
    "    else x => iterateoptimize(n-1)(optimiz(x.value))\n",
    "}\n"
   ]
  },
  {
   "cell_type": "code",
   "execution_count": 56,
   "id": "d36ce375-dc8f-41bc-b71f-d833744545cb",
   "metadata": {},
   "outputs": [
    {
     "data": {
      "text/plain": [
       "\u001b[36mexp1\u001b[39m: \u001b[32mRing\u001b[39m = \u001b[33mFix\u001b[39m(\u001b[33mMult\u001b[39m(\u001b[33mFix\u001b[39m(\u001b[33mElem\u001b[39m(\u001b[32m4\u001b[39m)), \u001b[33mFix\u001b[39m(\u001b[33mAdd\u001b[39m(\u001b[33mFix\u001b[39m(\u001b[33mElem\u001b[39m(\u001b[32m3\u001b[39m)), \u001b[33mFix\u001b[39m(\u001b[33mElem\u001b[39m(\u001b[32m1\u001b[39m))))))"
      ]
     },
     "execution_count": 56,
     "metadata": {},
     "output_type": "execute_result"
    }
   ],
   "source": [
    "val exp1 = mult(elem(4), add(elem(3), elem(1)))"
   ]
  },
  {
   "cell_type": "code",
   "execution_count": 57,
   "id": "6622f946-6ff3-4141-b963-f4006ccaea4e",
   "metadata": {},
   "outputs": [],
   "source": [
    "renderer.render(\"animation\", Animation.startWith(exp1).iterate(2)(x => iterateoptimize(0)(x)).build())"
   ]
  },
  {
   "cell_type": "code",
   "execution_count": 58,
   "id": "3948d978-f3fd-45ac-ad7b-7517438d7bfa",
   "metadata": {},
   "outputs": [
    {
     "data": {
      "text/plain": [
       "\u001b[36mres57\u001b[39m: \u001b[32mFix\u001b[39m[\u001b[32mRingF\u001b[39m] = \u001b[33mFix\u001b[39m(\u001b[33mMult\u001b[39m(\u001b[33mFix\u001b[39m(\u001b[33mElem\u001b[39m(\u001b[32m2\u001b[39m)), \u001b[33mFix\u001b[39m(\u001b[33mElem\u001b[39m(\u001b[32m5\u001b[39m))))"
      ]
     },
     "execution_count": 58,
     "metadata": {},
     "output_type": "execute_result"
    }
   ],
   "source": [
    "iterateoptimize(0)(z)"
   ]
  },
  {
   "cell_type": "code",
   "execution_count": 59,
   "id": "37465e72-41f6-4a48-b4ea-7f6995815531",
   "metadata": {},
   "outputs": [
    {
     "data": {
      "text/plain": [
       "\u001b[36mres58\u001b[39m: \u001b[32mFix\u001b[39m[\u001b[32mRingF\u001b[39m] = \u001b[33mFix\u001b[39m(\u001b[33mMult\u001b[39m(\u001b[33mFix\u001b[39m(\u001b[33mElem\u001b[39m(\u001b[32m8\u001b[39m)), \u001b[33mFix\u001b[39m(\u001b[33mElem\u001b[39m(\u001b[32m2\u001b[39m))))"
      ]
     },
     "execution_count": 59,
     "metadata": {},
     "output_type": "execute_result"
    }
   ],
   "source": [
    "unoptimize(Elem(16))"
   ]
  },
  {
   "cell_type": "code",
   "execution_count": 59,
   "id": "2cfb4114-f44e-4983-bd74-c3f1bc172533",
   "metadata": {},
   "outputs": [],
   "source": [
    "//def foldr[A, B](l: List[A])(seed: B)(evaluator: (A, B) => B): B  = {\n",
    "//    l match {\n",
    "//        case Nil => seed\n",
    "//        case Cons(h, t) => evaluator(h, foldr(t)(seed)(evaluator))\n",
    "//    }\n",
    "//}"
   ]
  },
  {
   "cell_type": "code",
   "execution_count": 60,
   "id": "96ae305c-f91d-4330-a975-b78bef3fce83",
   "metadata": {},
   "outputs": [
    {
     "data": {
      "text/plain": [
       "defined \u001b[32mfunction\u001b[39m \u001b[36mfoldR\u001b[39m"
      ]
     },
     "execution_count": 60,
     "metadata": {},
     "output_type": "execute_result"
    }
   ],
   "source": [
    "def foldR[Z](e: Fix[RingF])(elem: Elem => Z)(add: (Z, Z) => Z)(mult: (Z, Z) => Z): Z = {\n",
    "    e.value match {\n",
    "        case Elem(x)  => elem(Elem(x))\n",
    "        case Add(x, y) => add(foldR(x)(elem)(add)(mult), foldR(y)(elem)(add)(mult))\n",
    "        case Mult(x, y) => mult(foldR(x)(elem)(add)(mult), foldR(y)(elem)(add)(mult))\n",
    "    }\n",
    "}"
   ]
  },
  {
   "cell_type": "code",
   "execution_count": 61,
   "id": "8da0f06f-54ec-45f6-8c2e-6fc18f8717f6",
   "metadata": {},
   "outputs": [
    {
     "data": {
      "text/plain": [
       "\u001b[36mres60\u001b[39m: \u001b[32mRing\u001b[39m = \u001b[33mFix\u001b[39m(\n",
       "  \u001b[33mAdd\u001b[39m(\n",
       "    \u001b[33mFix\u001b[39m(\u001b[33mAdd\u001b[39m(\u001b[33mFix\u001b[39m(\u001b[33mElem\u001b[39m(\u001b[32m3\u001b[39m)), \u001b[33mFix\u001b[39m(\u001b[33mElem\u001b[39m(\u001b[32m3\u001b[39m)))),\n",
       "    \u001b[33mFix\u001b[39m(\u001b[33mAdd\u001b[39m(\u001b[33mFix\u001b[39m(\u001b[33mElem\u001b[39m(\u001b[32m3\u001b[39m)), \u001b[33mFix\u001b[39m(\u001b[33mElem\u001b[39m(\u001b[32m3\u001b[39m))))\n",
       "  )\n",
       ")"
      ]
     },
     "execution_count": 61,
     "metadata": {},
     "output_type": "execute_result"
    }
   ],
   "source": [
    "a"
   ]
  },
  {
   "cell_type": "code",
   "execution_count": 62,
   "id": "60a7d855-18af-47f6-9c6c-fc8095415fd6",
   "metadata": {},
   "outputs": [
    {
     "data": {
      "text/plain": [
       "\u001b[36mres61\u001b[39m: \u001b[32mInt\u001b[39m = \u001b[32m12\u001b[39m"
      ]
     },
     "execution_count": 62,
     "metadata": {},
     "output_type": "execute_result"
    }
   ],
   "source": [
    "foldR[Int](a)(x => x.x)((x, y) => x + y)((x,y) => x * y)"
   ]
  },
  {
   "cell_type": "code",
   "execution_count": 63,
   "id": "1338b6cc-7579-42f2-93eb-87b9bfbe2497",
   "metadata": {},
   "outputs": [
    {
     "data": {
      "text/plain": [
       "defined \u001b[32mfunction\u001b[39m \u001b[36mmyFoldR\u001b[39m"
      ]
     },
     "execution_count": 63,
     "metadata": {},
     "output_type": "execute_result"
    }
   ],
   "source": [
    "def myFoldR[Z](a: Fix[RingF])(alg: RingF [Z] => Z):Z = {\n",
    "    cata(alg)(ringFunctor)(a)\n",
    "}"
   ]
  },
  {
   "cell_type": "code",
   "execution_count": 64,
   "id": "04105926-cb92-472c-8126-6671600dfb6e",
   "metadata": {},
   "outputs": [
    {
     "data": {
      "text/plain": [
       "\u001b[36mres63\u001b[39m: \u001b[32mInt\u001b[39m = \u001b[32m12\u001b[39m"
      ]
     },
     "execution_count": 64,
     "metadata": {},
     "output_type": "execute_result"
    }
   ],
   "source": [
    "myFoldR(a)(evalToInt)"
   ]
  },
  {
   "cell_type": "code",
   "execution_count": 65,
   "id": "e0d8b0e2-3dde-4bd1-8a69-4a332f8eb056",
   "metadata": {},
   "outputs": [
    {
     "data": {
      "text/plain": [
       "defined \u001b[32mtrait\u001b[39m \u001b[36mRecursive\u001b[39m\n",
       "\u001b[36mRing\u001b[39m: \u001b[32mAnyRef\u001b[39m with \u001b[32mRecursive\u001b[39m[\u001b[32mRingF\u001b[39m]{implicit val ff: cmd64.this.cmd8.Functor[ammonite.$sess.cmd8.wrapper.cmd5.RingF]} = ammonite.$sess.cmd64$Helper$$anon$1@4a6d2097"
      ]
     },
     "execution_count": 65,
     "metadata": {},
     "output_type": "execute_result"
    }
   ],
   "source": [
    "trait Recursive[F[_]] extends Functor[F] {\n",
    "    def cata[A](alg: F[A] => A)(x: Fix[F])(implicit F: Functor[F]): A = {\n",
    "    alg(F.map(cata(alg))(Fix.unfix(x)))\n",
    "    }\n",
    "}\n",
    "\n",
    "val Ring = new Recursive[RingF] {\n",
    "    implicit val ff = ringFunctor\n",
    "    override def map[A, B](f: A => B): RingF[A] => RingF[B] = {\n",
    "        case Zero => Zero\n",
    "        case One => One\n",
    "        case Elem(x) => Elem(x)\n",
    "        case Add(x, y) => Add(f(x), f(y))\n",
    "        case Mult(x, y) => Mult(f(x), f(y))\n",
    "    }\n",
    "}"
   ]
  },
  {
   "cell_type": "code",
   "execution_count": 66,
   "id": "0d49b458-14c5-4806-ad01-a881c14369ea",
   "metadata": {},
   "outputs": [
    {
     "data": {
      "text/plain": [
       "\u001b[36mres65\u001b[39m: \u001b[32mInt\u001b[39m = \u001b[32m12\u001b[39m"
      ]
     },
     "execution_count": 66,
     "metadata": {},
     "output_type": "execute_result"
    }
   ],
   "source": [
    "Ring.cata(evalToInt)(a)"
   ]
  },
  {
   "cell_type": "code",
   "execution_count": 67,
   "id": "3f63a96a-4315-4ada-b5f4-5c58b84c450c",
   "metadata": {},
   "outputs": [
    {
     "data": {
      "text/plain": [
       "defined \u001b[32mtype\u001b[39m \u001b[36mAlg\u001b[39m\n",
       "defined \u001b[32mfunction\u001b[39m \u001b[36mmyAlg\u001b[39m"
      ]
     },
     "execution_count": 67,
     "metadata": {},
     "output_type": "execute_result"
    }
   ],
   "source": [
    "type Alg[Z] = RingF[Z] => Z\n",
    "def myAlg: Alg[Fix[RingF]] = {\n",
    "            case Zero => Fix[RingF](Zero)\n",
    "            case One => Fix[RingF](One)\n",
    "            case Elem(x) => Fix[RingF](Elem(x))\n",
    "            case Add(x, y) => Fix[RingF](Add(x, y))\n",
    "            case Mult(x, y) => Fix[RingF](Mult(x, y))\n",
    "        }"
   ]
  },
  {
   "cell_type": "code",
   "execution_count": 68,
   "id": "6f38432a-5d94-44f1-9a6b-b3e6a8e04ead",
   "metadata": {},
   "outputs": [
    {
     "data": {
      "text/plain": [
       "defined \u001b[32mtrait\u001b[39m \u001b[36mBBEnc\u001b[39m"
      ]
     },
     "execution_count": 68,
     "metadata": {},
     "output_type": "execute_result"
    }
   ],
   "source": [
    "trait BBEnc {\n",
    "    def apply[Z](alg: Alg[Z]): Z\n",
    "}"
   ]
  },
  {
   "cell_type": "code",
   "execution_count": 69,
   "id": "844131c7-252f-423a-8078-125f14d2a4bd",
   "metadata": {},
   "outputs": [
    {
     "data": {
      "text/plain": [
       "defined \u001b[32mtrait\u001b[39m \u001b[36mIso\u001b[39m"
      ]
     },
     "execution_count": 69,
     "metadata": {},
     "output_type": "execute_result"
    }
   ],
   "source": [
    "trait Iso[A, B] {\n",
    "    def to(a: A): B\n",
    "    def from(b: B): A\n",
    "}"
   ]
  },
  {
   "cell_type": "code",
   "execution_count": 70,
   "id": "9c35e28b-3f15-4cc0-b159-15792412d434",
   "metadata": {},
   "outputs": [
    {
     "data": {
      "text/plain": [
       "\u001b[36mRingIso\u001b[39m: \u001b[32mAnyRef\u001b[39m with \u001b[32mIso\u001b[39m[\u001b[32mFix\u001b[39m[\u001b[32mRingF\u001b[39m], \u001b[32mBBEnc\u001b[39m] = ammonite.$sess.cmd69$Helper$$anon$1@61c5187e"
      ]
     },
     "execution_count": 70,
     "metadata": {},
     "output_type": "execute_result"
    }
   ],
   "source": [
    "val RingIso = new Iso[Fix[RingF], BBEnc] {\n",
    "    override def to(expr: Fix[RingF]): BBEnc = {\n",
    "        new BBEnc {\n",
    "            override def apply[Z](alg: Alg[Z]): Z = {\n",
    "                cata(alg)(ringFunctor)(expr)\n",
    "            }\n",
    "        }\n",
    "    }\n",
    "    \n",
    "    override def from(enc: BBEnc): Fix[RingF] = {\n",
    "        def myAlg: Alg[Fix[RingF]] = {\n",
    "            case Zero => Fix[RingF](Zero)\n",
    "            case One => Fix[RingF](One)\n",
    "            case Elem(x) => Fix[RingF](Elem(x))\n",
    "            case Add(x, y) => Fix[RingF](Add(x, y))\n",
    "            case Mult(x, y) => Fix[RingF](Mult(x, y))\n",
    "        }\n",
    "        \n",
    "        enc.apply(myAlg)\n",
    "\n",
    "    }\n",
    "}"
   ]
  },
  {
   "cell_type": "code",
   "execution_count": 73,
   "id": "9e21cd4f-b60a-442f-b12e-8774ae1d9828",
   "metadata": {},
   "outputs": [
    {
     "data": {
      "text/plain": [
       "\u001b[36mres72\u001b[39m: \u001b[32mRing\u001b[39m = \u001b[33mFix\u001b[39m(\u001b[33mMult\u001b[39m(\u001b[33mFix\u001b[39m(\u001b[33mElem\u001b[39m(\u001b[32m4\u001b[39m)), \u001b[33mFix\u001b[39m(\u001b[33mAdd\u001b[39m(\u001b[33mFix\u001b[39m(\u001b[33mElem\u001b[39m(\u001b[32m3\u001b[39m)), \u001b[33mFix\u001b[39m(\u001b[33mElem\u001b[39m(\u001b[32m1\u001b[39m))))))"
      ]
     },
     "execution_count": 73,
     "metadata": {},
     "output_type": "execute_result"
    }
   ],
   "source": [
    "exp1"
   ]
  },
  {
   "cell_type": "code",
   "execution_count": 74,
   "id": "861db506-beb5-4d70-8df0-afc9aab3de8a",
   "metadata": {},
   "outputs": [
    {
     "data": {
      "text/plain": [
       "\u001b[36mres73\u001b[39m: \u001b[32mBoolean\u001b[39m = true"
      ]
     },
     "execution_count": 74,
     "metadata": {},
     "output_type": "execute_result"
    }
   ],
   "source": [
    "RingIso.from(RingIso.to(exp1)) == exp1"
   ]
  },
  {
   "cell_type": "code",
   "execution_count": null,
   "id": "94ab79ea-4255-4391-85ca-d1852b6e036f",
   "metadata": {},
   "outputs": [],
   "source": []
  }
 ],
 "metadata": {
  "celltoolbar": "Slideshow",
  "kernelspec": {
   "display_name": "Scala",
   "language": "scala",
   "name": "scala"
  },
  "language_info": {
   "codemirror_mode": "text/x-scala",
   "file_extension": ".scala",
   "mimetype": "text/x-scala",
   "name": "scala",
   "nbconvert_exporter": "script",
   "version": "2.12.11"
  }
 },
 "nbformat": 4,
 "nbformat_minor": 5
}
