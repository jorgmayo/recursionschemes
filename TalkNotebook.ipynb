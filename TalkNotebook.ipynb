{
 "cells": [
  {
   "cell_type": "code",
   "execution_count": 1,
   "id": "3df98465-98d2-4972-9496-1743b793f94c",
   "metadata": {
    "slideshow": {
     "slide_type": "slide"
    }
   },
   "outputs": [
    {
     "data": {
      "text/plain": [
       "defined \u001b[32mtrait\u001b[39m \u001b[36mNat\u001b[39m\n",
       "defined \u001b[32mobject\u001b[39m \u001b[36mZero\u001b[39m\n",
       "defined \u001b[32mclass\u001b[39m \u001b[36mSuc\u001b[39m\n",
       "defined \u001b[32mtrait\u001b[39m \u001b[36mList\u001b[39m\n",
       "defined \u001b[32mobject\u001b[39m \u001b[36mNil\u001b[39m\n",
       "defined \u001b[32mclass\u001b[39m \u001b[36mCons\u001b[39m"
      ]
     },
     "execution_count": 1,
     "metadata": {},
     "output_type": "execute_result"
    }
   ],
   "source": [
    "sealed trait Nat\n",
    "final object Zero extends Nat\n",
    "final case class Suc(n: Nat) extends Nat\n",
    "sealed trait List[+A]\n",
    "final object Nil extends List[Nothing]\n",
    "final case class Cons[A](head: A, tail: List[A]) extends List[A]"
   ]
  },
  {
   "cell_type": "code",
   "execution_count": 2,
   "id": "5f7b37f1-18e4-44df-828b-cc25d897efa5",
   "metadata": {
    "slideshow": {
     "slide_type": "slide"
    }
   },
   "outputs": [
    {
     "data": {
      "text/plain": [
       "defined \u001b[32mfunction\u001b[39m \u001b[36mlength\u001b[39m"
      ]
     },
     "execution_count": 2,
     "metadata": {},
     "output_type": "execute_result"
    }
   ],
   "source": [
    "def length[A]: List[A] => Int = {\n",
    "    case Nil => 0\n",
    "    case Cons(h, t) => 1 + length(t)\n",
    "} "
   ]
  },
  {
   "cell_type": "code",
   "execution_count": 1,
   "id": "04c967b7-068b-46cc-bafb-dfbddf8d563a",
   "metadata": {
    "slideshow": {
     "slide_type": "slide"
    }
   },
   "outputs": [
    {
     "data": {
      "text/plain": [
       "defined \u001b[32mtrait\u001b[39m \u001b[36mRing\u001b[39m\n",
       "defined \u001b[32mobject\u001b[39m \u001b[36mZero\u001b[39m\n",
       "defined \u001b[32mobject\u001b[39m \u001b[36mOne\u001b[39m\n",
       "defined \u001b[32mclass\u001b[39m \u001b[36mElem\u001b[39m\n",
       "defined \u001b[32mclass\u001b[39m \u001b[36mAdd\u001b[39m\n",
       "defined \u001b[32mclass\u001b[39m \u001b[36mMult\u001b[39m"
      ]
     },
     "execution_count": 1,
     "metadata": {},
     "output_type": "execute_result"
    }
   ],
   "source": [
    "sealed trait Ring \n",
    "case object Zero extends Ring\n",
    "case object One extends Ring\n",
    "case class Elem(x: Int) extends Ring\n",
    "case class Add(x: Ring, y: Ring) extends Ring\n",
    "case class Mult(x: Ring, y: Ring) extends Ring\n"
   ]
  },
  {
   "cell_type": "code",
   "execution_count": 4,
   "id": "9394f31d-f84f-4d94-b6b0-09d56023d0df",
   "metadata": {},
   "outputs": [
    {
     "data": {
      "text/plain": [
       "defined \u001b[32mfunction\u001b[39m \u001b[36mreduce\u001b[39m"
      ]
     },
     "execution_count": 4,
     "metadata": {},
     "output_type": "execute_result"
    }
   ],
   "source": [
    "def reduce: Ring => Ring = {\n",
    "    case Zero => Zero\n",
    "    case One => One\n",
    "    case Elem(x) => Elem(x)\n",
    "    case Add(x, y) => if (x == y) Mult(reduce(x), Elem(2)) else Add(reduce(x), reduce(y))\n",
    "    case Mult(x, y) => Mult(reduce(x), reduce(y))\n",
    "}"
   ]
  },
  {
   "cell_type": "code",
   "execution_count": 5,
   "id": "0bb7d89b-e90d-466b-9e3b-9cf408c37ee5",
   "metadata": {
    "slideshow": {
     "slide_type": "slide"
    }
   },
   "outputs": [
    {
     "data": {
      "text/plain": [
       "defined \u001b[32mfunction\u001b[39m \u001b[36mtoInt\u001b[39m"
      ]
     },
     "execution_count": 5,
     "metadata": {},
     "output_type": "execute_result"
    }
   ],
   "source": [
    "def toInt: Ring => Int = {\n",
    "    case Zero => 0\n",
    "    case One => 1\n",
    "    case Elem(x) => x\n",
    "    case Add(x, y) => toInt(x) + toInt(y)\n",
    "    case Mult(x, y) => toInt(x) * toInt(y)\n",
    "}"
   ]
  },
  {
   "cell_type": "code",
   "execution_count": 3,
   "id": "69943d7c-f104-4a5e-a6cc-2da436288f75",
   "metadata": {
    "slideshow": {
     "slide_type": "slide"
    }
   },
   "outputs": [
    {
     "data": {
      "text/plain": [
       "defined \u001b[32mtrait\u001b[39m \u001b[36mRingF\u001b[39m\n",
       "defined \u001b[32mobject\u001b[39m \u001b[36mZero\u001b[39m\n",
       "defined \u001b[32mobject\u001b[39m \u001b[36mOne\u001b[39m\n",
       "defined \u001b[32mclass\u001b[39m \u001b[36mElem\u001b[39m\n",
       "defined \u001b[32mclass\u001b[39m \u001b[36mAdd\u001b[39m\n",
       "defined \u001b[32mclass\u001b[39m \u001b[36mMult\u001b[39m"
      ]
     },
     "execution_count": 3,
     "metadata": {},
     "output_type": "execute_result"
    }
   ],
   "source": [
    "sealed trait RingF[+A]\n",
    "case object Zero extends RingF[Nothing]\n",
    "case object One extends RingF[Nothing]\n",
    "case class Elem(x: Int) extends RingF[Nothing]\n",
    "case class Add[A](x: A, y: A) extends RingF[A]\n",
    "case class Mult[A](x:A, y: A) extends RingF[A]\n",
    "\n"
   ]
  },
  {
   "cell_type": "code",
   "execution_count": 4,
   "id": "c1039ac1-b9f0-4e76-ba24-762e56e792dd",
   "metadata": {
    "slideshow": {
     "slide_type": "slide"
    }
   },
   "outputs": [
    {
     "data": {
      "text/plain": [
       "\u001b[36mexpresion1\u001b[39m: \u001b[32mMult\u001b[39m[\u001b[32mProduct\u001b[39m with \u001b[32mSerializable\u001b[39m with \u001b[32mRingF\u001b[39m[\u001b[32mProduct\u001b[39m with \u001b[32mSerializable\u001b[39m with \u001b[32mRingF\u001b[39m[\u001b[32mNothing\u001b[39m]]] = \u001b[33mMult\u001b[39m(\u001b[33mElem\u001b[39m(\u001b[32m4\u001b[39m), \u001b[33mAdd\u001b[39m(\u001b[33mElem\u001b[39m(\u001b[32m3\u001b[39m), One))"
      ]
     },
     "execution_count": 4,
     "metadata": {},
     "output_type": "execute_result"
    }
   ],
   "source": [
    "val expresion1 = Mult(Elem(4), Add(Elem(3), One))"
   ]
  },
  {
   "cell_type": "code",
   "execution_count": 5,
   "id": "07b3965b-3acf-499b-af75-ce7e17c7e4c3",
   "metadata": {
    "slideshow": {
     "slide_type": "slide"
    }
   },
   "outputs": [
    {
     "data": {
      "text/plain": [
       "defined \u001b[32mfunction\u001b[39m \u001b[36mevalToInt\u001b[39m"
      ]
     },
     "execution_count": 5,
     "metadata": {},
     "output_type": "execute_result"
    }
   ],
   "source": [
    "def evalToInt: RingF[Int] => Int = {\n",
    "    x => x match {\n",
    "        case Zero => 0\n",
    "        case One => 1\n",
    "        case Elem(x) => x\n",
    "        case Add(x, y) => x + y\n",
    "        case Mult(x, y) => x * y\n",
    "    }\n",
    "}\n",
    "\n"
   ]
  },
  {
   "cell_type": "code",
   "execution_count": 6,
   "id": "900a0e93-dc4c-4407-9a05-247f6cab13a0",
   "metadata": {
    "slideshow": {
     "slide_type": "slide"
    }
   },
   "outputs": [
    {
     "data": {
      "text/plain": [
       "defined \u001b[32mtrait\u001b[39m \u001b[36mFunctor\u001b[39m\n",
       "\u001b[36mringFunctor\u001b[39m: \u001b[32mAnyRef\u001b[39m with \u001b[32mFunctor\u001b[39m[\u001b[32mRingF\u001b[39m] = ammonite.$sess.cmd5$Helper$$anon$1@1ace59ba"
      ]
     },
     "execution_count": 6,
     "metadata": {},
     "output_type": "execute_result"
    }
   ],
   "source": [
    "trait Functor[F[_]] {\n",
    "    def map[A,B](f: A => B): F[A] => F[B]\n",
    "}\n",
    "\n",
    "implicit val ringFunctor = new Functor[RingF] {\n",
    "    override def map[A, B](f: A => B): RingF[A] => RingF[B] = {\n",
    "        case Zero => Zero\n",
    "        case One => One\n",
    "        case Elem(x) => Elem(x)\n",
    "        case Add(x, y) => Add(f(x), f(y))\n",
    "        case Mult(x, y) => Mult(f(x), f(y))\n",
    "    }\n",
    "}"
   ]
  },
  {
   "cell_type": "code",
   "execution_count": 6,
   "id": "30ca95fb-1648-4981-8fec-f4bcadd6f05c",
   "metadata": {
    "slideshow": {
     "slide_type": "slide"
    }
   },
   "outputs": [
    {
     "data": {
      "text/plain": [
       "defined \u001b[32mfunction\u001b[39m \u001b[36mliftInt\u001b[39m"
      ]
     },
     "execution_count": 6,
     "metadata": {},
     "output_type": "execute_result"
    }
   ],
   "source": [
    "def liftInt: RingF[RingF[Int]] => RingF[Int] = {\n",
    "    ringFunctor.map(evalToInt)\n",
    "}"
   ]
  },
  {
   "cell_type": "code",
   "execution_count": 7,
   "id": "a57d22ef-633a-4ac3-b17e-ac393ba76689",
   "metadata": {},
   "outputs": [
    {
     "data": {
      "text/plain": [
       "\u001b[36mrare\u001b[39m: \u001b[32mAdd\u001b[39m[\u001b[32mElem\u001b[39m] = \u001b[33mAdd\u001b[39m(\u001b[33mElem\u001b[39m(\u001b[32m1\u001b[39m), \u001b[33mElem\u001b[39m(\u001b[32m2\u001b[39m))\n",
       "\u001b[36mres6_1\u001b[39m: \u001b[32mRingF\u001b[39m[\u001b[32mInt\u001b[39m] = \u001b[33mAdd\u001b[39m(\u001b[32m1\u001b[39m, \u001b[32m2\u001b[39m)"
      ]
     },
     "execution_count": 7,
     "metadata": {},
     "output_type": "execute_result"
    }
   ],
   "source": [
    "val rare = Add(Elem(1), Elem(2))\n",
    "liftInt(rare)"
   ]
  },
  {
   "cell_type": "code",
   "execution_count": 7,
   "id": "4969f7d5-47fd-4d5a-8e61-684619a094f6",
   "metadata": {
    "slideshow": {
     "slide_type": "slide"
    }
   },
   "outputs": [
    {
     "data": {
      "text/plain": [
       "defined \u001b[32mclass\u001b[39m \u001b[36mFix\u001b[39m\n",
       "defined \u001b[32mobject\u001b[39m \u001b[36mFix\u001b[39m"
      ]
     },
     "execution_count": 7,
     "metadata": {},
     "output_type": "execute_result"
    }
   ],
   "source": [
    "case class Fix[F[_]](value: F[Fix[F]] )\n",
    "object Fix {\n",
    "  def fix[F[_]](ff: F[Fix[F]]): Fix[F] = new Fix[F](ff)\n",
    "  def unfix[F[_]]: Fix[F] => F[Fix[F]] = f => f.value\n",
    "}"
   ]
  },
  {
   "cell_type": "code",
   "execution_count": 8,
   "id": "53757144-0ad2-434b-8264-03b536a8f1be",
   "metadata": {
    "slideshow": {
     "slide_type": "slide"
    }
   },
   "outputs": [
    {
     "data": {
      "text/plain": [
       "defined \u001b[32mtype\u001b[39m \u001b[36mRing\u001b[39m\n",
       "\u001b[36mzero\u001b[39m: \u001b[32mFix\u001b[39m[\u001b[32mRingF\u001b[39m] = \u001b[33mFix\u001b[39m(Zero)\n",
       "\u001b[36mone\u001b[39m: \u001b[32mFix\u001b[39m[\u001b[32mRingF\u001b[39m] = \u001b[33mFix\u001b[39m(One)\n",
       "defined \u001b[32mfunction\u001b[39m \u001b[36melem\u001b[39m\n",
       "defined \u001b[32mfunction\u001b[39m \u001b[36madd\u001b[39m\n",
       "defined \u001b[32mfunction\u001b[39m \u001b[36mmult\u001b[39m"
      ]
     },
     "execution_count": 8,
     "metadata": {},
     "output_type": "execute_result"
    }
   ],
   "source": [
    "type Ring = Fix[RingF]\n",
    "val zero = Fix[RingF](Zero)\n",
    "val one =  Fix[RingF](One)\n",
    "def elem: Int  => Ring = x => Fix[RingF](Elem(x))\n",
    "def add: (Ring, Ring) => Ring = (x, y) =>  Fix[RingF](Add(x, y))\n",
    "def mult: (Ring, Ring) => Ring = (x, y) =>  Fix[RingF](Mult(x, y))"
   ]
  },
  {
   "cell_type": "code",
   "execution_count": 9,
   "id": "2567b97e-c266-441e-967b-ea45042041a1",
   "metadata": {
    "slideshow": {
     "slide_type": "slide"
    }
   },
   "outputs": [
    {
     "data": {
      "text/plain": [
       "\u001b[36ms\u001b[39m: \u001b[32mRing\u001b[39m = \u001b[33mFix\u001b[39m(\u001b[33mAdd\u001b[39m(\u001b[33mFix\u001b[39m(\u001b[33mElem\u001b[39m(\u001b[32m7\u001b[39m)), \u001b[33mFix\u001b[39m(\u001b[33mElem\u001b[39m(\u001b[32m7\u001b[39m))))\n",
       "\u001b[36mexp1\u001b[39m: \u001b[32mRing\u001b[39m = \u001b[33mFix\u001b[39m(\u001b[33mMult\u001b[39m(\u001b[33mFix\u001b[39m(\u001b[33mElem\u001b[39m(\u001b[32m4\u001b[39m)), \u001b[33mFix\u001b[39m(\u001b[33mAdd\u001b[39m(\u001b[33mFix\u001b[39m(\u001b[33mElem\u001b[39m(\u001b[32m3\u001b[39m)), \u001b[33mFix\u001b[39m(One)))))"
      ]
     },
     "execution_count": 9,
     "metadata": {},
     "output_type": "execute_result"
    }
   ],
   "source": [
    "val s = add(elem(7), elem(7))\n",
    "val exp1 = mult(elem(4), add(elem(3), one))"
   ]
  },
  {
   "cell_type": "code",
   "execution_count": 22,
   "id": "9e6f660e-b033-4a3f-97be-e97a034597db",
   "metadata": {
    "slideshow": {
     "slide_type": "slide"
    }
   },
   "outputs": [
    {
     "data": {
      "text/plain": [
       "defined \u001b[32mfunction\u001b[39m \u001b[36mcata\u001b[39m"
      ]
     },
     "execution_count": 22,
     "metadata": {},
     "output_type": "execute_result"
    }
   ],
   "source": [
    "def cata: Fix[RingF] => Int = {\n",
    "    x => (evalToInt compose ringFunctor.map(cata) compose Fix.unfix)(x)\n",
    "}\n"
   ]
  },
  {
   "cell_type": "code",
   "execution_count": 23,
   "id": "0ba46697-5944-4bdd-aec9-dcd044f0bbfa",
   "metadata": {},
   "outputs": [
    {
     "data": {
      "text/plain": [
       "\u001b[36mres22\u001b[39m: \u001b[32mInt\u001b[39m = \u001b[32m16\u001b[39m"
      ]
     },
     "execution_count": 23,
     "metadata": {},
     "output_type": "execute_result"
    }
   ],
   "source": [
    "cata(exp1)"
   ]
  },
  {
   "cell_type": "code",
   "execution_count": 13,
   "id": "fde3ce7b-2d08-4d37-a78c-2cee6ef2b0f1",
   "metadata": {
    "slideshow": {
     "slide_type": "slide"
    }
   },
   "outputs": [
    {
     "data": {
      "text/plain": [
       "defined \u001b[32mfunction\u001b[39m \u001b[36mcata\u001b[39m"
      ]
     },
     "execution_count": 13,
     "metadata": {},
     "output_type": "execute_result"
    }
   ],
   "source": [
    "def cata[F[_], A](alg: F[A] => A)(implicit F: Functor[F]): Fix[F] => A = {\n",
    "    x => alg(F.map(cata(alg))(Fix.unfix(x)))\n",
    "}"
   ]
  },
  {
   "cell_type": "code",
   "execution_count": 15,
   "id": "dfcdbf72-e24f-402c-904d-51ed92f9a0a4",
   "metadata": {},
   "outputs": [
    {
     "data": {
      "text/plain": [
       "defined \u001b[32mfunction\u001b[39m \u001b[36mcata2\u001b[39m"
      ]
     },
     "execution_count": 20,
     "metadata": {},
     "output_type": "execute_result"
    }
   ],
   "source": [
    "def cata2[F[_], A](alg: F[A] => A)(implicit F: Functor[F]): Fix[F] => A = {\n",
    "    x => (alg compose F.map(cata(alg)) compose Fix.unfix)(x)\n",
    "}"
   ]
  },
  {
   "cell_type": "code",
   "execution_count": 17,
   "id": "ab1eb065-66cb-48b8-9a57-aef7cb06ca3e",
   "metadata": {},
   "outputs": [
    {
     "data": {
      "text/plain": [
       "\u001b[36mres20\u001b[39m: \u001b[32mInt\u001b[39m = \u001b[32m16\u001b[39m"
      ]
     },
     "execution_count": 21,
     "metadata": {},
     "output_type": "execute_result"
    }
   ],
   "source": [
    "cata2(evalToInt)(ringFunctor)(exp1)"
   ]
  },
  {
   "cell_type": "code",
   "execution_count": 20,
   "id": "b7913f97-8305-4232-87db-d2f2d9dafe17",
   "metadata": {
    "slideshow": {
     "slide_type": "slide"
    }
   },
   "outputs": [
    {
     "data": {
      "text/plain": [
       "defined \u001b[32mfunction\u001b[39m \u001b[36mrecursiveEvalToInt\u001b[39m\n",
       "\u001b[36mres19_1\u001b[39m: \u001b[32mInt\u001b[39m = \u001b[32m16\u001b[39m"
      ]
     },
     "execution_count": 20,
     "metadata": {},
     "output_type": "execute_result"
    }
   ],
   "source": [
    "def recursiveEvalToInt = cata(evalToInt)\n",
    "recursiveEvalToInt(exp1)"
   ]
  },
  {
   "cell_type": "code",
   "execution_count": 19,
   "id": "eb871f8e-bc7e-4567-9c72-288fceedcb91",
   "metadata": {},
   "outputs": [
    {
     "data": {
      "text/plain": [
       "defined \u001b[32mtrait\u001b[39m \u001b[36mListF\u001b[39m\n",
       "defined \u001b[32mtrait\u001b[39m \u001b[36mList\u001b[39m\n",
       "defined \u001b[32mobject\u001b[39m \u001b[36mNil\u001b[39m\n",
       "defined \u001b[32mclass\u001b[39m \u001b[36mCons\u001b[39m"
      ]
     },
     "execution_count": 19,
     "metadata": {},
     "output_type": "execute_result"
    }
   ],
   "source": [
    "/**h\n",
    "Repasar esto para que funcione\n",
    "**/\n",
    "sealed trait ListF[+A, +B]\n",
    "sealed trait List[+A] extends ListF[A, Fix[List]]\n",
    "final object Nil extends ListF[Nothing, Nothing]\n",
    "final case class Cons[A, B](head: A, tail: B) extends ListF[A, B]"
   ]
  },
  {
   "cell_type": "code",
   "execution_count": 20,
   "id": "ba3cbdbb-fa08-46bb-bd97-f7ea161c61e4",
   "metadata": {},
   "outputs": [
    {
     "data": {
      "text/plain": [
       "defined \u001b[32mfunction\u001b[39m \u001b[36mfindDivisorsOf\u001b[39m"
      ]
     },
     "execution_count": 20,
     "metadata": {},
     "output_type": "execute_result"
    }
   ],
   "source": [
    "def findDivisorsOf(r: Int): RingF[Int] = {\n",
    "    def loop(n: Int): RingF[Int] = {\n",
    "        n match {\n",
    "            case 0 => Zero\n",
    "            case 1 => One\n",
    "            case x => \n",
    "                if (x >= r) Elem(x)\n",
    "                else if (r%x == 0) Mult(r/x, x) \n",
    "                else loop(n+1)\n",
    "        }\n",
    "    }\n",
    "    loop(2)\n",
    "}"
   ]
  },
  {
   "cell_type": "code",
   "execution_count": 21,
   "id": "9d85e6f5-5161-4551-8348-d0ac02e2b6dc",
   "metadata": {},
   "outputs": [
    {
     "data": {
      "text/plain": [
       "\u001b[36mres20_0\u001b[39m: \u001b[32mRingF\u001b[39m[\u001b[32mInt\u001b[39m] = \u001b[33mMult\u001b[39m(\u001b[32m3\u001b[39m, \u001b[32m2\u001b[39m)\n",
       "\u001b[36mres20_1\u001b[39m: \u001b[32mRingF\u001b[39m[\u001b[32mInt\u001b[39m] = \u001b[33mMult\u001b[39m(\u001b[32m6\u001b[39m, \u001b[32m2\u001b[39m)"
      ]
     },
     "execution_count": 21,
     "metadata": {},
     "output_type": "execute_result"
    }
   ],
   "source": [
    "findDivisorsOf(6)\n",
    "findDivisorsOf(12)"
   ]
  },
  {
   "cell_type": "code",
   "execution_count": 22,
   "id": "90fdb3d9-09e9-4e83-a278-600c0eae879a",
   "metadata": {},
   "outputs": [
    {
     "data": {
      "text/plain": [
       "defined \u001b[32mfunction\u001b[39m \u001b[36mf1\u001b[39m\n",
       "defined \u001b[32mfunction\u001b[39m \u001b[36mfind\u001b[39m"
      ]
     },
     "execution_count": 22,
     "metadata": {},
     "output_type": "execute_result"
    }
   ],
   "source": [
    "def f1: RingF[Int] => RingF[RingF[Int]] = ringFunctor.map(findDivisorsOf)\n",
    "def find: Int => RingF[RingF[Int]] = {\n",
    "    x => f1(findDivisorsOf(x))\n",
    "}"
   ]
  },
  {
   "cell_type": "code",
   "execution_count": 23,
   "id": "7d41ec0c-ea68-4b95-a7be-b1e128d66fc5",
   "metadata": {},
   "outputs": [
    {
     "data": {
      "text/plain": [
       "\u001b[36mres22\u001b[39m: \u001b[32mRingF\u001b[39m[\u001b[32mRingF\u001b[39m[\u001b[32mInt\u001b[39m]] = \u001b[33mMult\u001b[39m(\u001b[33mMult\u001b[39m(\u001b[32m2\u001b[39m, \u001b[32m2\u001b[39m), \u001b[33mElem\u001b[39m(\u001b[32m2\u001b[39m))"
      ]
     },
     "execution_count": 23,
     "metadata": {},
     "output_type": "execute_result"
    }
   ],
   "source": [
    "find(8)"
   ]
  },
  {
   "cell_type": "code",
   "execution_count": 24,
   "id": "60d0796c-6152-451f-b403-2c0307917dbf",
   "metadata": {},
   "outputs": [
    {
     "data": {
      "text/plain": [
       "defined \u001b[32mfunction\u001b[39m \u001b[36mana\u001b[39m"
      ]
     },
     "execution_count": 24,
     "metadata": {},
     "output_type": "execute_result"
    }
   ],
   "source": [
    "def ana[F[_], A](coalg: A => F[A])(implicit F: Functor[F]): A => Fix[F] = {\n",
    "    x => Fix((F.map(ana(coalg))(coalg(x))))\n",
    "}"
   ]
  },
  {
   "cell_type": "code",
   "execution_count": 25,
   "id": "16c8f5f6-10ca-4563-b626-4357ed9238a2",
   "metadata": {},
   "outputs": [
    {
     "data": {
      "text/plain": [
       "\u001b[36mexpression3\u001b[39m: \u001b[32mFix\u001b[39m[\u001b[32mRingF\u001b[39m] = \u001b[33mFix\u001b[39m(\n",
       "  \u001b[33mMult\u001b[39m(\u001b[33mFix\u001b[39m(\u001b[33mMult\u001b[39m(\u001b[33mFix\u001b[39m(\u001b[33mElem\u001b[39m(\u001b[32m3\u001b[39m)), \u001b[33mFix\u001b[39m(\u001b[33mElem\u001b[39m(\u001b[32m2\u001b[39m)))), \u001b[33mFix\u001b[39m(\u001b[33mElem\u001b[39m(\u001b[32m2\u001b[39m)))\n",
       ")"
      ]
     },
     "execution_count": 25,
     "metadata": {},
     "output_type": "execute_result"
    }
   ],
   "source": [
    "val expression3 = ana(findDivisorsOf)(ringFunctor)(12)"
   ]
  },
  {
   "cell_type": "code",
   "execution_count": 26,
   "id": "c9caa2ba-f76a-460e-abd5-691031850e02",
   "metadata": {},
   "outputs": [
    {
     "data": {
      "text/plain": [
       "defined \u001b[32mfunction\u001b[39m \u001b[36mevalToStr\u001b[39m"
      ]
     },
     "execution_count": 26,
     "metadata": {},
     "output_type": "execute_result"
    }
   ],
   "source": [
    "def evalToStr: RingF[String] => String = {\n",
    "    x => x match {\n",
    "        case Zero => \"0\"\n",
    "        case One => \"1\"\n",
    "        case Elem(x) => x.toString\n",
    "        case Add(x, y) => x.toString + \" + \" + y.toString\n",
    "        case Mult(x, y) => x.toString + \" * \" + y.toString\n",
    "    }\n",
    "}"
   ]
  },
  {
   "cell_type": "code",
   "execution_count": 27,
   "id": "724b82d2-186a-4eb2-85e5-a14cc1f6f220",
   "metadata": {},
   "outputs": [
    {
     "data": {
      "text/plain": [
       "\u001b[36mres26\u001b[39m: \u001b[32mString\u001b[39m = \u001b[32m\"3 * 2 * 2\"\u001b[39m"
      ]
     },
     "execution_count": 27,
     "metadata": {},
     "output_type": "execute_result"
    }
   ],
   "source": [
    "cata(evalToStr)(ringFunctor)(ana(findDivisorsOf)(ringFunctor)(12))"
   ]
  },
  {
   "cell_type": "code",
   "execution_count": 28,
   "id": "8439c102-fb59-46af-a97d-983b4468e5f0",
   "metadata": {},
   "outputs": [
    {
     "data": {
      "image/png": "[encoded data removed]"
     },
     "metadata": {},
     "output_type": "display_data"
    },
    {
     "data": {
      "text/plain": [
       "\u001b[32mimport \u001b[39m\u001b[36m$ivy.$                                \n",
       "\n",
       "\u001b[39m"
      ]
     },
     "execution_count": 28,
     "metadata": {},
     "output_type": "execute_result"
    }
   ],
   "source": [
    "import $ivy.`io.github.stanch::reftree:1.3.0`\n",
    "\n",
    "{{\n",
    "  import reftree.render._, reftree.diagram._\n",
    "  import reftree.contrib.SimplifiedInstances.string\n",
    "  val renderer = Renderer(renderingOptions = RenderingOptions(density = 60))\n",
    "    \n",
    "  renderer.render(\"examples/example5\", Diagram.sourceCodeCaption(expression3))\n",
    "}}\n",
    "Image.fromFile(\"examples/example5.png\")"
   ]
  },
  {
   "cell_type": "code",
   "execution_count": 29,
   "id": "5765dfe3-f52f-41de-ae8c-2c53cd4bb2c6",
   "metadata": {},
   "outputs": [
    {
     "data": {
      "text/plain": [
       "defined \u001b[32mtrait\u001b[39m \u001b[36mListF\u001b[39m\n",
       "defined \u001b[32mobject\u001b[39m \u001b[36mNilF\u001b[39m\n",
       "defined \u001b[32mclass\u001b[39m \u001b[36mConsF\u001b[39m"
      ]
     },
     "execution_count": 29,
     "metadata": {},
     "output_type": "execute_result"
    }
   ],
   "source": [
    "sealed trait ListF[+A] \n",
    "case object NilF extends ListF[Nothing]\n",
    "case class ConsF[A](head: String, tail: A) extends ListF[A]"
   ]
  },
  {
   "cell_type": "code",
   "execution_count": 30,
   "id": "f89405c6-28a6-4b6b-bc5a-b09709e58dd6",
   "metadata": {},
   "outputs": [
    {
     "data": {
      "text/plain": [
       "\u001b[36mlistOfStringFunctor\u001b[39m: \u001b[32mAnyRef\u001b[39m with \u001b[32mFunctor\u001b[39m[\u001b[32mListF\u001b[39m] = ammonite.$sess.cmd29$Helper$$anon$1@3858553e"
      ]
     },
     "execution_count": 30,
     "metadata": {},
     "output_type": "execute_result"
    }
   ],
   "source": [
    "val listOfStringFunctor = new Functor[ListF] {\n",
    " override def map[A, B](f: A => B): ListF[A] => ListF[B] = {\n",
    "     case NilF => NilF\n",
    "     case ConsF(h, t) => ConsF(h, f(t))\n",
    " }   \n",
    "}"
   ]
  },
  {
   "cell_type": "code",
   "execution_count": 31,
   "id": "1375145e-ab2c-4f40-8fe1-96ffb5095d63",
   "metadata": {},
   "outputs": [
    {
     "data": {
      "text/plain": [
       "defined \u001b[32mtype\u001b[39m \u001b[36mListString\u001b[39m\n",
       "\u001b[36mnil\u001b[39m: \u001b[32mFix\u001b[39m[\u001b[32mListF\u001b[39m] = \u001b[33mFix\u001b[39m(NilF)\n",
       "defined \u001b[32mfunction\u001b[39m \u001b[36mcons\u001b[39m"
      ]
     },
     "execution_count": 31,
     "metadata": {},
     "output_type": "execute_result"
    }
   ],
   "source": [
    "type ListString = Fix[ListF]\n",
    "val nil = Fix[ListF](NilF)\n",
    "def cons : (String, ListString) => ListString = (h, t) =>  Fix[ListF](ConsF(h, t))"
   ]
  },
  {
   "cell_type": "code",
   "execution_count": 32,
   "id": "4caa648d-aec1-452a-8d37-1163a3359b43",
   "metadata": {},
   "outputs": [
    {
     "data": {
      "text/plain": [
       "\u001b[36mfixL1\u001b[39m: \u001b[32mListString\u001b[39m = \u001b[33mFix\u001b[39m(\u001b[33mConsF\u001b[39m(\u001b[32m\"a\"\u001b[39m, \u001b[33mFix\u001b[39m(\u001b[33mConsF\u001b[39m(\u001b[32m\"b\"\u001b[39m, \u001b[33mFix\u001b[39m(\u001b[33mConsF\u001b[39m(\u001b[32m\"c\"\u001b[39m, \u001b[33mFix\u001b[39m(NilF)))))))"
      ]
     },
     "execution_count": 32,
     "metadata": {},
     "output_type": "execute_result"
    }
   ],
   "source": [
    "val fixL1 = cons(\"a\", cons(\"b\", cons(\"c\", nil)))"
   ]
  },
  {
   "cell_type": "code",
   "execution_count": 33,
   "id": "2c3283af-cdaf-42f8-bd12-9f9ae6996a5a",
   "metadata": {},
   "outputs": [
    {
     "data": {
      "text/plain": [
       "defined \u001b[32mfunction\u001b[39m \u001b[36mlength\u001b[39m\n",
       "\u001b[36mres32_1\u001b[39m: \u001b[32mInt\u001b[39m = \u001b[32m3\u001b[39m"
      ]
     },
     "execution_count": 33,
     "metadata": {},
     "output_type": "execute_result"
    }
   ],
   "source": [
    "def length: ListF[Int] => Int = {\n",
    "    case NilF => 0\n",
    "    case ConsF(h, t) => t + 1\n",
    "}\n",
    "\n",
    "cata(length)(listOfStringFunctor)(fixL1)"
   ]
  },
  {
   "cell_type": "code",
   "execution_count": 34,
   "id": "d3b13ce0-8d8e-44ed-8a2b-6ff7b983dd80",
   "metadata": {},
   "outputs": [
    {
     "data": {
      "text/plain": [
       "\u001b[36ml1\u001b[39m: \u001b[32mcollection\u001b[39m.\u001b[32mimmutable\u001b[39m.\u001b[32mList\u001b[39m[\u001b[32mString\u001b[39m] = \u001b[33mList\u001b[39m(\u001b[32m\"a\"\u001b[39m, \u001b[32m\"b\"\u001b[39m, \u001b[32m\"c\"\u001b[39m)"
      ]
     },
     "execution_count": 34,
     "metadata": {},
     "output_type": "execute_result"
    }
   ],
   "source": [
    "val l1 = List(\"a\", \"b\", \"c\")"
   ]
  },
  {
   "cell_type": "code",
   "execution_count": null,
   "id": "30a08f9f-49ff-4b6e-b288-aefd24de57ab",
   "metadata": {},
   "outputs": [],
   "source": []
  },
  {
   "cell_type": "code",
   "execution_count": 35,
   "id": "dc2c1efb-6a73-4996-9926-d66bdbfc5742",
   "metadata": {},
   "outputs": [
    {
     "data": {
      "image/png": "[encoded data removed]"
     },
     "metadata": {},
     "output_type": "display_data"
    },
    {
     "data": {
      "text/plain": [
       "\u001b[32mimport \u001b[39m\u001b[36m$ivy.$                                \n",
       "\n",
       "\u001b[39m"
      ]
     },
     "execution_count": 35,
     "metadata": {},
     "output_type": "execute_result"
    }
   ],
   "source": [
    "import $ivy.`io.github.stanch::reftree:1.3.0`\n",
    "\n",
    "{{\n",
    "  import reftree.render._, reftree.diagram._\n",
    "  import reftree.contrib.SimplifiedInstances.string\n",
    "  val renderer = Renderer(renderingOptions = RenderingOptions(density = 60))\n",
    "    \n",
    "  renderer.render(\"examples/example7\", Diagram.sourceCodeCaption(l1))\n",
    "}}\n",
    "Image.fromFile(\"examples/example7.png\")"
   ]
  },
  {
   "cell_type": "code",
   "execution_count": 36,
   "id": "16bf9d5b-7f38-4d18-a6e0-17e475dd8ebe",
   "metadata": {},
   "outputs": [
    {
     "data": {
      "text/plain": [
       "\u001b[36mres35\u001b[39m: \u001b[32mInt\u001b[39m = \u001b[32m3\u001b[39m"
      ]
     },
     "execution_count": 36,
     "metadata": {},
     "output_type": "execute_result"
    }
   ],
   "source": [
    "l1.foldLeft(0)((h, t) => h + 1)"
   ]
  },
  {
   "cell_type": "code",
   "execution_count": 37,
   "id": "d515570d-5e3e-4721-ada3-b23bfbcb4fcc",
   "metadata": {},
   "outputs": [
    {
     "data": {
      "image/png": "[encoded data removed]"
     },
     "metadata": {},
     "output_type": "display_data"
    },
    {
     "data": {
      "text/plain": [
       "\u001b[32mimport \u001b[39m\u001b[36m$ivy.$                                \n",
       "\n",
       "\u001b[39m"
      ]
     },
     "execution_count": 37,
     "metadata": {},
     "output_type": "execute_result"
    }
   ],
   "source": [
    "import $ivy.`io.github.stanch::reftree:1.3.0`\n",
    "\n",
    "{{\n",
    "  import reftree.render._, reftree.diagram._\n",
    "  import reftree.contrib.SimplifiedInstances.string\n",
    "  val renderer = Renderer(renderingOptions = RenderingOptions(density = 60))\n",
    "    \n",
    "  renderer.render(\"examples/example8\", Diagram.sourceCodeCaption(fixL1))\n",
    "}}\n",
    "Image.fromFile(\"examples/example8.png\")"
   ]
  },
  {
   "cell_type": "code",
   "execution_count": 38,
   "id": "848a7ebc-2683-4c49-9561-3131ea787e8d",
   "metadata": {},
   "outputs": [
    {
     "data": {
      "text/plain": [
       "defined \u001b[32mfunction\u001b[39m \u001b[36mmyFoldLeft\u001b[39m"
      ]
     },
     "execution_count": 38,
     "metadata": {},
     "output_type": "execute_result"
    }
   ],
   "source": [
    "def myFoldLeft[A](baseValue: A)(evaluator: (String, A) => A)(l: ListString): A = {\n",
    "    def alg: ListF[A] => A = {\n",
    "        case NilF => baseValue\n",
    "        case ConsF(h, t) => evaluator(h, t)\n",
    "        }\n",
    "    cata(alg)(listOfStringFunctor)(l)\n",
    "\n",
    "}"
   ]
  },
  {
   "cell_type": "code",
   "execution_count": 39,
   "id": "556cef84-351a-4cb8-9a11-ead56d3cc471",
   "metadata": {},
   "outputs": [
    {
     "data": {
      "text/plain": [
       "\u001b[36mres38\u001b[39m: \u001b[32mInt\u001b[39m = \u001b[32m3\u001b[39m"
      ]
     },
     "execution_count": 39,
     "metadata": {},
     "output_type": "execute_result"
    }
   ],
   "source": [
    "myFoldLeft(0)((x, y) => y + 1)(fixL1)"
   ]
  },
  {
   "cell_type": "code",
   "execution_count": 40,
   "id": "357f1883-dc49-45a2-adb9-d06ac3d832f9",
   "metadata": {},
   "outputs": [
    {
     "data": {
      "text/plain": [
       "defined \u001b[32mfunction\u001b[39m \u001b[36mhylo\u001b[39m"
      ]
     },
     "execution_count": 40,
     "metadata": {},
     "output_type": "execute_result"
    }
   ],
   "source": [
    "def hylo[A, B, F[_]](ev1: A => F[A])(ev2: F[B] => B)(implicit functor: Functor[F]): A => B = {\n",
    "    x => cata(ev2)(functor)((ana(ev1)(functor)(x)))\n",
    "}"
   ]
  },
  {
   "cell_type": "code",
   "execution_count": 41,
   "id": "43d87cbb-0f6a-4863-b445-2ea276e36f21",
   "metadata": {},
   "outputs": [
    {
     "data": {
      "text/plain": [
       "\u001b[36mres40\u001b[39m: \u001b[32mInt\u001b[39m = \u001b[32m12\u001b[39m"
      ]
     },
     "execution_count": 41,
     "metadata": {},
     "output_type": "execute_result"
    }
   ],
   "source": [
    "hylo(findDivisorsOf)(evalToInt)(ringFunctor)(12)"
   ]
  },
  {
   "cell_type": "code",
   "execution_count": 42,
   "id": "b12d3c95-3b43-44da-afed-7aabcdce59a2",
   "metadata": {},
   "outputs": [
    {
     "data": {
      "text/plain": [
       "defined \u001b[32mfunction\u001b[39m \u001b[36mprettyPrint\u001b[39m"
      ]
     },
     "execution_count": 42,
     "metadata": {},
     "output_type": "execute_result"
    }
   ],
   "source": [
    "def prettyPrint: RingF[String] => String = {\n",
    "    case Zero => \"0\"\n",
    "    case One => \"1\"\n",
    "    case Elem(x: Int) => x.toString\n",
    "    case Add(x, y) => x + \" + \" + y\n",
    "    case Mult(x, y) => x + \" * \" + y\n",
    "}"
   ]
  },
  {
   "cell_type": "code",
   "execution_count": 43,
   "id": "e60d3718-49ac-4e13-a92f-62a85c27d1ec",
   "metadata": {},
   "outputs": [
    {
     "data": {
      "text/plain": [
       "\u001b[36mres42\u001b[39m: \u001b[32mString\u001b[39m = \u001b[32m\"3 * 2 * 2\"\u001b[39m"
      ]
     },
     "execution_count": 43,
     "metadata": {},
     "output_type": "execute_result"
    }
   ],
   "source": [
    "hylo(findDivisorsOf)(prettyPrint)(ringFunctor)(12)"
   ]
  },
  {
   "cell_type": "code",
   "execution_count": null,
   "id": "138cf26a-4566-4c4a-9db9-549a6b6e825c",
   "metadata": {},
   "outputs": [],
   "source": []
  },
  {
   "cell_type": "code",
   "execution_count": 44,
   "id": "110b633c-ba6f-4b78-bbf3-944cf674437e",
   "metadata": {},
   "outputs": [
    {
     "data": {
      "text/plain": [
       "defined \u001b[32mfunction\u001b[39m \u001b[36moptimize\u001b[39m"
      ]
     },
     "execution_count": 44,
     "metadata": {},
     "output_type": "execute_result"
    }
   ],
   "source": [
    "def optimize[A]: RingF[Fix[RingF]] => Fix[RingF] = {\n",
    "    case Add(x, y) => if (x == y) Fix[RingF](Mult(y, Fix[RingF](Elem(2)))) else Fix[RingF](Add(x,y))\n",
    "    case other => Fix[RingF](other)\n",
    "}"
   ]
  },
  {
   "cell_type": "code",
   "execution_count": 45,
   "id": "26a970e3-4413-43a4-9c71-ec1ad46fdb2e",
   "metadata": {},
   "outputs": [
    {
     "data": {
      "text/plain": [
       "\u001b[36ma\u001b[39m: \u001b[32mRing\u001b[39m = \u001b[33mFix\u001b[39m(\n",
       "  \u001b[33mAdd\u001b[39m(\n",
       "    \u001b[33mFix\u001b[39m(\u001b[33mAdd\u001b[39m(\u001b[33mFix\u001b[39m(\u001b[33mElem\u001b[39m(\u001b[32m3\u001b[39m)), \u001b[33mFix\u001b[39m(\u001b[33mElem\u001b[39m(\u001b[32m3\u001b[39m)))),\n",
       "    \u001b[33mFix\u001b[39m(\u001b[33mAdd\u001b[39m(\u001b[33mFix\u001b[39m(\u001b[33mElem\u001b[39m(\u001b[32m3\u001b[39m)), \u001b[33mFix\u001b[39m(\u001b[33mElem\u001b[39m(\u001b[32m3\u001b[39m))))\n",
       "  )\n",
       ")"
      ]
     },
     "execution_count": 45,
     "metadata": {},
     "output_type": "execute_result"
    }
   ],
   "source": [
    "val a = add(add(elem(3), elem(3)), add(elem(3), elem(3)))"
   ]
  },
  {
   "cell_type": "code",
   "execution_count": 46,
   "id": "7a722da8-620f-4d5f-beec-892decfb270c",
   "metadata": {},
   "outputs": [
    {
     "data": {
      "text/plain": [
       "\u001b[36mres45\u001b[39m: \u001b[32mString\u001b[39m = \u001b[32m\"3 * 2 * 2\"\u001b[39m"
      ]
     },
     "execution_count": 46,
     "metadata": {},
     "output_type": "execute_result"
    }
   ],
   "source": [
    "cata(prettyPrint)(ringFunctor)(cata(optimize)(ringFunctor)(a))"
   ]
  },
  {
   "cell_type": "code",
   "execution_count": 47,
   "id": "e2c88824-b37c-4b66-ac37-805c533b091e",
   "metadata": {},
   "outputs": [
    {
     "data": {
      "text/plain": [
       "defined \u001b[32mtrait\u001b[39m \u001b[36mLList\u001b[39m\n",
       "defined \u001b[32mobject\u001b[39m \u001b[36mNilL\u001b[39m\n",
       "defined \u001b[32mclass\u001b[39m \u001b[36mConsL\u001b[39m"
      ]
     },
     "execution_count": 47,
     "metadata": {},
     "output_type": "execute_result"
    }
   ],
   "source": [
    "sealed trait LList[+A, +B]\n",
    "object  NilL extends LList[Nothing, Nothing]\n",
    "case class ConsL[A, B](h: A, t: B) extends LList[A, B]"
   ]
  },
  {
   "cell_type": "code",
   "execution_count": 48,
   "id": "c432776c-e7d7-4965-8cd7-6aa3d8dd02b1",
   "metadata": {},
   "outputs": [
    {
     "data": {
      "text/plain": [
       "defined \u001b[32mclass\u001b[39m \u001b[36mFix2\u001b[39m"
      ]
     },
     "execution_count": 48,
     "metadata": {},
     "output_type": "execute_result"
    }
   ],
   "source": [
    "case class Fix2[F[_, _]](value: F[_, Fix2[F]])"
   ]
  },
  {
   "cell_type": "code",
   "execution_count": 49,
   "id": "d5ed3d23-dbe2-4c78-a242-db2f86bb5564",
   "metadata": {},
   "outputs": [
    {
     "data": {
      "text/plain": [
       "defined \u001b[32mtype\u001b[39m \u001b[36mMlist\u001b[39m\n",
       "\u001b[36mnil\u001b[39m: \u001b[32mFix2\u001b[39m[\u001b[32mLList\u001b[39m] = \u001b[33mFix2\u001b[39m(ammonite.$sess.cmd46$Helper$NilL$@255e2dd)\n",
       "defined \u001b[32mfunction\u001b[39m \u001b[36mcons\u001b[39m"
      ]
     },
     "execution_count": 49,
     "metadata": {},
     "output_type": "execute_result"
    }
   ],
   "source": [
    "type Mlist = Fix2[LList]\n",
    "val nil = Fix2[LList](NilL)\n",
    "def cons[A]: (A, Mlist) => Mlist = (x, y) => Fix2[LList](ConsL(x, y))"
   ]
  },
  {
   "cell_type": "code",
   "execution_count": 50,
   "id": "f559db8c-161b-4ca7-b0a0-6950cc786e2b",
   "metadata": {},
   "outputs": [
    {
     "data": {
      "text/plain": [
       "\u001b[36mres49\u001b[39m: \u001b[32mMlist\u001b[39m = \u001b[33mFix2\u001b[39m(\n",
       "  \u001b[33mConsL\u001b[39m(\u001b[32m\"A\"\u001b[39m, \u001b[33mFix2\u001b[39m(\u001b[33mConsL\u001b[39m(\u001b[32m7\u001b[39m, \u001b[33mFix2\u001b[39m(ammonite.$sess.cmd46$Helper$NilL$@255e2dd))))\n",
       ")"
      ]
     },
     "execution_count": 50,
     "metadata": {},
     "output_type": "execute_result"
    }
   ],
   "source": [
    "cons(\"A\", cons(7, nil))"
   ]
  },
  {
   "cell_type": "code",
   "execution_count": 51,
   "id": "629dceac-aca8-4d67-9290-977f8fff4dbb",
   "metadata": {},
   "outputs": [
    {
     "data": {
      "text/plain": [
       "\u001b[32mimport \u001b[39m\u001b[36mreftree.render._\n",
       "\u001b[39m\n",
       "\u001b[32mimport \u001b[39m\u001b[36mreftree.diagram._\n",
       "\u001b[39m\n",
       "\u001b[32mimport \u001b[39m\u001b[36mjava.nio.file.Paths\n",
       "\n",
       "\u001b[39m\n",
       "\u001b[36mrenderer\u001b[39m: \u001b[32mRenderer\u001b[39m = \u001b[33mRenderer\u001b[39m(\n",
       "  \u001b[33mRenderingOptions\u001b[39m(\n",
       "    \u001b[32m0.8\u001b[39m,\n",
       "    \u001b[33mWrappedArray\u001b[39m(\n",
       "      \u001b[33mRGBA\u001b[39m(\u001b[32m0.06274509803921569\u001b[39m, \u001b[32m0.3058823529411765\u001b[39m, \u001b[32m0.5450980392156862\u001b[39m, \u001b[32m1.0\u001b[39m),\n",
       "      \u001b[33mRGBA\u001b[39m(\u001b[32m0.13333333333333333\u001b[39m, \u001b[32m0.5450980392156862\u001b[39m, \u001b[32m0.13333333333333333\u001b[39m, \u001b[32m1.0\u001b[39m),\n",
       "      \u001b[33mRGBA\u001b[39m(\u001b[32m0.803921568627451\u001b[39m, \u001b[32m0.3568627450980392\u001b[39m, \u001b[32m0.27058823529411763\u001b[39m, \u001b[32m1.0\u001b[39m)\n",
       "    ),\n",
       "    \u001b[32m\"Source Code Pro\"\u001b[39m,\n",
       "    \u001b[32m60\u001b[39m\n",
       "  ),\n",
       "  \u001b[33mAnimationOptions\u001b[39m(2 seconds, 1 second, \u001b[32m9\u001b[39m, true, \u001b[32m0\u001b[39m),\n",
       "  examples/guide,\n",
       "  \u001b[32m\"png\"\u001b[39m\n",
       ")\n",
       "\u001b[32mimport \u001b[39m\u001b[36mscala.collection.immutable.Queue\n",
       "\u001b[39m"
      ]
     },
     "execution_count": 51,
     "metadata": {},
     "output_type": "execute_result"
    }
   ],
   "source": [
    "import reftree.render._\n",
    "import reftree.diagram._\n",
    "import java.nio.file.Paths\n",
    "\n",
    "val renderer = Renderer(\n",
    "  renderingOptions = RenderingOptions(density = 60),\n",
    "  directory = Paths.get(\"examples\", \"guide\")\n",
    ")\n",
    "import scala.collection.immutable.Queue\n"
   ]
  },
  {
   "cell_type": "code",
   "execution_count": 52,
   "id": "015658ee-df12-4119-af55-aa2203969c55",
   "metadata": {},
   "outputs": [],
   "source": [
    "renderer.render(\"diagram2\",Diagram(Queue(1)).withCaption(\"one\") + Diagram(Queue(2)).withCaption(\"two\"))"
   ]
  },
  {
   "cell_type": "code",
   "execution_count": 53,
   "id": "7aa86491-9ef4-46d4-9c18-d4c734314c08",
   "metadata": {},
   "outputs": [
    {
     "data": {
      "text/plain": [
       "\u001b[36mz\u001b[39m: \u001b[32mRing\u001b[39m = \u001b[33mFix\u001b[39m(\u001b[33mMult\u001b[39m(\u001b[33mFix\u001b[39m(\u001b[33mElem\u001b[39m(\u001b[32m2\u001b[39m)), \u001b[33mFix\u001b[39m(\u001b[33mAdd\u001b[39m(\u001b[33mFix\u001b[39m(\u001b[33mElem\u001b[39m(\u001b[32m2\u001b[39m)), \u001b[33mFix\u001b[39m(\u001b[33mElem\u001b[39m(\u001b[32m3\u001b[39m))))))"
      ]
     },
     "execution_count": 53,
     "metadata": {},
     "output_type": "execute_result"
    }
   ],
   "source": [
    "val z = mult(elem(2), add(elem(2), elem(3)))\n",
    "//renderer.render(\"animation2\", Animation.startWith(z.value).iterate(x => x).build())"
   ]
  },
  {
   "cell_type": "code",
   "execution_count": 54,
   "id": "b4ebb8a0-56f6-446f-bd60-8d693d7ac932",
   "metadata": {},
   "outputs": [
    {
     "data": {
      "text/plain": [
       "defined \u001b[32mfunction\u001b[39m \u001b[36moptimiz\u001b[39m\n",
       "defined \u001b[32mfunction\u001b[39m \u001b[36munoptimize\u001b[39m"
      ]
     },
     "execution_count": 54,
     "metadata": {},
     "output_type": "execute_result"
    }
   ],
   "source": [
    "def optimiz: RingF[Fix[RingF]] => Fix[RingF] = {\n",
    "    case Add(x, y) => x match {\n",
    "        case Fix(Elem(z)) => y match {\n",
    "            case Fix(Elem(w)) =>Fix[RingF](Elem(z+w))\n",
    "            case Fix(other) => Fix[RingF](Add(x, optimiz(y.value)))\n",
    "        }\n",
    "        case Fix(other) => optimiz(other)\n",
    "    }\n",
    "    case Mult(x, y) => x match {\n",
    "        case Fix(Elem(z)) => y match {\n",
    "            case Fix(Elem(w)) =>Fix[RingF](Elem(z*w))\n",
    "            case Fix(other) => Fix[RingF](Mult(x, optimiz(y.value)))\n",
    "        }\n",
    "        case Fix(other) => optimiz(other)\n",
    "    }\n",
    "    case other => optimiz(other)\n",
    "}\n",
    "\n",
    "def unoptimize: RingF[Fix[RingF]] => Fix[RingF] = {\n",
    "    case Elem(x) => {\n",
    "        val y = findDivisorsOf(x)\n",
    "        y match{ \n",
    "            case Elem(z) => elem(z)\n",
    "            case Mult(a, b) => mult(elem(a), elem(b))\n",
    "        }\n",
    "        \n",
    "    }\n",
    "    case Mult(x, y) => x match {\n",
    "        case Fix(Elem(z)) => mult(unoptimize(Elem(z)), y)\n",
    "        //case Fix(other) => unoptimize(other)\n",
    "    }\n",
    "    y match {\n",
    "        case Fix(Elem(z)) => unoptimize(Elem(z))\n",
    "        case Fix(other) => unoptimize(other)\n",
    "    }\n",
    "    case other => unoptimize(other)\n",
    "}"
   ]
  },
  {
   "cell_type": "code",
   "execution_count": 55,
   "id": "d0360db2-8913-4dae-a67a-23b4c17b5708",
   "metadata": {},
   "outputs": [
    {
     "data": {
      "text/plain": [
       "defined \u001b[32mfunction\u001b[39m \u001b[36miterateoptimize\u001b[39m"
      ]
     },
     "execution_count": 55,
     "metadata": {},
     "output_type": "execute_result"
    }
   ],
   "source": [
    "def iterateoptimize(n: Int): Fix[RingF] => Fix[RingF] = {\n",
    "    if (n == 0) x => optimiz(x.value)\n",
    "    else x => iterateoptimize(n-1)(optimiz(x.value))\n",
    "}\n"
   ]
  },
  {
   "cell_type": "code",
   "execution_count": 56,
   "id": "d36ce375-dc8f-41bc-b71f-d833744545cb",
   "metadata": {},
   "outputs": [
    {
     "data": {
      "text/plain": [
       "\u001b[36mexp1\u001b[39m: \u001b[32mRing\u001b[39m = \u001b[33mFix\u001b[39m(\u001b[33mMult\u001b[39m(\u001b[33mFix\u001b[39m(\u001b[33mElem\u001b[39m(\u001b[32m4\u001b[39m)), \u001b[33mFix\u001b[39m(\u001b[33mAdd\u001b[39m(\u001b[33mFix\u001b[39m(\u001b[33mElem\u001b[39m(\u001b[32m3\u001b[39m)), \u001b[33mFix\u001b[39m(\u001b[33mElem\u001b[39m(\u001b[32m1\u001b[39m))))))"
      ]
     },
     "execution_count": 56,
     "metadata": {},
     "output_type": "execute_result"
    }
   ],
   "source": [
    "val exp1 = mult(elem(4), add(elem(3), elem(1)))"
   ]
  },
  {
   "cell_type": "code",
   "execution_count": 57,
   "id": "6622f946-6ff3-4141-b963-f4006ccaea4e",
   "metadata": {},
   "outputs": [],
   "source": [
    "renderer.render(\"animation\", Animation.startWith(exp1).iterate(2)(x => iterateoptimize(0)(x)).build())"
   ]
  },
  {
   "cell_type": "code",
   "execution_count": 58,
   "id": "3948d978-f3fd-45ac-ad7b-7517438d7bfa",
   "metadata": {},
   "outputs": [
    {
     "data": {
      "text/plain": [
       "\u001b[36mres57\u001b[39m: \u001b[32mFix\u001b[39m[\u001b[32mRingF\u001b[39m] = \u001b[33mFix\u001b[39m(\u001b[33mMult\u001b[39m(\u001b[33mFix\u001b[39m(\u001b[33mElem\u001b[39m(\u001b[32m2\u001b[39m)), \u001b[33mFix\u001b[39m(\u001b[33mElem\u001b[39m(\u001b[32m5\u001b[39m))))"
      ]
     },
     "execution_count": 58,
     "metadata": {},
     "output_type": "execute_result"
    }
   ],
   "source": [
    "iterateoptimize(0)(z)"
   ]
  },
  {
   "cell_type": "code",
   "execution_count": 59,
   "id": "37465e72-41f6-4a48-b4ea-7f6995815531",
   "metadata": {},
   "outputs": [
    {
     "data": {
      "text/plain": [
       "\u001b[36mres58\u001b[39m: \u001b[32mFix\u001b[39m[\u001b[32mRingF\u001b[39m] = \u001b[33mFix\u001b[39m(\u001b[33mMult\u001b[39m(\u001b[33mFix\u001b[39m(\u001b[33mElem\u001b[39m(\u001b[32m8\u001b[39m)), \u001b[33mFix\u001b[39m(\u001b[33mElem\u001b[39m(\u001b[32m2\u001b[39m))))"
      ]
     },
     "execution_count": 59,
     "metadata": {},
     "output_type": "execute_result"
    }
   ],
   "source": [
    "unoptimize(Elem(16))"
   ]
  },
  {
   "cell_type": "code",
   "execution_count": 59,
   "id": "2cfb4114-f44e-4983-bd74-c3f1bc172533",
   "metadata": {},
   "outputs": [],
   "source": [
    "//def foldr[A, B](l: List[A])(seed: B)(evaluator: (A, B) => B): B  = {\n",
    "//    l match {\n",
    "//        case Nil => seed\n",
    "//        case Cons(h, t) => evaluator(h, foldr(t)(seed)(evaluator))\n",
    "//    }\n",
    "//}"
   ]
  },
  {
   "cell_type": "code",
   "execution_count": 60,
   "id": "96ae305c-f91d-4330-a975-b78bef3fce83",
   "metadata": {},
   "outputs": [
    {
     "data": {
      "text/plain": [
       "defined \u001b[32mfunction\u001b[39m \u001b[36mfoldR\u001b[39m"
      ]
     },
     "execution_count": 60,
     "metadata": {},
     "output_type": "execute_result"
    }
   ],
   "source": [
    "def foldR[Z](e: Fix[RingF])(elem: Elem => Z)(add: (Z, Z) => Z)(mult: (Z, Z) => Z): Z = {\n",
    "    e.value match {\n",
    "        case Elem(x)  => elem(Elem(x))\n",
    "        case Add(x, y) => add(foldR(x)(elem)(add)(mult), foldR(y)(elem)(add)(mult))\n",
    "        case Mult(x, y) => mult(foldR(x)(elem)(add)(mult), foldR(y)(elem)(add)(mult))\n",
    "    }\n",
    "}"
   ]
  },
  {
   "cell_type": "code",
   "execution_count": 61,
   "id": "8da0f06f-54ec-45f6-8c2e-6fc18f8717f6",
   "metadata": {},
   "outputs": [
    {
     "data": {
      "text/plain": [
       "\u001b[36mres60\u001b[39m: \u001b[32mRing\u001b[39m = \u001b[33mFix\u001b[39m(\n",
       "  \u001b[33mAdd\u001b[39m(\n",
       "    \u001b[33mFix\u001b[39m(\u001b[33mAdd\u001b[39m(\u001b[33mFix\u001b[39m(\u001b[33mElem\u001b[39m(\u001b[32m3\u001b[39m)), \u001b[33mFix\u001b[39m(\u001b[33mElem\u001b[39m(\u001b[32m3\u001b[39m)))),\n",
       "    \u001b[33mFix\u001b[39m(\u001b[33mAdd\u001b[39m(\u001b[33mFix\u001b[39m(\u001b[33mElem\u001b[39m(\u001b[32m3\u001b[39m)), \u001b[33mFix\u001b[39m(\u001b[33mElem\u001b[39m(\u001b[32m3\u001b[39m))))\n",
       "  )\n",
       ")"
      ]
     },
     "execution_count": 61,
     "metadata": {},
     "output_type": "execute_result"
    }
   ],
   "source": [
    "a"
   ]
  },
  {
   "cell_type": "code",
   "execution_count": 62,
   "id": "60a7d855-18af-47f6-9c6c-fc8095415fd6",
   "metadata": {},
   "outputs": [
    {
     "data": {
      "text/plain": [
       "\u001b[36mres61\u001b[39m: \u001b[32mInt\u001b[39m = \u001b[32m12\u001b[39m"
      ]
     },
     "execution_count": 62,
     "metadata": {},
     "output_type": "execute_result"
    }
   ],
   "source": [
    "foldR[Int](a)(x => x.x)((x, y) => x + y)((x,y) => x * y)"
   ]
  },
  {
   "cell_type": "code",
   "execution_count": 63,
   "id": "1338b6cc-7579-42f2-93eb-87b9bfbe2497",
   "metadata": {},
   "outputs": [
    {
     "data": {
      "text/plain": [
       "defined \u001b[32mfunction\u001b[39m \u001b[36mmyFoldR\u001b[39m"
      ]
     },
     "execution_count": 63,
     "metadata": {},
     "output_type": "execute_result"
    }
   ],
   "source": [
    "def myFoldR[Z](a: Fix[RingF])(alg: RingF [Z] => Z):Z = {\n",
    "    cata(alg)(ringFunctor)(a)\n",
    "}"
   ]
  },
  {
   "cell_type": "code",
   "execution_count": 64,
   "id": "04105926-cb92-472c-8126-6671600dfb6e",
   "metadata": {},
   "outputs": [
    {
     "data": {
      "text/plain": [
       "\u001b[36mres63\u001b[39m: \u001b[32mInt\u001b[39m = \u001b[32m12\u001b[39m"
      ]
     },
     "execution_count": 64,
     "metadata": {},
     "output_type": "execute_result"
    }
   ],
   "source": [
    "myFoldR(a)(evalToInt)"
   ]
  },
  {
   "cell_type": "code",
   "execution_count": 65,
   "id": "e0d8b0e2-3dde-4bd1-8a69-4a332f8eb056",
   "metadata": {},
   "outputs": [
    {
     "data": {
      "text/plain": [
       "defined \u001b[32mtrait\u001b[39m \u001b[36mRecursive\u001b[39m\n",
       "\u001b[36mRing\u001b[39m: \u001b[32mAnyRef\u001b[39m with \u001b[32mRecursive\u001b[39m[\u001b[32mRingF\u001b[39m]{implicit val ff: cmd64.this.cmd8.Functor[ammonite.$sess.cmd8.wrapper.cmd5.RingF]} = ammonite.$sess.cmd64$Helper$$anon$1@4a6d2097"
      ]
     },
     "execution_count": 65,
     "metadata": {},
     "output_type": "execute_result"
    }
   ],
   "source": [
    "trait Recursive[F[_]] extends Functor[F] {\n",
    "    def cata[A](alg: F[A] => A)(x: Fix[F])(implicit F: Functor[F]): A = {\n",
    "    alg(F.map(cata(alg))(Fix.unfix(x)))\n",
    "    }\n",
    "}\n",
    "\n",
    "val Ring = new Recursive[RingF] {\n",
    "    implicit val ff = ringFunctor\n",
    "    override def map[A, B](f: A => B): RingF[A] => RingF[B] = {\n",
    "        case Zero => Zero\n",
    "        case One => One\n",
    "        case Elem(x) => Elem(x)\n",
    "        case Add(x, y) => Add(f(x), f(y))\n",
    "        case Mult(x, y) => Mult(f(x), f(y))\n",
    "    }\n",
    "}"
   ]
  },
  {
   "cell_type": "code",
   "execution_count": 66,
   "id": "0d49b458-14c5-4806-ad01-a881c14369ea",
   "metadata": {},
   "outputs": [
    {
     "data": {
      "text/plain": [
       "\u001b[36mres65\u001b[39m: \u001b[32mInt\u001b[39m = \u001b[32m12\u001b[39m"
      ]
     },
     "execution_count": 66,
     "metadata": {},
     "output_type": "execute_result"
    }
   ],
   "source": [
    "Ring.cata(evalToInt)(a)"
   ]
  },
  {
   "cell_type": "code",
   "execution_count": 67,
   "id": "3f63a96a-4315-4ada-b5f4-5c58b84c450c",
   "metadata": {},
   "outputs": [
    {
     "data": {
      "text/plain": [
       "defined \u001b[32mtype\u001b[39m \u001b[36mAlg\u001b[39m\n",
       "defined \u001b[32mfunction\u001b[39m \u001b[36mmyAlg\u001b[39m"
      ]
     },
     "execution_count": 67,
     "metadata": {},
     "output_type": "execute_result"
    }
   ],
   "source": [
    "type Alg[Z] = RingF[Z] => Z\n",
    "def myAlg: Alg[Fix[RingF]] = {\n",
    "            case Zero => Fix[RingF](Zero)\n",
    "            case One => Fix[RingF](One)\n",
    "            case Elem(x) => Fix[RingF](Elem(x))\n",
    "            case Add(x, y) => Fix[RingF](Add(x, y))\n",
    "            case Mult(x, y) => Fix[RingF](Mult(x, y))\n",
    "        }"
   ]
  },
  {
   "cell_type": "code",
   "execution_count": 68,
   "id": "6f38432a-5d94-44f1-9a6b-b3e6a8e04ead",
   "metadata": {},
   "outputs": [
    {
     "data": {
      "text/plain": [
       "defined \u001b[32mtrait\u001b[39m \u001b[36mBBEnc\u001b[39m"
      ]
     },
     "execution_count": 68,
     "metadata": {},
     "output_type": "execute_result"
    }
   ],
   "source": [
    "trait BBEnc {\n",
    "    def apply[Z](alg: Alg[Z]): Z\n",
    "}"
   ]
  },
  {
   "cell_type": "code",
   "execution_count": 69,
   "id": "844131c7-252f-423a-8078-125f14d2a4bd",
   "metadata": {},
   "outputs": [
    {
     "data": {
      "text/plain": [
       "defined \u001b[32mtrait\u001b[39m \u001b[36mIso\u001b[39m"
      ]
     },
     "execution_count": 69,
     "metadata": {},
     "output_type": "execute_result"
    }
   ],
   "source": [
    "trait Iso[A, B] {\n",
    "    def to(a: A): B\n",
    "    def from(b: B): A\n",
    "}"
   ]
  },
  {
   "cell_type": "code",
   "execution_count": 70,
   "id": "9c35e28b-3f15-4cc0-b159-15792412d434",
   "metadata": {},
   "outputs": [
    {
     "data": {
      "text/plain": [
       "\u001b[36mRingIso\u001b[39m: \u001b[32mAnyRef\u001b[39m with \u001b[32mIso\u001b[39m[\u001b[32mFix\u001b[39m[\u001b[32mRingF\u001b[39m], \u001b[32mBBEnc\u001b[39m] = ammonite.$sess.cmd69$Helper$$anon$1@61c5187e"
      ]
     },
     "execution_count": 70,
     "metadata": {},
     "output_type": "execute_result"
    }
   ],
   "source": [
    "val RingIso = new Iso[Fix[RingF], BBEnc] {\n",
    "    override def to(expr: Fix[RingF]): BBEnc = {\n",
    "        new BBEnc {\n",
    "            override def apply[Z](alg: Alg[Z]): Z = {\n",
    "                cata(alg)(ringFunctor)(expr)\n",
    "            }\n",
    "        }\n",
    "    }\n",
    "    \n",
    "    override def from(enc: BBEnc): Fix[RingF] = {\n",
    "        def myAlg: Alg[Fix[RingF]] = {\n",
    "            case Zero => Fix[RingF](Zero)\n",
    "            case One => Fix[RingF](One)\n",
    "            case Elem(x) => Fix[RingF](Elem(x))\n",
    "            case Add(x, y) => Fix[RingF](Add(x, y))\n",
    "            case Mult(x, y) => Fix[RingF](Mult(x, y))\n",
    "        }\n",
    "        \n",
    "        enc.apply(myAlg)\n",
    "\n",
    "    }\n",
    "}"
   ]
  },
  {
   "cell_type": "code",
   "execution_count": 73,
   "id": "9e21cd4f-b60a-442f-b12e-8774ae1d9828",
   "metadata": {},
   "outputs": [
    {
     "data": {
      "text/plain": [
       "\u001b[36mres72\u001b[39m: \u001b[32mRing\u001b[39m = \u001b[33mFix\u001b[39m(\u001b[33mMult\u001b[39m(\u001b[33mFix\u001b[39m(\u001b[33mElem\u001b[39m(\u001b[32m4\u001b[39m)), \u001b[33mFix\u001b[39m(\u001b[33mAdd\u001b[39m(\u001b[33mFix\u001b[39m(\u001b[33mElem\u001b[39m(\u001b[32m3\u001b[39m)), \u001b[33mFix\u001b[39m(\u001b[33mElem\u001b[39m(\u001b[32m1\u001b[39m))))))"
      ]
     },
     "execution_count": 73,
     "metadata": {},
     "output_type": "execute_result"
    }
   ],
   "source": [
    "exp1"
   ]
  },
  {
   "cell_type": "code",
   "execution_count": 74,
   "id": "861db506-beb5-4d70-8df0-afc9aab3de8a",
   "metadata": {},
   "outputs": [
    {
     "data": {
      "text/plain": [
       "\u001b[36mres73\u001b[39m: \u001b[32mBoolean\u001b[39m = true"
      ]
     },
     "execution_count": 74,
     "metadata": {},
     "output_type": "execute_result"
    }
   ],
   "source": [
    "RingIso.from(RingIso.to(exp1)) == exp1"
   ]
  },
  {
   "cell_type": "code",
   "execution_count": null,
   "id": "94ab79ea-4255-4391-85ca-d1852b6e036f",
   "metadata": {},
   "outputs": [],
   "source": []
  }
 ],
 "metadata": {
  "celltoolbar": "Slideshow",
  "kernelspec": {
   "display_name": "Scala",
   "language": "scala",
   "name": "scala"
  },
  "language_info": {
   "codemirror_mode": "text/x-scala",
   "file_extension": ".scala",
   "mimetype": "text/x-scala",
   "name": "scala",
   "nbconvert_exporter": "script",
   "version": "2.12.11"
  }
 },
 "nbformat": 4,
 "nbformat_minor": 5
}
