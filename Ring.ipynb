{
 "cells": [
  {
   "cell_type": "code",
   "execution_count": 1,
   "id": "49cadf29-5b8b-4e35-91df-fa0657f45b59",
   "metadata": {},
   "outputs": [
    {
     "data": {
      "text/plain": [
       "defined \u001b[32mtrait\u001b[39m \u001b[36mRingF\u001b[39m\n",
       "defined \u001b[32mobject\u001b[39m \u001b[36mZero\u001b[39m\n",
       "defined \u001b[32mobject\u001b[39m \u001b[36mOne\u001b[39m\n",
       "defined \u001b[32mclass\u001b[39m \u001b[36mElem\u001b[39m\n",
       "defined \u001b[32mclass\u001b[39m \u001b[36mAdd\u001b[39m\n",
       "defined \u001b[32mclass\u001b[39m \u001b[36mMult\u001b[39m\n",
       "defined \u001b[32mtrait\u001b[39m \u001b[36mFunctor\u001b[39m\n",
       "\u001b[36mringFunctor\u001b[39m: \u001b[32mAnyRef\u001b[39m with \u001b[32mFunctor\u001b[39m[\u001b[32mRingF\u001b[39m] = ammonite.$sess.cmd0$Helper$$anon$1@59c96db2\n",
       "defined \u001b[32mclass\u001b[39m \u001b[36mFix\u001b[39m\n",
       "defined \u001b[32mobject\u001b[39m \u001b[36mFix\u001b[39m\n",
       "defined \u001b[32mtype\u001b[39m \u001b[36mRing\u001b[39m\n",
       "\u001b[36mzero\u001b[39m: \u001b[32mFix\u001b[39m[\u001b[32mRingF\u001b[39m] = \u001b[33mFix\u001b[39m(Zero)\n",
       "\u001b[36mone\u001b[39m: \u001b[32mFix\u001b[39m[\u001b[32mRingF\u001b[39m] = \u001b[33mFix\u001b[39m(One)\n",
       "defined \u001b[32mfunction\u001b[39m \u001b[36melem\u001b[39m\n",
       "defined \u001b[32mfunction\u001b[39m \u001b[36madd\u001b[39m\n",
       "defined \u001b[32mfunction\u001b[39m \u001b[36mmult\u001b[39m"
      ]
     },
     "execution_count": 1,
     "metadata": {},
     "output_type": "execute_result"
    }
   ],
   "source": [
    "sealed trait RingF[+A]\n",
    "case object Zero extends RingF[Nothing]\n",
    "case object One extends RingF[Nothing]\n",
    "case class Elem(x: Int) extends RingF[Nothing]\n",
    "case class Add[A](x: A, y: A) extends RingF[A]\n",
    "case class Mult[A](x:A, y: A) extends RingF[A]\n",
    "\n",
    "trait Functor[F[_]] {\n",
    "    def map[A,B](f: A => B): F[A] => F[B]\n",
    "}\n",
    "\n",
    "implicit val ringFunctor = new Functor[RingF] {\n",
    "    override def map[A, B](f: A => B): RingF[A] => RingF[B] = {\n",
    "        case Zero => Zero\n",
    "        case One => One\n",
    "        case Elem(x) => Elem(x)\n",
    "        case Add(x, y) => Add(f(x), f(y))\n",
    "        case Mult(x, y) => Mult(f(x), f(y))\n",
    "    }\n",
    "}\n",
    "\n",
    "case class Fix[F[_]](value: F[Fix[F]] )\n",
    "object Fix {\n",
    "  def fix[F[_]](ff: F[Fix[F]]): Fix[F] = new Fix[F](ff)\n",
    "  def unfix[F[_]]: Fix[F] => F[Fix[F]] = f => f.value\n",
    "}\n",
    "\n",
    "type Ring = Fix[RingF]\n",
    "val zero = Fix[RingF](Zero)\n",
    "val one =  Fix[RingF](One)\n",
    "def elem: Int  => Ring = x => Fix[RingF](Elem(x))\n",
    "def add: (Ring, Ring) => Ring = (x, y) =>  Fix[RingF](Add(x, y))\n",
    "def mult: (Ring, Ring) => Ring = (x, y) =>  Fix[RingF](Mult(x, y))"
   ]
  },
  {
   "cell_type": "code",
   "execution_count": 6,
   "id": "1e4a98e3-348d-4c08-964e-c56cc8ea92f7",
   "metadata": {},
   "outputs": [
    {
     "data": {
      "text/plain": [
       "defined \u001b[32mfunction\u001b[39m \u001b[36mcata\u001b[39m\n",
       "defined \u001b[32mfunction\u001b[39m \u001b[36mana\u001b[39m\n",
       "defined \u001b[32mclass\u001b[39m \u001b[36mRingRich\u001b[39m\n",
       "defined \u001b[32mclass\u001b[39m \u001b[36mRich\u001b[39m\n",
       "defined \u001b[32mfunction\u001b[39m \u001b[36mevalToInt\u001b[39m\n",
       "defined \u001b[32mfunction\u001b[39m \u001b[36mfindDivisorsOf\u001b[39m\n",
       "defined \u001b[32mfunction\u001b[39m \u001b[36mprettyPrint\u001b[39m"
      ]
     },
     "execution_count": 6,
     "metadata": {},
     "output_type": "execute_result"
    }
   ],
   "source": [
    "def cata[F[_], A](alg: F[A] => A)(implicit F: Functor[F]): Fix[F] => A = {\n",
    "    x => alg(F.map(cata(alg))(Fix.unfix(x)))\n",
    "}\n",
    "def ana[F[_], A](coalg: A => F[A])(implicit F: Functor[F]): A => Fix[F] = {\n",
    "    x => Fix((F.map(ana(coalg))(coalg(x))))\n",
    "}\n",
    "\n",
    "implicit class RingRich(x: Ring) {\n",
    "    def ringcata[A](alg: RingF[A] => A) = {\n",
    "        cata(alg)(ringFunctor)(this.x)\n",
    "    }\n",
    "}\n",
    "\n",
    "implicit class Rich[A](x: A) {\n",
    "    val y = x\n",
    "    def ringana[A](coalg: A => RingF[A]) = {\n",
    "        ana(coalg)(ringFunctor)(y.asInstanceOf[A])\n",
    "    }\n",
    "}\n",
    "def evalToInt: RingF[Int] => Int = {\n",
    "    x => x match {\n",
    "        case Zero => 0\n",
    "        case One => 1\n",
    "        case Elem(x) => x\n",
    "        case Add(x, y) => x + y\n",
    "        case Mult(x, y) => x * y\n",
    "    }\n",
    "}\n",
    "def findDivisorsOf(r: Int): RingF[Int] = {\n",
    "    def loop(n: Int): RingF[Int] = {\n",
    "        n match {\n",
    "            case 0 => Zero\n",
    "            case 1 => One\n",
    "            case x => \n",
    "                if (x >= r) Elem(x)\n",
    "                else if (r%x == 0) Mult(r/x, x) \n",
    "                else loop(n+1)\n",
    "        }\n",
    "    }\n",
    "    loop(2)\n",
    "}\n",
    "def prettyPrint: RingF[String] => String = {\n",
    "    case Zero => \"0\"\n",
    "    case One => \"1\"\n",
    "    case Elem(x: Int) => x.toString\n",
    "    case Add(x, y) => x + \" + \" + y\n",
    "    case Mult(x, y) => x + \" * \" + y\n",
    "}"
   ]
  },
  {
   "cell_type": "code",
   "execution_count": 15,
   "id": "8cf254cd-dc13-493b-ab62-5c55c4ffd25d",
   "metadata": {},
   "outputs": [
    {
     "data": {
      "text/plain": [
       "\u001b[36mres14\u001b[39m: \u001b[32mInt\u001b[39m = \u001b[32m6\u001b[39m"
      ]
     },
     "execution_count": 15,
     "metadata": {},
     "output_type": "execute_result"
    }
   ],
   "source": [
    "add(elem(1), add(elem(2), elem(3))).ringcata(evalToInt)"
   ]
  },
  {
   "cell_type": "code",
   "execution_count": 7,
   "id": "4c88e20b-fc4b-486c-a441-35a9484ceb85",
   "metadata": {},
   "outputs": [
    {
     "data": {
      "text/plain": [
       "\u001b[36mres6\u001b[39m: \u001b[32mString\u001b[39m = \u001b[32m\"3 * 2 * 2\"\u001b[39m"
      ]
     },
     "execution_count": 7,
     "metadata": {},
     "output_type": "execute_result"
    }
   ],
   "source": [
    "12.ringana(findDivisorsOf).ringcata(prettyPrint)"
   ]
  },
  {
   "cell_type": "code",
   "execution_count": null,
   "id": "b90114c7-9ebe-4b03-88c0-f382468d3f82",
   "metadata": {},
   "outputs": [],
   "source": []
  }
 ],
 "metadata": {
  "kernelspec": {
   "display_name": "Scala",
   "language": "scala",
   "name": "scala"
  },
  "language_info": {
   "codemirror_mode": "text/x-scala",
   "file_extension": ".scala",
   "mimetype": "text/x-scala",
   "name": "scala",
   "nbconvert_exporter": "script",
   "version": "2.12.11"
  }
 },
 "nbformat": 4,
 "nbformat_minor": 5
}
