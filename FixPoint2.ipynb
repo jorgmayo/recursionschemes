{
 "cells": [
  {
   "cell_type": "markdown",
   "id": "f060da96",
   "metadata": {},
   "source": [
    "# Recursion Schemes in Scala\n",
    "\n",
    "---\n",
    "\n",
    "## Introduction\n",
    "\n",
    "---\n",
    "\n",
    "Todos, de una manera u otra, hemos oido hablar de recursión. Este concepto nace de la idea de usar una definición sobre sí misma para dar lugar a un nuevo objeto. Es una idea sencilla y de enorme utilidad tanto para las matemáticas como para los lenguajes deprogramación. Lo que vamos a intentar a lo largo de este trabajito es desarrollar en  detalle esta idea, hasta el punto de abstraerla lo más posible para generar un esquema general de recursión (y de evaluación de estructuras recursivas) que podamos usar tanto para entender mejor el concepto de recursión como para aplicarlo en casos de uso reales. \n",
    "\n",
    "### La idea de recursión: recursión en matemáticas y en computación\n",
    "\n",
    "Es enorme la cantidad de lugares en los que este concepto es útil, uno de ellos, en el mismo corazón del formalismo matemático, en las definiciones de números naturales (a la peano) y en la definción de sus operaciones. Es decir, entendiendo las operaciones sobre números naturales como funciones $op:\\mathbb{N}\\times\\mathbb{N}\\rightarrow\\mathbb{N}$, lo que tenemos son construcciones de conjuntos \"_tipos_\" recursivos, que son los números naturales en este caso, y el de operaciones recursivas (suma, multiplicación, exponenciación). Veamos más en detalle este ejemplo:\n",
    "\n",
    "    \n",
    "## From expresions to recursion\n",
    "\n",
    "Imagina que tenemos una abstracción de un anillo, es decir, un conjunto en la que existen dos operaciones, suma y preocuto y un elemento neutro para cada una de ellas, 0 y 1 respectivamente. "
   ]
  },
  {
   "cell_type": "code",
   "execution_count": 2,
   "id": "f08d923b",
   "metadata": {},
   "outputs": [
    {
     "data": {
      "text/plain": [
       "defined \u001b[32mtrait\u001b[39m \u001b[36mRingF\u001b[39m\n",
       "defined \u001b[32mobject\u001b[39m \u001b[36mZero\u001b[39m\n",
       "defined \u001b[32mobject\u001b[39m \u001b[36mOne\u001b[39m\n",
       "defined \u001b[32mclass\u001b[39m \u001b[36mAdd\u001b[39m\n",
       "defined \u001b[32mclass\u001b[39m \u001b[36mMult\u001b[39m"
      ]
     },
     "execution_count": 2,
     "metadata": {},
     "output_type": "execute_result"
    }
   ],
   "source": [
    "sealed trait RingF[+A]\n",
    "case object Zero extends RingF[Nothing]\n",
    "case object One extends RingF[Nothing]\n",
    "case class Add[A](x: A, y: A) extends RingF[A]\n",
    "case class Mult[A](x:A, y: A) extends RingF[A]"
   ]
  },
  {
   "cell_type": "markdown",
   "id": "0b76a584",
   "metadata": {},
   "source": [
    "El tipo geneŕico A nos permite dejar libre las posibles implementaciones. Una vez se tiene esta estructura genérica, resulta interesante implementar una forma de interpretarla y de evaluarla, por ejemplo, podemos definir la estructura del anillo de los enteros. Una posible evaluación es a entero, de manera que implementamos las operaciones. Otra se puede hacer sobre Strings, para tener una representación de las operacioens. "
   ]
  },
  {
   "cell_type": "code",
   "execution_count": 3,
   "id": "2a36c6aa",
   "metadata": {},
   "outputs": [
    {
     "data": {
      "text/plain": [
       "defined \u001b[32mfunction\u001b[39m \u001b[36mevalToInt\u001b[39m\n",
       "defined \u001b[32mfunction\u001b[39m \u001b[36mevalToStr\u001b[39m"
      ]
     },
     "execution_count": 3,
     "metadata": {},
     "output_type": "execute_result"
    }
   ],
   "source": [
    "def evalToInt: RingF[Int] => Int = {\n",
    "    x => x match {\n",
    "        case Zero => 0\n",
    "        case One => 1\n",
    "        case Add(x, y) => x + y\n",
    "        case Mult(x, y) => x*y\n",
    "    }\n",
    "}\n",
    "\n",
    "def evalToStr: RingF[Int] => String = {\n",
    "    x => x match {\n",
    "        case Zero => \"0\"\n",
    "        case One => \"1\"\n",
    "        case Add(x, y) => x.toString + \" + \" + y.toString\n",
    "        case Mult(x, y) => x.toString + \" * \" + y.toString\n",
    "    }\n",
    "}"
   ]
  },
  {
   "cell_type": "markdown",
   "id": "456ccdbf",
   "metadata": {},
   "source": [
    "Uno de los puntos a tener en cuenta es que ambas evaluaciones, esencialmente, pueden obtenerse una de la otra. Dado que tenemos una transformación Int => String, tenemos una trasformación de RingF[Int] => RingF[String]. Además, esto no se limita a esta función, este comportaminto lo podemos generar de manera abstracta a partir de cualquier función genérica A => B. Es decir, que para cada f: A => B, podemos definir una función RingF[A] => RingF[B]. Esta propiedad, a groso modo, hace que RingF sea un functor. Una implemntación de esta abstracción puede ser "
   ]
  },
  {
   "cell_type": "code",
   "execution_count": 4,
   "id": "991f69bf",
   "metadata": {},
   "outputs": [
    {
     "data": {
      "text/plain": [
       "defined \u001b[32mtrait\u001b[39m \u001b[36mFunctor\u001b[39m\n",
       "\u001b[36mRingFunctor\u001b[39m: \u001b[32mAnyRef\u001b[39m with \u001b[32mFunctor\u001b[39m[\u001b[32mRingF\u001b[39m] = ammonite.$sess.cmd3$Helper$$anon$1@2e5bd674"
      ]
     },
     "execution_count": 4,
     "metadata": {},
     "output_type": "execute_result"
    }
   ],
   "source": [
    "sealed trait Functor[F[_]] {\n",
    "    def map[A,B](f: A => B): F[A] => F[B]\n",
    "}\n",
    "\n",
    "implicit val RingFunctor = new Functor[RingF] {\n",
    "    override def map[A, B](f: A => B): RingF[A] => RingF[B] = {\n",
    "        x => x match {\n",
    "            case Zero => Zero\n",
    "            case One => One\n",
    "            case Add(x, y) => Add(f(x), f(y))\n",
    "            case Mult(x, y) => Mult(f(x), f(y))\n",
    "        }\n",
    "    }\n",
    "}"
   ]
  },
  {
   "cell_type": "markdown",
   "id": "ea6d7039",
   "metadata": {},
   "source": [
    "Una vez que tenemos esta abstracción, podemos reimplementar el evalToStrig a partir del método map"
   ]
  },
  {
   "cell_type": "code",
   "execution_count": null,
   "id": "76093992",
   "metadata": {},
   "outputs": [],
   "source": []
  },
  {
   "cell_type": "markdown",
   "id": "720501c5",
   "metadata": {},
   "source": [
    "Hasta aquí todo genial, sin embargo, lo normal es que nos sepa a poco el definir operaciones binarioas de la forma 1 + 2. Si queremos definir la expresión 1 + 2x3 necesitamos cambiar la estructura a algo de la forma \n"
   ]
  },
  {
   "cell_type": "code",
   "execution_count": 4,
   "id": "f66bf258",
   "metadata": {},
   "outputs": [
    {
     "data": {
      "text/plain": [
       "z: RingF[RingF[Int]] = Add(One,Mult(2,3))\n"
      ]
     },
     "execution_count": 4,
     "metadata": {},
     "output_type": "execute_result"
    }
   ],
   "source": [
    "val z: RingF[RingF[Int]] = Add(One, Mult(2, 3))"
   ]
  },
  {
   "cell_type": "markdown",
   "id": "d2f21894",
   "metadata": {},
   "source": [
    "Cada vez que queramos generar una expresión más complicada, necesitamos, por un lado, añadir un tipo RingF al constructor y, además, redefinir el método evaltoInt. Esto da lugar a una estructura recursiva sobre las expresiones que generan las operaciones del anillo y, además, una dependencia en la forma de evaluarlo. Una de las posibles soluciones, y la más directa, es usar una extensión recursiva sobre RingF de manera que tengamos"
   ]
  },
  {
   "cell_type": "code",
   "execution_count": 4,
   "id": "d57b5a89",
   "metadata": {},
   "outputs": [
    {
     "data": {
      "text/plain": [
       "defined \u001b[32mtrait\u001b[39m \u001b[36mDirectRingF\u001b[39m\n",
       "defined \u001b[32mobject\u001b[39m \u001b[36mZero\u001b[39m\n",
       "defined \u001b[32mobject\u001b[39m \u001b[36mOne\u001b[39m\n",
       "defined \u001b[32mclass\u001b[39m \u001b[36mAdd\u001b[39m\n",
       "defined \u001b[32mclass\u001b[39m \u001b[36mMult\u001b[39m\n",
       "defined \u001b[32mfunction\u001b[39m \u001b[36mdirectEval\u001b[39m"
      ]
     },
     "execution_count": 4,
     "metadata": {},
     "output_type": "execute_result"
    }
   ],
   "source": [
    "sealed trait DirectRingF \n",
    "case object Zero extends DirectRingF\n",
    "case object One extends DirectRingF\n",
    "case class Add(x: DirectRingF, y: DirectRingF) extends DirectRingF\n",
    "case class Mult(x: DirectRingF, y: DirectRingF) extends DirectRingF\n",
    "\n",
    "def directEval: DirectRingF => Int = {\n",
    "    x => x match {\n",
    "        case Zero => 0\n",
    "        case One => 1\n",
    "        case Add(x, y) => directEval(x) + directEval(y)\n",
    "        case Mult(x, y) => directEval(x) * directEval(y)\n",
    "    }\n",
    "}"
   ]
  },
  {
   "cell_type": "markdown",
   "id": "6d055495",
   "metadata": {},
   "source": [
    "Esta sintaxis es perfectamente correcta. Sin embargo, se pierde queda un poco oscuro el paso de la evaluación de las expresiones de los nodos y las de las hojas. Por ello, y para disfrutar rompiéndonos un poco la cabeza, vamos a tratar de pensar en lo qeu significa la estructura recursiva en este caso.\n",
    "\n",
    "En primer lugar, tenemos un functor, es decir, un tipo que come otros tipos para generar otros nuevos. en nuestro caso, es de la forma\n",
    "\n",
    "A => F[A] => F[F[A]] => ...\n",
    "\n",
    "Además, si conocemos una evaluación concreta, por ejemplo, de tipo Int, tenemos una función F[Int] => Int. Es hora de empezar a dar nombre a esta estructura, es lo que se llama una F-álgebra. Más en concreto, dado un functor F una F-álgebra es un par (f, A), donde A es un tipo concreto y f es una aplicaión F[A] => A.\n",
    "\n",
    "Por ejemplo, (evalToInt, Int) es una RingF-álgebra. Básicamente, las F-álgebras codifican la manera en la que podemos evaluar expresiones generadas a partir del functor dado. \n",
    "\n",
    "Por otro lado, si tratamos de imaginar la idea de recursión para un cierto functor F, es como el resultado de aplicar F una cantidad infinita de veces, de manera que siempre pudiesemos cosntrur cualquier expresión a partir de la composición de objetos de tipo RingF[RingF[...]]. Es decir, el tipo recursivo, H,  para RingF debe ser un tipo con la propiedad de que RingF[H] = H, es decir, el final de la cadena de composiciones del functor RingF. A partir de la ecuación anterior, al tipo recursivo asociado a RingF se le conoce como punto fijo. Esta idea nos permite abstraer la noción de recursión y codificarla en la idea de los puntos fijos. Una implementación sencilla de un punto fijo genérico para un functor es el siguiente."
   ]
  },
  {
   "cell_type": "code",
   "execution_count": 5,
   "id": "2dc458ee",
   "metadata": {
    "tags": []
   },
   "outputs": [
    {
     "data": {
      "text/plain": [
       "defined \u001b[32mclass\u001b[39m \u001b[36mFix\u001b[39m\n",
       "defined \u001b[32mobject\u001b[39m \u001b[36mFix\u001b[39m"
      ]
     },
     "execution_count": 5,
     "metadata": {},
     "output_type": "execute_result"
    }
   ],
   "source": [
    "case class Fix[F[_]](unfix: F[Fix[F]] )\n",
    "object Fix {\n",
    "  def in[F[_]](ff: F[Fix[F]]): Fix[F] = new Fix[F](ff)\n",
    "  def out[F[_]]: Fix[F] => F[Fix[F]] = f => f.unfix\n",
    "}"
   ]
  },
  {
   "cell_type": "markdown",
   "id": "3ca63b9c",
   "metadata": {},
   "source": [
    "Las funciones in y out son las que representan la igualdad de tipos ya que podemos ir de un tipo a otro sin perder nada de información (es un isomorfismo). A partir de este tipo, podemos contruir nuestros tipo recursivo asociado al functo RingF de la manera siguiente"
   ]
  },
  {
   "cell_type": "code",
   "execution_count": 6,
   "id": "9e4ee063",
   "metadata": {},
   "outputs": [
    {
     "data": {
      "text/plain": [
       "defined \u001b[32mtype\u001b[39m \u001b[36mRing\u001b[39m\n",
       "\u001b[36mzero\u001b[39m: \u001b[32mFix\u001b[39m[\u001b[32mRingF\u001b[39m] = \u001b[33mFix\u001b[39m(Zero)\n",
       "\u001b[36mone\u001b[39m: \u001b[32mFix\u001b[39m[\u001b[32mRingF\u001b[39m] = \u001b[33mFix\u001b[39m(One)\n",
       "defined \u001b[32mfunction\u001b[39m \u001b[36madd\u001b[39m\n",
       "defined \u001b[32mfunction\u001b[39m \u001b[36mmult\u001b[39m"
      ]
     },
     "execution_count": 6,
     "metadata": {},
     "output_type": "execute_result"
    }
   ],
   "source": [
    "type Ring = Fix[RingF]\n",
    "val zero = Fix[RingF](Zero)\n",
    "val one =  Fix[RingF](One)\n",
    "def add: (Ring, Ring) => Ring = (x, y) =>  Fix[RingF](Add(x, y))\n",
    "def mult: (Ring, Ring) => Ring = (x, y) =>  Fix[RingF](Mult(x, y))"
   ]
  },
  {
   "cell_type": "markdown",
   "id": "1d1a329c",
   "metadata": {},
   "source": [
    "Con esto, ya podemos definir expresiones tan complejas ocmo deseemos:"
   ]
  },
  {
   "cell_type": "code",
   "execution_count": 8,
   "id": "10cc0c60",
   "metadata": {},
   "outputs": [
    {
     "data": {
      "text/plain": [
       "\u001b[36mexp\u001b[39m: \u001b[32mRing\u001b[39m = \u001b[33mFix\u001b[39m(\n",
       "  \u001b[33mAdd\u001b[39m(\u001b[33mFix\u001b[39m(One), \u001b[33mFix\u001b[39m(\u001b[33mMult\u001b[39m(\u001b[33mFix\u001b[39m(\u001b[33mAdd\u001b[39m(\u001b[33mFix\u001b[39m(One), \u001b[33mFix\u001b[39m(One))), \u001b[33mFix\u001b[39m(One))))\n",
       ")"
      ]
     },
     "execution_count": 8,
     "metadata": {},
     "output_type": "execute_result"
    }
   ],
   "source": [
    "val exp = add(one, mult(add(one, one), one))"
   ]
  },
  {
   "cell_type": "markdown",
   "id": "698c8897",
   "metadata": {},
   "source": [
    "Uno de los objetivos lo hemos conseguido, en realidad, el trait Fix nos permite construir la estructura recursiva de cualquier functor, es decir, que dada cualquier definición de tipos sobre el caso base, podemos levantarla a su estructura recursiva. Sin embargo, esto no es muy interesanete si no podemos hacer lo mismo con las evaluaciones. Ya hemos comentado que las evaluaciones se basan en F-álgebras. "
   ]
  },
  {
   "cell_type": "code",
   "execution_count": 7,
   "id": "c8cd22e3",
   "metadata": {},
   "outputs": [
    {
     "data": {
      "text/plain": [
       "defined \u001b[32mtype\u001b[39m \u001b[36mAlgebra\u001b[39m"
      ]
     },
     "execution_count": 7,
     "metadata": {},
     "output_type": "execute_result"
    }
   ],
   "source": [
    "type Algebra[F[_], A] = F[A] => A"
   ]
  },
  {
   "cell_type": "markdown",
   "id": "20ab07f4",
   "metadata": {},
   "source": [
    "A partir de este punto, nos gustaria deducir cómo funciona la evaluación de las estructuras recursivas a partir de un álgebra concreta. Es aquí donde entra en juego de manera crucial que F sea un functor y que, por tanto, pueda generar aplicaciones entre las tipos contruidos con F. Sea i el punto fijo del functor F, tenemos que F[i] = i ( en el sentido de las aplicaciones, es decir que:\n",
    "\n",
    "F[i] -----> F[A]\n",
    " |             |\n",
    " |             |\n",
    " i ---------> A\n",
    " \n",
    " tenemos bien definidas tanto la aplicación in, como out, como el evaluador. Podemos contruir las dos funciones que conectan el álgebra del punto fijo con el ágebra dada. La respuesta es que sí, y esta función no depende del álgebra inicial: "
   ]
  },
  {
   "cell_type": "code",
   "execution_count": 8,
   "id": "c7a4eb5c",
   "metadata": {},
   "outputs": [
    {
     "data": {
      "text/plain": [
       "defined \u001b[32mfunction\u001b[39m \u001b[36mcata\u001b[39m"
      ]
     },
     "execution_count": 8,
     "metadata": {},
     "output_type": "execute_result"
    }
   ],
   "source": [
    "def cata[F[_], A](alg: Algebra[F, A])(implicit F: Functor[F]): Fix[F] => A = {\n",
    "    x => alg((F.map(cata(alg))(Fix.out(x))))\n",
    "}"
   ]
  },
  {
   "cell_type": "markdown",
   "id": "89c2b230",
   "metadata": {},
   "source": [
    "Con esta función, ya podemos generar la versión recursiva de evalToInt"
   ]
  },
  {
   "cell_type": "code",
   "execution_count": 9,
   "id": "89655bab",
   "metadata": {},
   "outputs": [
    {
     "data": {
      "text/plain": [
       "defined \u001b[32mfunction\u001b[39m \u001b[36mevalToInt\u001b[39m\n",
       "\u001b[36mres8_1\u001b[39m: \u001b[32mInt\u001b[39m = \u001b[32m3\u001b[39m"
      ]
     },
     "execution_count": 9,
     "metadata": {},
     "output_type": "execute_result"
    }
   ],
   "source": [
    "def evalToInt: Algebra[RingF, Int] = {\n",
    "    x => x match {\n",
    "        case Zero => 0\n",
    "        case One => 1\n",
    "        case Add(x, y) => x + y\n",
    "        case Mult(x, y) => x*y\n",
    "    }\n",
    "}\n",
    "cata(evalToInt)(RingFunctor)(exp)"
   ]
  },
  {
   "cell_type": "markdown",
   "id": "f4eae4df",
   "metadata": {},
   "source": [
    "## Recursive data Types\n",
    "\n",
    "Uno de los ejemplos más claros de tipos recursivos es el de litas. Una implementación sencilla sería \n",
    "\n",
    "---"
   ]
  },
  {
   "cell_type": "code",
   "execution_count": 12,
   "id": "a8acc261-9fa7-4654-b110-536ee565c59d",
   "metadata": {},
   "outputs": [
    {
     "name": "stderr",
     "output_type": "stream",
     "text": [
      "cmd12.sc:9: too many arguments (3) for method expand0: (n: Int, x: List[Int])List[Int]\n",
      "            val nmin= expand0(N, min, 0)\n",
      "                                      ^cmd12.sc:16: type mismatch;\n",
      " found   : scala.collection.immutable.IndexedSeq[List[Int]]\n",
      " required: List[Int]\n",
      "            (0 to (x.length + y.length)).map(i => y.map(j => i*j))\n",
      "                                            ^Compilation Failed"
     ]
    },
    {
     "ename": "",
     "evalue": "",
     "output_type": "error",
     "traceback": [
      "Compilation Failed"
     ]
    }
   ],
   "source": [
    "def evalPol: Algebra[RingF, List[Int]] = {\n",
    "    x => x match {\n",
    "        case Zero => 0::Nil\n",
    "        case One => 1::Nil\n",
    "        case Add(x, y) => {\n",
    "            val max =  if (x.length >= y.length) x else y\n",
    "            val min = if (x.length >= y.length) y else x\n",
    "            val N = max.length - min.length\n",
    "            val nmin= expand0(N, min, 0)\n",
    "            max.zip(min).map(x => x match {\n",
    "                case (i, j) => i + j\n",
    "            })\n",
    "        }\n",
    "        case Mult(x, y) => {\n",
    "            val z = expand0(x.length + y.length, Nil)\n",
    "            (0 to (x.length + y.length)).map(i => y.map(j => i*j))\n",
    "        }\n",
    "    }\n",
    "}"
   ]
  },
  {
   "cell_type": "code",
   "execution_count": 12,
   "id": "a1a705ff-2967-4509-9ade-ccf783b1eb67",
   "metadata": {},
   "outputs": [
    {
     "data": {
      "text/plain": [
       "\u001b[32mimport \u001b[39m\u001b[36mannotation.tailrec\n",
       "\u001b[39m\n",
       "\u001b[36mx\u001b[39m: \u001b[32mList\u001b[39m[\u001b[32mInt\u001b[39m] = \u001b[33mList\u001b[39m(\u001b[32m1\u001b[39m, \u001b[32m2\u001b[39m, \u001b[32m3\u001b[39m)\n",
       "\u001b[36my\u001b[39m: \u001b[32mList\u001b[39m[\u001b[32mInt\u001b[39m] = \u001b[33mList\u001b[39m(\u001b[32m3\u001b[39m, \u001b[32m2\u001b[39m)\n",
       "\u001b[36mN\u001b[39m: \u001b[32mInt\u001b[39m = \u001b[32m3\u001b[39m\n",
       "defined \u001b[32mfunction\u001b[39m \u001b[36mexpand\u001b[39m\n",
       "\u001b[36mres11_5\u001b[39m: \u001b[32mInt\u001b[39m = \u001b[32m1\u001b[39m"
      ]
     },
     "execution_count": 12,
     "metadata": {},
     "output_type": "execute_result"
    }
   ],
   "source": [
    "import annotation.tailrec\n",
    "val x = 1::2::3::Nil\n",
    "val y = 3::2::Nil\n",
    "val N = Integer.max(x.length,  y.length)\n",
    "@tailrec\n",
    "def expand(n: Int, x: List[Int], i: Int): List[Int] = {\n",
    "    val z = x\n",
    "    n match {\n",
    "        case 0 =>  z\n",
    "        case _ => expand(n-1, i::x, i)\n",
    "    }\n",
    "}\n",
    "x(0)"
   ]
  },
  {
   "cell_type": "code",
   "execution_count": 4,
   "id": "7b3a712f",
   "metadata": {},
   "outputs": [
    {
     "data": {
      "text/plain": [
       "defined \u001b[32mtrait\u001b[39m \u001b[36mmyList\u001b[39m\n",
       "defined \u001b[32mobject\u001b[39m \u001b[36mNill\u001b[39m\n",
       "defined \u001b[32mclass\u001b[39m \u001b[36mCons\u001b[39m"
      ]
     },
     "execution_count": 4,
     "metadata": {},
     "output_type": "execute_result"
    }
   ],
   "source": [
    "sealed trait myList[+A]\n",
    "case object Nill extends myList[Nothing]\n",
    "case class Cons[A](h: A, t: myList[A]) extends myList[A]"
   ]
  },
  {
   "cell_type": "markdown",
   "id": "1f52ca51",
   "metadata": {},
   "source": [
    "Como puede verse, tenemos un caso base que es la lista vacía y un elemento Cons que representa la lista formada por una cabecera y su cola. "
   ]
  },
  {
   "cell_type": "code",
   "execution_count": 22,
   "id": "15064d08",
   "metadata": {},
   "outputs": [
    {
     "data": {
      "text/plain": [
       "defined \u001b[32mtrait\u001b[39m \u001b[36mFunctor\u001b[39m\n",
       "defined \u001b[32mtrait\u001b[39m \u001b[36mExprF\u001b[39m\n",
       "defined \u001b[32mclass\u001b[39m \u001b[36mc\u001b[39m\n",
       "defined \u001b[32mclass\u001b[39m \u001b[36mv\u001b[39m\n",
       "defined \u001b[32mclass\u001b[39m \u001b[36madd\u001b[39m\n",
       "defined \u001b[32mclass\u001b[39m \u001b[36mtimes\u001b[39m\n",
       "\u001b[36mexprfunctor\u001b[39m: \u001b[32mAnyRef\u001b[39m with \u001b[32mFunctor\u001b[39m[\u001b[32mExprF\u001b[39m] = ammonite.$sess.cmd21$Helper$$anon$1@50432c7f"
      ]
     },
     "execution_count": 22,
     "metadata": {},
     "output_type": "execute_result"
    }
   ],
   "source": [
    "trait Functor[F[_]] {\n",
    "    def map[A, B](f: A => B): F[A] => F[B]\n",
    "}\n",
    "\n",
    "sealed trait ExprF[A] \n",
    "final case class c[A](x: Double) extends ExprF[A] \n",
    "final case class  v[A](x: String) extends ExprF[A]\n",
    "final case class  add[A](x: A, y: A) extends ExprF[A]\n",
    "final case class  times[A](x: A, y : A) extends ExprF[A]\n",
    "val exprfunctor = new Functor[ExprF] {\n",
    "    override def map[A, B](f: A => B): ExprF[A] => ExprF[B] = {\n",
    "        exp1 => exp1 match {\n",
    "            case c(x) => c(x)\n",
    "            case v(s) => v(s)\n",
    "            case add(a, b) => add(f(a), f(b))\n",
    "            case times(a, b) => times(f(a), f(b))\n",
    "        }\n",
    "    }\n",
    "}"
   ]
  },
  {
   "cell_type": "code",
   "execution_count": null,
   "id": "e3b03f79",
   "metadata": {},
   "outputs": [],
   "source": []
  },
  {
   "cell_type": "code",
   "execution_count": null,
   "id": "3350c4e6",
   "metadata": {},
   "outputs": [],
   "source": []
  },
  {
   "cell_type": "code",
   "execution_count": 23,
   "id": "0cdfdb8b",
   "metadata": {},
   "outputs": [
    {
     "data": {
      "text/plain": [
       "defined \u001b[32mtype\u001b[39m \u001b[36mAlgebra\u001b[39m"
      ]
     },
     "execution_count": 23,
     "metadata": {},
     "output_type": "execute_result"
    }
   ],
   "source": [
    "type Algebra[F[_], A] = F[A] => A"
   ]
  },
  {
   "cell_type": "code",
   "execution_count": 24,
   "id": "ff68d546",
   "metadata": {},
   "outputs": [
    {
     "data": {
      "text/plain": [
       "defined \u001b[32mclass\u001b[39m \u001b[36mAssing\u001b[39m\n",
       "defined \u001b[32mfunction\u001b[39m \u001b[36mevalStr\u001b[39m\n",
       "defined \u001b[32mfunction\u001b[39m \u001b[36mevalDouble\u001b[39m"
      ]
     },
     "execution_count": 24,
     "metadata": {},
     "output_type": "execute_result"
    }
   ],
   "source": [
    "case class Assing(value: Double, variable: String)\n",
    "\n",
    "def evalStr: Algebra[ExprF, String] = {\n",
    "x => x match {\n",
    "    case c(x) => x.toString\n",
    "    case v(x) => x\n",
    "    case add(a, b) => a + \" + \" +  b\n",
    "    case times(a, b) => \"(\" + a + \")\" + \"*\" +\"(\" + b + \")\"\n",
    "    }\n",
    "}\n",
    "\n",
    "def evalDouble(y: Assing*): Algebra[ExprF, Double] = {\n",
    "    x => x match {\n",
    "        case c(x) => x\n",
    "        case v(x) => {\n",
    "            val value = y.filter(z => z.variable == x)\n",
    "            if (value.length > 0) value(0).value else 0\n",
    "    }\n",
    "        case add(a, b) => a + b\n",
    "        case times(a, b) => a * b\n",
    "}\n",
    "}"
   ]
  },
  {
   "cell_type": "code",
   "execution_count": 25,
   "id": "e1f641ad",
   "metadata": {},
   "outputs": [
    {
     "data": {
      "text/plain": [
       "defined \u001b[32mclass\u001b[39m \u001b[36mFix\u001b[39m\n",
       "defined \u001b[32mobject\u001b[39m \u001b[36mFix\u001b[39m"
      ]
     },
     "execution_count": 25,
     "metadata": {},
     "output_type": "execute_result"
    }
   ],
   "source": [
    "case class Fix[F[_]](unfix: F[Fix[F]] )\n",
    "object Fix {\n",
    "  def in[F[_]](ff: F[Fix[F]]): Fix[F] = new Fix[F](ff)\n",
    "  def out[F[_]]: Fix[F] => F[Fix[F]] = f => f.unfix\n",
    "}"
   ]
  },
  {
   "cell_type": "code",
   "execution_count": 26,
   "id": "c911d462",
   "metadata": {},
   "outputs": [
    {
     "data": {
      "text/plain": [
       "defined \u001b[32mtype\u001b[39m \u001b[36mExpr\u001b[39m\n",
       "defined \u001b[32mfunction\u001b[39m \u001b[36mVar\u001b[39m\n",
       "defined \u001b[32mfunction\u001b[39m \u001b[36mConst\u001b[39m\n",
       "defined \u001b[32mfunction\u001b[39m \u001b[36mAdd\u001b[39m\n",
       "defined \u001b[32mfunction\u001b[39m \u001b[36mTimes\u001b[39m"
      ]
     },
     "execution_count": 26,
     "metadata": {},
     "output_type": "execute_result"
    }
   ],
   "source": [
    "type Expr = Fix[ExprF]\n",
    "def Var: String => Expr = s => Fix[ExprF](v(s))\n",
    "def Const: Double => Expr = x => Fix[ExprF](c(x))\n",
    "def Add: (Expr, Expr) => Expr = (a, b) => Fix[ExprF](add(a, b))\n",
    "def Times: (Expr, Expr) => Expr = (a, b) => Fix[ExprF](times(a, b))\n"
   ]
  },
  {
   "cell_type": "code",
   "execution_count": 27,
   "id": "9e4e0e89",
   "metadata": {},
   "outputs": [
    {
     "data": {
      "text/plain": [
       "\u001b[36mx\u001b[39m: \u001b[32mExpr\u001b[39m = \u001b[33mFix\u001b[39m(\n",
       "  \u001b[33madd\u001b[39m(\u001b[33mFix\u001b[39m(\u001b[33madd\u001b[39m(\u001b[33mFix\u001b[39m(\u001b[33mv\u001b[39m(\u001b[32m\"x\"\u001b[39m)), \u001b[33mFix\u001b[39m(\u001b[33mc\u001b[39m(\u001b[32m7.0\u001b[39m)))), \u001b[33mFix\u001b[39m(\u001b[33madd\u001b[39m(\u001b[33mFix\u001b[39m(\u001b[33mv\u001b[39m(\u001b[32m\"x\"\u001b[39m)), \u001b[33mFix\u001b[39m(\u001b[33mc\u001b[39m(\u001b[32m7.0\u001b[39m)))))\n",
       ")"
      ]
     },
     "execution_count": 27,
     "metadata": {},
     "output_type": "execute_result"
    }
   ],
   "source": [
    "val x = Add(Add(Var(\"x\"), Const(7)), Add(Var(\"x\"), Const(7)))"
   ]
  },
  {
   "cell_type": "code",
   "execution_count": 27,
   "id": "4305d24f",
   "metadata": {},
   "outputs": [
    {
     "name": "stderr",
     "output_type": "stream",
     "text": [
      "(console):1:11 expected (Semis | &\"}\" | end-of-input)\n",
      "zero: Nat = Fix(Zero)\n",
      "          ^"
     ]
    },
    {
     "ename": "",
     "evalue": "",
     "output_type": "error",
     "traceback": [
      "(console):1:11 expected (Semis | &\"}\" | end-of-input)\nzero: Nat = Fix(Zero)\n          ^"
     ]
    }
   ],
   "source": [
    "zero: Nat = Fix(Zero)"
   ]
  },
  {
   "cell_type": "code",
   "execution_count": 28,
   "id": "46e3d467",
   "metadata": {},
   "outputs": [
    {
     "data": {
      "text/plain": [
       "defined \u001b[32mtrait\u001b[39m \u001b[36mNatF\u001b[39m\n",
       "defined \u001b[32mobject\u001b[39m \u001b[36mZero\u001b[39m\n",
       "defined \u001b[32mclass\u001b[39m \u001b[36mSucc\u001b[39m\n",
       "\u001b[36mNatFunctor\u001b[39m: \u001b[32mAnyRef\u001b[39m with \u001b[32mFunctor\u001b[39m[\u001b[32mNatF\u001b[39m] = ammonite.$sess.cmd27$Helper$$anon$1@5601c43e\n",
       "defined \u001b[32mtype\u001b[39m \u001b[36mNat\u001b[39m\n",
       "\u001b[36mzero\u001b[39m: \u001b[32mNat\u001b[39m = \u001b[33mFix\u001b[39m(Zero)\n",
       "defined \u001b[32mfunction\u001b[39m \u001b[36msuc\u001b[39m"
      ]
     },
     "execution_count": 28,
     "metadata": {},
     "output_type": "execute_result"
    }
   ],
   "source": [
    "sealed trait NatF[+A]\n",
    "case object Zero extends NatF[Nothing]\n",
    "case class Succ[A](x: A) extends NatF[A]\n",
    "\n",
    "val NatFunctor = new Functor[NatF] {\n",
    "    override def map[A,B](f: A => B): NatF[A] => NatF[B] = {\n",
    "        case Zero => Zero\n",
    "        case Succ(x) => Succ(f(x))\n",
    "    }\n",
    "}\n",
    "\n",
    "type Nat = Fix[NatF]\n",
    "val zero: Nat =  Fix[NatF](Zero)\n",
    "def suc: Nat => Nat = x =>  Fix[NatF](Succ(x))"
   ]
  },
  {
   "cell_type": "code",
   "execution_count": 29,
   "id": "5e01f037",
   "metadata": {},
   "outputs": [
    {
     "data": {
      "text/plain": [
       "\u001b[36mnum\u001b[39m: \u001b[32mNat\u001b[39m = \u001b[33mFix\u001b[39m(\u001b[33mSucc\u001b[39m(\u001b[33mFix\u001b[39m(\u001b[33mSucc\u001b[39m(\u001b[33mFix\u001b[39m(Zero)))))"
      ]
     },
     "execution_count": 29,
     "metadata": {},
     "output_type": "execute_result"
    }
   ],
   "source": [
    "val num = suc(suc(zero))"
   ]
  },
  {
   "cell_type": "code",
   "execution_count": 30,
   "id": "a2fa16e8",
   "metadata": {},
   "outputs": [
    {
     "data": {
      "text/plain": [
       "defined \u001b[32mfunction\u001b[39m \u001b[36mevalToInt\u001b[39m\n",
       "defined \u001b[32mfunction\u001b[39m \u001b[36mevaltoFib\u001b[39m"
      ]
     },
     "execution_count": 30,
     "metadata": {},
     "output_type": "execute_result"
    }
   ],
   "source": [
    "def evalToInt: Algebra[NatF, Int] = {\n",
    "    x => x match {\n",
    "        case Zero => 0\n",
    "        case Succ(x) => x + 1 \n",
    "    }\n",
    "}\n",
    "def evaltoFib: Algebra[NatF, (Int, Int)] = {\n",
    "    case Zero => (1, 1)\n",
    "    case Succ((n, m)) => (m, n+m) \n",
    "}\n"
   ]
  },
  {
   "cell_type": "code",
   "execution_count": 30,
   "id": "cc6f62fa",
   "metadata": {},
   "outputs": [
    {
     "name": "stderr",
     "output_type": "stream",
     "text": [
      "cmd30.sc:1: type mismatch;\n",
      " found   : ammonite.$sess.cmd23.wrapper.cmd22.Algebra[ammonite.$sess.cmd23.wrapper.cmd21.ExprF,String]\n",
      "    (which expands to)  ammonite.$sess.cmd23.wrapper.cmd21.ExprF[String] => String\n",
      " required: ammonite.$sess.cmd18.wrapper.cmd16.Algebra[F,String]\n",
      "    (which expands to)  F[String] => String\n",
      "val res30 = cata(evalStr)(exprfunctor)(x)\n",
      "                 ^Compilation Failed"
     ]
    },
    {
     "ename": "",
     "evalue": "",
     "output_type": "error",
     "traceback": [
      "Compilation Failed"
     ]
    }
   ],
   "source": [
    "cata(evalStr)(exprfunctor)(x)"
   ]
  },
  {
   "cell_type": "code",
   "execution_count": 30,
   "id": "5886d5c8",
   "metadata": {},
   "outputs": [
    {
     "name": "stderr",
     "output_type": "stream",
     "text": [
      "cmd30.sc:1: type mismatch;\n",
      " found   : ammonite.$sess.cmd23.wrapper.cmd22.Algebra[ammonite.$sess.cmd23.wrapper.cmd21.ExprF,Double]\n",
      "    (which expands to)  ammonite.$sess.cmd23.wrapper.cmd21.ExprF[Double] => Double\n",
      " required: ammonite.$sess.cmd18.wrapper.cmd16.Algebra[F,Double]\n",
      "    (which expands to)  F[Double] => Double\n",
      "val res30 = cata(evalDouble(Assing(3, \"x\")))(exprfunctor)(x)\n",
      "                           ^Compilation Failed"
     ]
    },
    {
     "ename": "",
     "evalue": "",
     "output_type": "error",
     "traceback": [
      "Compilation Failed"
     ]
    }
   ],
   "source": [
    "cata(evalDouble(Assing(3, \"x\")))(exprfunctor)(x)"
   ]
  },
  {
   "cell_type": "code",
   "execution_count": 30,
   "id": "99c4856e",
   "metadata": {},
   "outputs": [
    {
     "name": "stderr",
     "output_type": "stream",
     "text": [
      "cmd30.sc:1: type mismatch;\n",
      " found   : ammonite.$sess.cmd29.wrapper.cmd22.Algebra[ammonite.$sess.cmd29.wrapper.cmd27.NatF,(Int, Int)]\n",
      "    (which expands to)  ammonite.$sess.cmd29.wrapper.cmd27.NatF[(Int, Int)] => (Int, Int)\n",
      " required: ammonite.$sess.cmd18.wrapper.cmd16.Algebra[F,(Int, Int)]\n",
      "    (which expands to)  F[(Int, Int)] => (Int, Int)\n",
      "val res30 = cata(evaltoFib)(NatFunctor)(suc(num))\n",
      "                 ^Compilation Failed"
     ]
    },
    {
     "ename": "",
     "evalue": "",
     "output_type": "error",
     "traceback": [
      "Compilation Failed"
     ]
    }
   ],
   "source": [
    "cata(evaltoFib)(NatFunctor)(suc(num))"
   ]
  },
  {
   "cell_type": "code",
   "execution_count": 45,
   "id": "87d8842a",
   "metadata": {},
   "outputs": [
    {
     "data": {
      "text/plain": [
       "res3: Int = 2\n"
      ]
     },
     "execution_count": 45,
     "metadata": {},
     "output_type": "execute_result"
    }
   ],
   "source": [
    "cata(evalToInt)(NatFunctor)(num)"
   ]
  },
  {
   "cell_type": "code",
   "execution_count": 3,
   "id": "53f1b8b7",
   "metadata": {},
   "outputs": [
    {
     "ename": "<console>",
     "evalue": "26: error: not found: value %",
     "output_type": "error",
     "traceback": [
      "<console>:26: error: not found: value %",
      "       %load_ext itikz",
      "       ^",
      "<console>:26: error: not found: value itikz",
      "       %load_ext itikz",
      "                 ^",
      ""
     ]
    }
   ],
   "source": [
    "%load_ext itikz"
   ]
  },
  {
   "cell_type": "code",
   "execution_count": 4,
   "id": "f5919c71",
   "metadata": {},
   "outputs": [
    {
     "ename": "<console>",
     "evalue": "4: error: error in unicode escape",
     "output_type": "error",
     "traceback": [
      "<console>:4: error: error in unicode escape",
      "       \\usepackage{tikz-cd}",
      "         ^",
      "<console>:4: error: illegal character '\\uffff'",
      "       \\usepackage{tikz-cd}",
      "        ^",
      "<console>:5: error: error in unicode escape",
      "       \\usepackage{adjustbox}",
      "         ^",
      "<console>:5: error: illegal character '\\uffff'",
      "       \\usepackage{adjustbox}",
      "        ^",
      "<console>:7: error: ';' expected but ',' found.",
      "       \\adjustbox{scale=3,center}{%",
      "                         ^",
      "<console>:7: error: ';' expected but '{' found.",
      "       \\adjustbox{scale=3,center}{%",
      "                                 ^",
      ""
     ]
    }
   ],
   "source": [
    "%%itikz\n",
    "\\documentclass{standalone}\n",
    "\\usepackage{tikz-cd}\n",
    "\\usepackage{adjustbox}\n",
    "\\begin{document}\n",
    "\\adjustbox{scale=3,center}{%\n",
    "    \\begin{tikzcd}\n",
    "    X \\arrow[r, hook] \\arrow[dr, dashrightarrow]\n",
    "    & \\bar{X} \\arrow[d]\\\\\n",
    "    & Y\n",
    "    \\end{tikzcd}\n",
    "}\n",
    "\\end{document}"
   ]
  },
  {
   "cell_type": "code",
   "execution_count": null,
   "id": "160c9a04",
   "metadata": {},
   "outputs": [],
   "source": []
  }
 ],
 "metadata": {
  "kernelspec": {
   "display_name": "Scala",
   "language": "scala",
   "name": "scala"
  },
  "language_info": {
   "codemirror_mode": "text/x-scala",
   "file_extension": ".scala",
   "mimetype": "text/x-scala",
   "name": "scala",
   "nbconvert_exporter": "script",
   "version": "2.12.11"
  },
  "toc-autonumbering": true,
  "toc-showcode": true,
  "toc-showmarkdowntxt": true
 },
 "nbformat": 4,
 "nbformat_minor": 5
}
