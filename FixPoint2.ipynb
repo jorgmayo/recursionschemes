{
 "cells": [
  {
   "cell_type": "markdown",
   "id": "0c7e80cf-d856-479f-95f8-1578fe698964",
   "metadata": {},
   "source": [
    "# Recursion Schemes in Scala\n",
    "\n",
    "---\n",
    "\n",
    "## Introduction\n",
    "\n",
    "---\n",
    "\n",
    "Es casi seguro que todos, de una maner o de otra, hemos oido hablar de recursión. De manera intuitiva, un objeto es recursivo si se puede definir inductivamente sobre unos casos base y unas reglas de construcción. Uno de los ejemplos más sencillos es el de los números naturales: tenemos un primer elemento llamado 0 que es un número natural y después tenemos la regla _todo número natural tiene un siguiente_. Así podemos construir todos los números que nos plazcan. De mano de los objetos recursivos, tenemos las funciones recursivas, que recorren la estructura recursiva para calcular su valor. Un nuevo ejemplo sencillo de esto es la suma de naturales. Por ejemplo, la función que suma un cierto m es:\n",
    "\n",
    "$$\n",
    "m + 0 = 0 \\\\\n",
    "\n",
    "m + s(n) = s(m + n)\n",
    "$$\n",
    "\n",
    "donde s(n) es la función que asigna el siguiente de n.\n",
    "\n",
    "La esencia es que las funciones recursivas definidas sobre una estructura inductiva recorren la estructura hasta llegar a los casos base y después van construyendo desde ese punto un resultado. \n",
    "\n",
    "Voliendo al mundo de la programación, uno de los ejemplos más famosos de tipos recursivos es el de Listas y Trees. Vamos a desarrollar la charla sobre un ejemplo tonto para que sea más notorio el argumento que vamos a realizar que la implementación como tal que se necesita.\n",
    "\n",
    "Imaginemos que queremos implementar la estructura de los números enteros con las operaciones de suma y producto. Para ello, podemos definir una estructura recursiva que genere, desde los casos base (números enteros) un arbol de expresiones que recreen estas operaciones. Un ejemplo sencillo en scala sería:"
   ]
  },
  {
   "cell_type": "code",
   "execution_count": null,
   "id": "7e2a22cc-ba32-4b37-b3db-bfa4fbd2a623",
   "metadata": {},
   "outputs": [],
   "source": []
  },
  {
   "cell_type": "code",
   "execution_count": 27,
   "id": "e6451776-eb95-45e0-aed7-98c5801626b4",
   "metadata": {},
   "outputs": [
    {
     "data": {
      "text/plain": [
       "defined \u001b[32mtrait\u001b[39m \u001b[36mRing\u001b[39m\n",
       "defined \u001b[32mobject\u001b[39m \u001b[36mZero\u001b[39m\n",
       "defined \u001b[32mobject\u001b[39m \u001b[36mOne\u001b[39m\n",
       "defined \u001b[32mclass\u001b[39m \u001b[36mElem\u001b[39m\n",
       "defined \u001b[32mclass\u001b[39m \u001b[36mAdd\u001b[39m\n",
       "defined \u001b[32mclass\u001b[39m \u001b[36mMult\u001b[39m"
      ]
     },
     "execution_count": 27,
     "metadata": {},
     "output_type": "execute_result"
    }
   ],
   "source": [
    "sealed trait Ring \n",
    "case object Zero extends Ring\n",
    "case object One extends Ring\n",
    "case class Elem(x: Int) extends Ring\n",
    "case class Add(x: Ring, y: Ring) extends Ring\n",
    "case class Mult(x: Ring, y: Ring) extends Ring"
   ]
  },
  {
   "cell_type": "markdown",
   "id": "e9f17f22-2919-4542-8445-86eba09bd90c",
   "metadata": {},
   "source": [
    "Una vez tenemos la estructura, nos interesa la forma en la que podemos evaluarla. Lo primero que podemos pensar es hacer corresponder cada clase asociada a una operación con su operación correspondiente, por ejemplo:"
   ]
  },
  {
   "cell_type": "code",
   "execution_count": 28,
   "id": "6d94a5ea-0556-441d-8cfc-b464aef3cce7",
   "metadata": {},
   "outputs": [
    {
     "data": {
      "text/plain": [
       "\u001b[36mexpression1\u001b[39m: \u001b[32mMult\u001b[39m = \u001b[33mMult\u001b[39m(\u001b[33mElem\u001b[39m(\u001b[32m4\u001b[39m), \u001b[33mAdd\u001b[39m(\u001b[33mElem\u001b[39m(\u001b[32m3\u001b[39m), One))"
      ]
     },
     "execution_count": 28,
     "metadata": {},
     "output_type": "execute_result"
    }
   ],
   "source": [
    "val expression1 = Mult(Elem(4), Add(Elem(3), One))"
   ]
  },
  {
   "cell_type": "code",
   "execution_count": 37,
   "id": "97843981-3c16-41de-bc00-ea3c7e689d4a",
   "metadata": {},
   "outputs": [
    {
     "data": {
      "text/plain": [
       "defined \u001b[32mfunction\u001b[39m \u001b[36mtoInt\u001b[39m"
      ]
     },
     "execution_count": 37,
     "metadata": {},
     "output_type": "execute_result"
    }
   ],
   "source": [
    "def toInt: Ring => Int = {\n",
    "    case Zero => 0\n",
    "    case One => 1\n",
    "    case Elem(x) => x\n",
    "    case Add(x, y) => toInt(x) + toInt(y)\n",
    "    case Mult(x, y) => toInt(x) * toInt(y)\n",
    "}"
   ]
  },
  {
   "cell_type": "code",
   "execution_count": 38,
   "id": "a54fa1fb-5db7-4a84-9d2c-5fff9af2e8a3",
   "metadata": {},
   "outputs": [
    {
     "data": {
      "text/plain": [
       "\u001b[36mexpresion1\u001b[39m: \u001b[32mMult\u001b[39m = \u001b[33mMult\u001b[39m(\u001b[33mElem\u001b[39m(\u001b[32m4\u001b[39m), \u001b[33mAdd\u001b[39m(\u001b[33mElem\u001b[39m(\u001b[32m3\u001b[39m), One))"
      ]
     },
     "execution_count": 38,
     "metadata": {},
     "output_type": "execute_result"
    }
   ],
   "source": [
    "val expresion1 = Mult(Elem(4), Add(Elem(3), One))"
   ]
  },
  {
   "cell_type": "markdown",
   "id": "81578994-3644-4f4d-bafb-c23a74d855d7",
   "metadata": {},
   "source": [
    "![](example.png)"
   ]
  },
  {
   "cell_type": "code",
   "execution_count": 39,
   "id": "cfbdd69b-f771-4112-990a-16bbfe90ef2a",
   "metadata": {},
   "outputs": [
    {
     "data": {
      "text/plain": [
       "\u001b[36mres38\u001b[39m: \u001b[32mInt\u001b[39m = \u001b[32m16\u001b[39m"
      ]
     },
     "execution_count": 39,
     "metadata": {},
     "output_type": "execute_result"
    }
   ],
   "source": [
    "toInt(expresion1)"
   ]
  },
  {
   "cell_type": "markdown",
   "id": "e37eac3a-4997-41ec-8dc7-126a137cd074",
   "metadata": {},
   "source": [
    "De igual manera, puede ser interesante implementar una evaluación a string:"
   ]
  },
  {
   "cell_type": "code",
   "execution_count": 40,
   "id": "c373ebf0-ce7b-4f64-abdb-d2cf11c90fd0",
   "metadata": {},
   "outputs": [
    {
     "data": {
      "text/plain": [
       "defined \u001b[32mfunction\u001b[39m \u001b[36mtoStringR\u001b[39m"
      ]
     },
     "execution_count": 40,
     "metadata": {},
     "output_type": "execute_result"
    }
   ],
   "source": [
    "def toStringR: Ring => String = {\n",
    "    case Zero => 0.toString\n",
    "    case One => 1.toString\n",
    "    case Elem(x) => x.toString\n",
    "    case Add(x, y) => toStringR(x) + \" + \" + toStringR(y)\n",
    "    case Mult(x, y) => toStringR(x) + \" * \" + toStringR(y)\n",
    "}\n"
   ]
  },
  {
   "cell_type": "code",
   "execution_count": 41,
   "id": "9f5539ad-3a36-4632-867f-88cf420c03d7",
   "metadata": {},
   "outputs": [
    {
     "data": {
      "text/plain": [
       "\u001b[36mres40\u001b[39m: \u001b[32mString\u001b[39m = \u001b[32m\"4 * 3 + 1\"\u001b[39m"
      ]
     },
     "execution_count": 41,
     "metadata": {},
     "output_type": "execute_result"
    }
   ],
   "source": [
    "toStringR(expresion1)"
   ]
  },
  {
   "cell_type": "markdown",
   "id": "82af7a88-f420-4aba-8a1b-a3ed85ea243a",
   "metadata": {},
   "source": [
    "Si nos fijamos en las dos formas de evaluar nuestras expresiones, vemos claramente exactamente el mismo patrón. Sería interesante abstraer la noción de evaluación para que, dependiendo de lo que se quiera evaluar, se use el mismo patrón pero sobre casos diferentes (Int, String). En este punto es donde la idea de functor sale a la luz. El concepto de functor nace de una rama profunda de las matemáticas llamada teoría de categorías. Sin embargo, muchas de sus ideas encajan perfectamente en el mundo de la programación. Por lo que a nosotros respecta, un functor es una forma de constrir tipos a partir de otros y construir funciones a partir de funciones entre tipos. Siguiendo esta idea, un functor en scala tiene esta pinta:\n",
    "\n",
    "```scala\n",
    "trait Functor[F[_]] {\n",
    "    def map[A,B](f: A => B): F[A] => F[B]\n",
    "}\n",
    "```\n",
    " Es decir, dame un tipo `A` y sé darte un tipo `F[A]`. Para las funciones es map el que nos da una función `F[A] => F[B]` a partir de A y B. Para tener los pies en la tierra, puedes convencerte de que `List[ ]` es un functor.\n",
    " \n",
    "Por ejemplo, si tuviesemos nuestr anillo Ring definido sobre un tipo genérico, podríamos darle estructura de functor y ayudarnos de map para saber evaluar las expresiones de Int y String a partir de la funcón base toString: Int => String. Vamos a tener esto en mente\n",
    "\n",
    "Otra cosa que notamos es que en estas implementaciones (a raíz de al definición de Ring) tenemos la definición de caso base y la forma de recorrerlo. Esto no es complicado en estos casos, pero los momentos de llamada a las funciones durante la recursión son una de las cosas que más dolor de cabeza puede provocar. Por poner un ejemplo tonto, si tenemos una forma de optimizar los cálculos de manera que si sumamos dos expresiones iguales nos genere esa expresión multiplicada por dos, las llamadas en su implementación pueden ser delicadas:"
   ]
  },
  {
   "cell_type": "code",
   "execution_count": 42,
   "id": "7d9cb639-b9af-4cdc-9331-d11731bbb82b",
   "metadata": {},
   "outputs": [
    {
     "data": {
      "text/plain": [
       "defined \u001b[32mfunction\u001b[39m \u001b[36moptimizeSum\u001b[39m"
      ]
     },
     "execution_count": 42,
     "metadata": {},
     "output_type": "execute_result"
    }
   ],
   "source": [
    "def optimizeSum: Ring => Ring = {\n",
    "    case Zero => Zero\n",
    "    case One => One\n",
    "    case Elem(x) => Elem(x)\n",
    "    case Add(x, y) => {\n",
    "        if (x == y) Mult(Elem(2), optimizeSum(x))\n",
    "        else Add(x, y)\n",
    "    }\n",
    "    case Mult(x, y) => Mult(optimizeSum(x), optimizeSum(y))\n",
    "}"
   ]
  },
  {
   "cell_type": "code",
   "execution_count": 43,
   "id": "0a3bee6b-51ba-493d-9b72-6216358251de",
   "metadata": {},
   "outputs": [
    {
     "data": {
      "text/plain": [
       "\u001b[36mres42\u001b[39m: \u001b[32mRing\u001b[39m = \u001b[33mMult\u001b[39m(\u001b[33mElem\u001b[39m(\u001b[32m2\u001b[39m), \u001b[33mElem\u001b[39m(\u001b[32m3\u001b[39m))"
      ]
     },
     "execution_count": 43,
     "metadata": {},
     "output_type": "execute_result"
    }
   ],
   "source": [
    "optimizeSum(Add(Elem(3), Elem(3)))"
   ]
  },
  {
   "cell_type": "markdown",
   "id": "ef9446e7-8556-4e53-8feb-34ca1fd6148d",
   "metadata": {},
   "source": [
    "Como puede apreciarse, tenemos unas llamadas de optimize en diversos lugares, cosa que empieza a complicar la vida, porque el compilador no se va a dar cuenta de qeu estamos cometiendo un error al prescindir de una de sus llamadas. El problema en este caso viene, como ya hemos dicho, de haber mezclado la idea de evaluar los casos base con el recorrido de la estructura inductiva del tipo. ¿Sería posible separar estas dos ideas?\n",
    "\n",
    "## Recursion schemes\n",
    "\n",
    "La idea detrás de los esquemas de recursión es abstraer el paso de la recursión del caso base, de manera que podamos dar un tipo base y, por un proceso general e independiente del tipo base, generar su estructura recursiva. Para ello vamos a definir un Functor asociado al anillo que contemple únicamente los casos base (olvidando la recursión por el momento):"
   ]
  },
  {
   "cell_type": "code",
   "execution_count": 18,
   "id": "2fb7be3d-9b7c-483f-9435-fc91ef1df505",
   "metadata": {},
   "outputs": [
    {
     "data": {
      "text/plain": [
       "defined \u001b[32mtrait\u001b[39m \u001b[36mRingF\u001b[39m\n",
       "defined \u001b[32mtrait\u001b[39m \u001b[36mRingFF\u001b[39m\n",
       "defined \u001b[32mobject\u001b[39m \u001b[36mZero\u001b[39m\n",
       "defined \u001b[32mobject\u001b[39m \u001b[36mOne\u001b[39m\n",
       "defined \u001b[32mclass\u001b[39m \u001b[36mElem\u001b[39m\n",
       "defined \u001b[32mclass\u001b[39m \u001b[36mAdd\u001b[39m\n",
       "defined \u001b[32mclass\u001b[39m \u001b[36mMult\u001b[39m"
      ]
     },
     "execution_count": 18,
     "metadata": {},
     "output_type": "execute_result"
    }
   ],
   "source": [
    "sealed trait RingF[+A]\n",
    "sealed trait RingFF[+A] extends RingF[A]\n",
    "case object Zero extends RingF[Nothing]\n",
    "case object One extends RingF[Nothing]\n",
    "case class Elem(x: Int) extends RingF[Nothing]\n",
    "case class Add[A](x: A, y: A) extends RingF[A]\n",
    "case class Mult[A](x:A, y: A) extends RingF[A]"
   ]
  },
  {
   "cell_type": "markdown",
   "id": "1a56cc0c-c4fb-47dc-a9c5-8ae4b15d0d56",
   "metadata": {},
   "source": [
    "Nat\n",
    "Nat\n",
    "Hemos supuesto que el conjunto que toma la estructura de anillo es el de los enteros, más adelante generalizaremos el conjunto base (al igual que se hace `List`). \n",
    "\n",
    "Desde este punto, podemos definir, por un lado, la estructura de functor de este tipo `RingF[A]`. Esto es uy fácil, pues dada na función `f: A => B` podemos contruir una función `map(f): RingF[A] => RingF[B]` simplemente aplicando `f` a los argumentos de las case classes que definen `RingF`:"
   ]
  },
  {
   "cell_type": "code",
   "execution_count": 4,
   "id": "aec973f2-8979-4f18-9c71-acb4c969f746",
   "metadata": {},
   "outputs": [
    {
     "data": {
      "text/plain": [
       "defined \u001b[32mtrait\u001b[39m \u001b[36mFunctor\u001b[39m"
      ]
     },
     "execution_count": 4,
     "metadata": {},
     "output_type": "execute_result"
    }
   ],
   "source": [
    "trait Functor[F[_]] {\n",
    "    def map[A,B](f: A => B): F[A] => F[B]\n",
    "}"
   ]
  },
  {
   "cell_type": "code",
   "execution_count": 5,
   "id": "adc3c05e-0980-47f5-8ff6-4a685919d7d2",
   "metadata": {},
   "outputs": [
    {
     "data": {
      "text/plain": [
       "\u001b[36mringFunctor\u001b[39m: \u001b[32mAnyRef\u001b[39m with \u001b[32mFunctor\u001b[39m[\u001b[32mRingF\u001b[39m] = ammonite.$sess.cmd4$Helper$$anon$1@455b726c"
      ]
     },
     "execution_count": 5,
     "metadata": {},
     "output_type": "execute_result"
    }
   ],
   "source": [
    "val ringFunctor = new Functor[RingF] {\n",
    "    override def map[A, B](f: A => B): RingF[A] => RingF[B] = {\n",
    "        case Zero => Zero\n",
    "        case One => One\n",
    "        case Elem(x) => Elem(x)\n",
    "        case Add(x, y) => Add(f(x), f(y))\n",
    "        case Mult(x, y) => Mult(f(x), f(y))\n",
    "    }\n",
    "}"
   ]
  },
  {
   "cell_type": "markdown",
   "id": "cf95de54-3729-4cab-9ec7-8e515a7f55a7",
   "metadata": {},
   "source": [
    "Además de tener la estructura de functor, podemos redefinir las funciones de evaluación para que se centren únicamente de los casos base:"
   ]
  },
  {
   "cell_type": "code",
   "execution_count": 7,
   "id": "2fcbc8f1-78c7-46dd-9b16-1972335671d1",
   "metadata": {},
   "outputs": [
    {
     "data": {
      "text/plain": [
       "defined \u001b[32mfunction\u001b[39m \u001b[36mevalToInt\u001b[39m\n",
       "defined \u001b[32mfunction\u001b[39m \u001b[36mevalToStr\u001b[39m\n",
       "defined \u001b[32mfunction\u001b[39m \u001b[36mliftInt\u001b[39m"
      ]
     },
     "execution_count": 7,
     "metadata": {},
     "output_type": "execute_result"
    }
   ],
   "source": [
    "def evalToInt: RingF[Int] => Int = {\n",
    "    x => x match {\n",
    "        case Zero => 0\n",
    "        case One => 1\n",
    "        case Elem(x) => x\n",
    "        case Add(x, y) => x + y\n",
    "        case Mult(x, y) => x*y\n",
    "    }\n",
    "}\n",
    "\n",
    "def evalToStr: RingF[String] => String = {\n",
    "    x => x match {\n",
    "        case Zero => \"0\"\n",
    "        case One => \"1\"\n",
    "        case Elem(x) => x.toString\n",
    "        case Add(x, y) => x + \" + \" + y\n",
    "        case Mult(x, y) => x + \" * \" + y\n",
    "    }\n",
    "}\n",
    "\n",
    "def liftInt: RingF[RingF[Int]] => RingF[Int] = {\n",
    "    ringFunctor.map(evalToInt)\n",
    "}"
   ]
  },
  {
   "cell_type": "code",
   "execution_count": 8,
   "id": "53add2b9-295b-4a38-8ef5-58a1dc3377b9",
   "metadata": {},
   "outputs": [
    {
     "data": {
      "text/plain": [
       "\u001b[36mz\u001b[39m: \u001b[32mMult\u001b[39m[\u001b[32mElem\u001b[39m[\u001b[32mNothing\u001b[39m]] = \u001b[33mMult\u001b[39m(\u001b[33mElem\u001b[39m(\u001b[32m3\u001b[39m), \u001b[33mElem\u001b[39m(\u001b[32m5\u001b[39m))\n",
       "\u001b[36mres7_1\u001b[39m: \u001b[32mRingF\u001b[39m[\u001b[32mInt\u001b[39m] = \u001b[33mMult\u001b[39m(\u001b[32m3\u001b[39m, \u001b[32m5\u001b[39m)"
      ]
     },
     "execution_count": 8,
     "metadata": {},
     "output_type": "execute_result"
    }
   ],
   "source": [
    "val z = Mult(Elem(3), Elem(5))\n",
    "liftInt(z)"
   ]
  },
  {
   "cell_type": "markdown",
   "id": "3ae57409-8938-4e86-9ebd-2067f9c7137e",
   "metadata": {},
   "source": [
    "Vale, dos de los puntos que hemos comentado ya los hemos conseguido, sin embargo, esto produce algunos problemas. Si, por ejemplo, queremos definir un valor similar a `expression1` necesitamos anidar las tipos `A` dentro de RingF:"
   ]
  },
  {
   "cell_type": "code",
   "execution_count": 48,
   "id": "0f8ea65b-ff9a-4e62-bdce-a86ab7da369d",
   "metadata": {},
   "outputs": [
    {
     "data": {
      "text/plain": [
       "\u001b[36mexpresion1F\u001b[39m: \u001b[32mRingF\u001b[39m[\u001b[32mRingF\u001b[39m[\u001b[32mRingF\u001b[39m[\u001b[32mNothing\u001b[39m]]] = \u001b[33mMult\u001b[39m(\u001b[33mElem\u001b[39m(\u001b[32m4\u001b[39m), \u001b[33mAdd\u001b[39m(\u001b[33mElem\u001b[39m(\u001b[32m3\u001b[39m), One))"
      ]
     },
     "execution_count": 48,
     "metadata": {},
     "output_type": "execute_result"
    }
   ],
   "source": [
    "val expresion1F: RingF[RingF[RingF[Nothing]]] = Mult(Elem(4), Add(Elem(3), One))"
   ]
  },
  {
   "cell_type": "markdown",
   "id": "1b36b2f8-bc6c-4338-9535-172d5fab30c7",
   "metadata": {},
   "source": [
    "Como puede verse, esta estructura dificulta mucho su construcción y no es nada cómoda. Además, otro problema es que no podemos evaluarla, porque la signatura de evalToInt es `RingF[Int]` y no una estructura anidada de `RingF[RingF[..]]`. Para solucionar esto, necesitamos abstraer RingF para que tenga un sabor recursivo. Vamos a desarrollar esto despacio porque en este punto es donde vienen las curvas."
   ]
  },
  {
   "cell_type": "code",
   "execution_count": 3,
   "id": "7c5fd656-1a97-4510-8507-e472f742f507",
   "metadata": {},
   "outputs": [
    {
     "data": {
      "text/plain": [
       "defined \u001b[32mfunction\u001b[39m \u001b[36meval1\u001b[39m"
      ]
     },
     "execution_count": 3,
     "metadata": {},
     "output_type": "execute_result"
    }
   ],
   "source": [
    "def eval1: RingF[RingF[Int]] => RingF[Int] = {\n",
    "    case Zero => Zero\n",
    "    case One => One\n",
    "    case Elem(x) => Elem(x)\n",
    "    case Add(x, y) => Add(evalToInt(x), evalToInt(y))\n",
    "    case Mult(x, y) => Mult(evalToInt(x), evalToInt(y))\n",
    "}"
   ]
  },
  {
   "cell_type": "code",
   "execution_count": 27,
   "id": "3e2b0143-8797-4173-b647-9251fda7e2e0",
   "metadata": {},
   "outputs": [
    {
     "data": {
      "text/plain": [
       "\u001b[36mz\u001b[39m: \u001b[32mRingF\u001b[39m[\u001b[32mInt\u001b[39m] = \u001b[33mAdd\u001b[39m(\u001b[32m3\u001b[39m, \u001b[32m4\u001b[39m)\n",
       "\u001b[36mres26_1\u001b[39m: \u001b[32mString\u001b[39m = \u001b[32m\"3 + 4\"\u001b[39m"
      ]
     },
     "execution_count": 27,
     "metadata": {},
     "output_type": "execute_result"
    }
   ],
   "source": [
    "val z: RingF[Int] = Add(3, 4)\n",
    "\n",
    "evalToStr(ringFunctor.map[Int, String](x => x.toString)(z))"
   ]
  },
  {
   "cell_type": "markdown",
   "id": "9f195940-2ade-4ac9-b7ff-4904496efeb7",
   "metadata": {},
   "source": [
    "---\n",
    "# Apéndice\n",
    "---"
   ]
  },
  {
   "cell_type": "code",
   "execution_count": 1,
   "id": "8b82e537-f3a2-4e7f-8375-e89d95628993",
   "metadata": {},
   "outputs": [
    {
     "data": {
      "text/plain": [
       "\u001b[32mimport \u001b[39m\u001b[36m$ivy.$                                \n",
       "\n",
       "\u001b[39m\n",
       "\u001b[32mimport \u001b[39m\u001b[36mreftree.render._, reftree.diagram._\n",
       "\u001b[39m\n",
       "\u001b[32mimport \u001b[39m\u001b[36mreftree.contrib.SimplifiedInstances.string\n",
       "\u001b[39m\n",
       "\u001b[36mrenderer\u001b[39m: \u001b[32mRenderer\u001b[39m = \u001b[33mRenderer\u001b[39m(\n",
       "  \u001b[33mRenderingOptions\u001b[39m(\n",
       "    \u001b[32m0.8\u001b[39m,\n",
       "    \u001b[33mWrappedArray\u001b[39m(\n",
       "      \u001b[33mRGBA\u001b[39m(\u001b[32m0.06274509803921569\u001b[39m, \u001b[32m0.3058823529411765\u001b[39m, \u001b[32m0.5450980392156862\u001b[39m, \u001b[32m1.0\u001b[39m),\n",
       "      \u001b[33mRGBA\u001b[39m(\u001b[32m0.13333333333333333\u001b[39m, \u001b[32m0.5450980392156862\u001b[39m, \u001b[32m0.13333333333333333\u001b[39m, \u001b[32m1.0\u001b[39m),\n",
       "      \u001b[33mRGBA\u001b[39m(\u001b[32m0.803921568627451\u001b[39m, \u001b[32m0.3568627450980392\u001b[39m, \u001b[32m0.27058823529411763\u001b[39m, \u001b[32m1.0\u001b[39m)\n",
       "    ),\n",
       "    \u001b[32m\"Source Code Pro\"\u001b[39m,\n",
       "    \u001b[32m60\u001b[39m\n",
       "  ),\n",
       "  \u001b[33mAnimationOptions\u001b[39m(2 seconds, 1 second, \u001b[32m9\u001b[39m, true, \u001b[32m0\u001b[39m),\n",
       "  .,\n",
       "  \u001b[32m\"png\"\u001b[39m\n",
       ")"
      ]
     },
     "execution_count": 1,
     "metadata": {},
     "output_type": "execute_result"
    }
   ],
   "source": [
    "import $ivy.`io.github.stanch::reftree:1.3.0`\n",
    "\n",
    "import reftree.render._, reftree.diagram._\n",
    "import reftree.contrib.SimplifiedInstances.string\n",
    "val renderer = Renderer(renderingOptions = RenderingOptions(density = 60))"
   ]
  },
  {
   "cell_type": "code",
   "execution_count": 1,
   "id": "762d400f-1101-4bd4-bb3d-ac06a761562b",
   "metadata": {
    "tags": []
   },
   "outputs": [
    {
     "name": "stderr",
     "output_type": "stream",
     "text": [
      "cmd1.sc:1: not found: value expresion1\n",
      "val res1_0 = renderer.render(\"example\", Diagram.sourceCodeCaption(expresion1))\n",
      "                                                                  ^Compilation Failed"
     ]
    },
    {
     "ename": "",
     "evalue": "",
     "output_type": "error",
     "traceback": [
      "Compilation Failed"
     ]
    }
   ],
   "source": [
    "renderer.render(\"example\", Diagram.sourceCodeCaption(expresion1))\n",
    "Image.fromFile(\"example.png\")"
   ]
  },
  {
   "cell_type": "code",
   "execution_count": null,
   "id": "26d161ca-d4d9-4e3c-bcaf-1621c697e6be",
   "metadata": {},
   "outputs": [],
   "source": [
    "\n",
    "renderer.render(\"example2\", Diagram.sourceCodeCaption(expresion1))\n",
    "Image.fromFile(\"example2.png\")"
   ]
  },
  {
   "cell_type": "code",
   "execution_count": 48,
   "id": "e724db8a-313a-4b17-b3fc-3cd8a1e69922",
   "metadata": {},
   "outputs": [
    {
     "name": "stderr",
     "output_type": "stream",
     "text": [
      "cmd48.sc:1: To render a diagram for type ammonite.$sess.cmd47.wrapper.cmd43.RingF[ammonite.$sess.cmd47.wrapper.cmd43.RingF[ammonite.$sess.cmd47.wrapper.cmd43.RingF[Nothing]]], implement an instance of reftree.core.ToRefTree[ammonite.$sess.cmd47.wrapper.cmd43.RingF[ammonite.$sess.cmd47.wrapper.cmd43.RingF[ammonite.$sess.cmd47.wrapper.cmd43.RingF[Nothing]]]]\n",
      "val res48_0 = renderer.render(\"example2\",  Diagram.sourceCodeCaption(expresion1F))\n",
      "                                                                    ^Compilation Failed"
     ]
    },
    {
     "ename": "",
     "evalue": "",
     "output_type": "error",
     "traceback": [
      "Compilation Failed"
     ]
    }
   ],
   "source": [
    "renderer.render(\"example2\",  Diagram.sourceCodeCaption(expresion1F))\n",
    "Image.fromFile(\"example2.png\")"
   ]
  },
  {
   "cell_type": "markdown",
   "id": "27ff978c-de90-4807-9420-9fa87361616b",
   "metadata": {},
   "source": [
    "Todos, de una manera u otra, hemos oido hablar de recursión. Este concepto nace de la idea de usar una definición sobre sí misma para dar lugar a un nuevo objeto. Es una idea sencilla y de enorme utilidad tanto para las matemáticas como para los lenguajes deprogramación. Lo que vamos a intentar a lo largo de este trabajito es desarrollar en  detalle esta idea, hasta el punto de abstraerla lo más posible para generar un esquema general de recursión (y de evaluación de estructuras recursivas) que podamos usar tanto para entender mejor el concepto de recursión como para aplicarlo en casos de uso reales. \n",
    "\n",
    "### La idea de recursión: recursión en matemáticas y en computación\n",
    "\n",
    "Es enorme la cantidad de lugares en los que este concepto es útil, uno de ellos, en el mismo corazón del formalismo matemático, en las definiciones de números naturales (a la peano) y en la definción de sus operaciones. Es decir, entendiendo las operaciones sobre números naturales como funciones $op:\\mathbb{N}\\times\\mathbb{N}\\rightarrow\\mathbb{N}$, lo que tenemos son construcciones de conjuntos \"_tipos_\" recursivos, que son los números naturales en este caso, y el de operaciones recursivas (suma, multiplicación, exponenciación). Veamos más en detalle este ejemplo:\n",
    "\n",
    "    \n",
    "## From expresions to recursion\n",
    "\n",
    "Imagina que tenemos una abstracción de un anillo, es decir, un conjunto en la que existen dos operaciones, suma y preocuto y un elemento neutro para cada una de ellas, 0 y 1 respectivamente. "
   ]
  },
  {
   "cell_type": "code",
   "execution_count": 16,
   "id": "f08d923b",
   "metadata": {},
   "outputs": [
    {
     "data": {
      "text/plain": [
       "defined \u001b[32mtrait\u001b[39m \u001b[36mRingF\u001b[39m\n",
       "defined \u001b[32mtrait\u001b[39m \u001b[36mRingFF\u001b[39m\n",
       "defined \u001b[32mobject\u001b[39m \u001b[36mZero\u001b[39m\n",
       "defined \u001b[32mobject\u001b[39m \u001b[36mOne\u001b[39m\n",
       "defined \u001b[32mclass\u001b[39m \u001b[36mElem\u001b[39m\n",
       "defined \u001b[32mclass\u001b[39m \u001b[36mAdd\u001b[39m\n",
       "defined \u001b[32mclass\u001b[39m \u001b[36mMult\u001b[39m"
      ]
     },
     "execution_count": 16,
     "metadata": {},
     "output_type": "execute_result"
    }
   ],
   "source": [
    "sealed trait RingF[+A, +B]\n",
    "sealed trait RingFF[+A] extends RingF[A, Nothing]\n",
    "case object Zero extends RingF[Nothing, Nothing] with RingFF[Nothing]\n",
    "case object One extends RingF[Nothing, Nothing] with RingFF[Nothing]\n",
    "case class Elem[B](x: B) extends RingF[Nothing, B]\n",
    "case class Add[A](x: A, y: A) extends RingF[A, Nothing] with RingFF[A]\n",
    "case class Mult[A](x:A, y: A) extends RingF[A, Nothing] with RingFF[A]"
   ]
  },
  {
   "cell_type": "markdown",
   "id": "0b76a584",
   "metadata": {},
   "source": [
    "El tipo geneŕico A nos permite dejar libre las posibles implementaciones. Una vez se tiene esta estructura genérica, resulta interesante implementar una forma de interpretarla y de evaluarla, por ejemplo, podemos definir la estructura del anillo de los enteros. Una posible evaluación es a entero, de manera que implementamos las operaciones. Otra se puede hacer sobre Strings, para tener una representación de las operacioens. "
   ]
  },
  {
   "cell_type": "code",
   "execution_count": 28,
   "id": "2a36c6aa",
   "metadata": {},
   "outputs": [
    {
     "name": "stderr",
     "output_type": "stream",
     "text": [
      "cmd28.sc:3: pattern type is incompatible with expected type;\n",
      " found   : cmd28.this.cmd15.Zero.type\n",
      " required: cmd28.this.cmd15.RingFF[Int]\n",
      "        case Zero => 0\n",
      "             ^cmd28.sc:4: pattern type is incompatible with expected type;\n",
      " found   : cmd28.this.cmd15.One.type\n",
      " required: cmd28.this.cmd15.RingFF[Int]\n",
      "        case One => 1\n",
      "             ^cmd28.sc:5: constructor cannot be instantiated to expected type;\n",
      " found   : cmd28.this.cmd15.Add[A]\n",
      " required: cmd28.this.cmd15.RingFF[Int]\n",
      "        case Add(x, y) => x + y\n",
      "             ^cmd28.sc:6: constructor cannot be instantiated to expected type;\n",
      " found   : cmd28.this.cmd15.Mult[A]\n",
      " required: cmd28.this.cmd15.RingFF[Int]\n",
      "        case Mult(x, y) => x*y\n",
      "             ^Compilation Failed"
     ]
    },
    {
     "ename": "",
     "evalue": "",
     "output_type": "error",
     "traceback": [
      "Compilation Failed"
     ]
    }
   ],
   "source": [
    "def evalToInt: RingFF[Int] => Int = {\n",
    "    x => x match {\n",
    "        case Zero => 0\n",
    "        case One => 1\n",
    "        case Add(x, y) => x + y\n",
    "        case Mult(x, y) => x*y\n",
    "    }\n",
    "}\n",
    "\n",
    "def evalToStr: RingF[Int] => String = {\n",
    "    x => x match {\n",
    "        case Zero => \"0\"\n",
    "        case One => \"1\"\n",
    "        case Add(x, y) => x.toString + \" + \" + y.toString\n",
    "        case Mult(x, y) => x.toString + \" * \" + y.toString\n",
    "    }\n",
    "}"
   ]
  },
  {
   "cell_type": "markdown",
   "id": "456ccdbf",
   "metadata": {},
   "source": [
    "Uno de los puntos a tener en cuenta es que ambas evaluaciones, esencialmente, pueden obtenerse una de la otra. Dado que tenemos una transformación Int => String, tenemos una trasformación de RingF[Int] => RingF[String]. Además, esto no se limita a esta función, este comportaminto lo podemos generar de manera abstracta a partir de cualquier función genérica A => B. Es decir, que para cada f: A => B, podemos definir una función RingF[A] => RingF[B]. Esta propiedad, a groso modo, hace que RingF sea un functor. Una implemntación de esta abstracción puede ser "
   ]
  },
  {
   "cell_type": "code",
   "execution_count": 17,
   "id": "d7e71de4-100f-42b1-b513-00ef9e957994",
   "metadata": {},
   "outputs": [
    {
     "data": {
      "text/plain": [
       "defined \u001b[32mtrait\u001b[39m \u001b[36mFunctor\u001b[39m"
      ]
     },
     "execution_count": 17,
     "metadata": {},
     "output_type": "execute_result"
    }
   ],
   "source": [
    "trait Functor[F[_]] {\n",
    "    def map[A,B](f: A => B): F[A] => F[B]\n",
    "}"
   ]
  },
  {
   "cell_type": "code",
   "execution_count": 18,
   "id": "83e85387-b8df-44bf-a4ab-d426f63efb66",
   "metadata": {},
   "outputs": [
    {
     "data": {
      "text/plain": [
       "\u001b[36mRingFunctor\u001b[39m: \u001b[32mAnyRef\u001b[39m with \u001b[32mFunctor\u001b[39m[\u001b[32mRingFF\u001b[39m] = ammonite.$sess.cmd17$Helper$$anon$1@34199932"
      ]
     },
     "execution_count": 18,
     "metadata": {},
     "output_type": "execute_result"
    }
   ],
   "source": [
    "implicit val RingFunctor = new Functor[RingFF] {\n",
    "    override def map[A, B](f: A => B): RingFF[A] => RingFF[B] = {\n",
    "        x => x match {\n",
    "            case Zero => Zero\n",
    "            case One => One\n",
    "            case Add(x, y) => Add(f(x), f(y))\n",
    "            case Mult(x, y) => Mult(f(x), f(y))\n",
    "        }\n",
    "    }\n",
    "\n",
    "}"
   ]
  },
  {
   "cell_type": "markdown",
   "id": "ea6d7039",
   "metadata": {},
   "source": [
    "Una vez que tenemos esta abstracción, podemos reimplementar el evalToStrig a partir del método map"
   ]
  },
  {
   "cell_type": "code",
   "execution_count": null,
   "id": "76093992",
   "metadata": {},
   "outputs": [],
   "source": []
  },
  {
   "cell_type": "markdown",
   "id": "720501c5",
   "metadata": {},
   "source": [
    "Hasta aquí todo genial, sin embargo, lo normal es que nos sepa a poco el definir operaciones binarioas de la forma 1 + 2. Si queremos definir la expresión 1 + 2x3 necesitamos cambiar la estructura a algo de la forma \n"
   ]
  },
  {
   "cell_type": "code",
   "execution_count": 19,
   "id": "f66bf258",
   "metadata": {},
   "outputs": [
    {
     "data": {
      "text/plain": [
       "\u001b[36mz\u001b[39m: \u001b[32mRingFF\u001b[39m[\u001b[32mRingFF\u001b[39m[\u001b[32mInt\u001b[39m]] = \u001b[33mAdd\u001b[39m(One, \u001b[33mMult\u001b[39m(\u001b[32m2\u001b[39m, \u001b[32m3\u001b[39m))"
      ]
     },
     "execution_count": 19,
     "metadata": {},
     "output_type": "execute_result"
    }
   ],
   "source": [
    "val z: RingFF[RingFF[Int]] = Add(One, Mult(2, 3))"
   ]
  },
  {
   "cell_type": "markdown",
   "id": "d2f21894",
   "metadata": {},
   "source": [
    "Cada vez que queramos generar una expresión más complicada, necesitamos, por un lado, añadir un tipo RingF al constructor y, además, redefinir el método evaltoInt. Esto da lugar a una estructura recursiva sobre las expresiones que generan las operaciones del anillo y, además, una dependencia en la forma de evaluarlo. Una de las posibles soluciones, y la más directa, es usar una extensión recursiva sobre RingF de manera que tengamos"
   ]
  },
  {
   "cell_type": "code",
   "execution_count": 5,
   "id": "d57b5a89",
   "metadata": {},
   "outputs": [
    {
     "data": {
      "text/plain": [
       "defined \u001b[32mtrait\u001b[39m \u001b[36mDirectRingF\u001b[39m\n",
       "defined \u001b[32mobject\u001b[39m \u001b[36mZero\u001b[39m\n",
       "defined \u001b[32mobject\u001b[39m \u001b[36mOne\u001b[39m\n",
       "defined \u001b[32mclass\u001b[39m \u001b[36mAdd\u001b[39m\n",
       "defined \u001b[32mclass\u001b[39m \u001b[36mMult\u001b[39m\n",
       "defined \u001b[32mfunction\u001b[39m \u001b[36mdirectEval\u001b[39m"
      ]
     },
     "execution_count": 5,
     "metadata": {},
     "output_type": "execute_result"
    }
   ],
   "source": [
    "sealed trait DirectRingF \n",
    "case object Zero extends DirectRingF\n",
    "case object One extends DirectRingF\n",
    "case class Add(x: DirectRingF, y: DirectRingF) extends DirectRingF\n",
    "case class Mult(x: DirectRingF, y: DirectRingF) extends DirectRingF\n",
    "\n",
    "def directEval: DirectRingF => Int = {\n",
    "    x => x match {\n",
    "        case Zero => 0\n",
    "        case One => 1\n",
    "        case Add(x, y) => directEval(x) + directEval(y)\n",
    "        case Mult(x, y) => directEval(x) * directEval(y)\n",
    "    }\n",
    "}"
   ]
  },
  {
   "cell_type": "markdown",
   "id": "6d055495",
   "metadata": {},
   "source": [
    "Esta sintaxis es perfectamente correcta. Sin embargo, se pierde queda un poco oscuro el paso de la evaluación de las expresiones de los nodos y las de las hojas. Por ello, y para disfrutar rompiéndonos un poco la cabeza, vamos a tratar de pensar en lo qeu significa la estructura recursiva en este caso.\n",
    "\n",
    "En primer lugar, tenemos un functor, es decir, un tipo que come otros tipos para generar otros nuevos. en nuestro caso, es de la forma\n",
    "\n",
    "A => F[A] => F[F[A]] => ...\n",
    "\n",
    "Además, si conocemos una evaluación concreta, por ejemplo, de tipo Int, tenemos una función F[Int] => Int. Es hora de empezar a dar nombre a esta estructura, es lo que se llama una F-álgebra. Más en concreto, dado un functor F una F-álgebra es un par (f, A), donde A es un tipo concreto y f es una aplicaión F[A] => A.\n",
    "\n",
    "Por ejemplo, (evalToInt, Int) es una RingF-álgebra. Básicamente, las F-álgebras codifican la manera en la que podemos evaluar expresiones generadas a partir del functor dado. \n",
    "\n",
    "Por otro lado, si tratamos de imaginar la idea de recursión para un cierto functor F, es como el resultado de aplicar F una cantidad infinita de veces, de manera que siempre pudiesemos cosntrur cualquier expresión a partir de la composición de objetos de tipo RingF[RingF[...]]. Es decir, el tipo recursivo, H,  para RingF debe ser un tipo con la propiedad de que RingF[H] = H, es decir, el final de la cadena de composiciones del functor RingF. A partir de la ecuación anterior, al tipo recursivo asociado a RingF se le conoce como punto fijo. Esta idea nos permite abstraer la noción de recursión y codificarla en la idea de los puntos fijos. Una implementación sencilla de un punto fijo genérico para un functor es el siguiente."
   ]
  },
  {
   "cell_type": "code",
   "execution_count": 19,
   "id": "2dc458ee",
   "metadata": {
    "tags": []
   },
   "outputs": [
    {
     "data": {
      "text/plain": [
       "defined \u001b[32mclass\u001b[39m \u001b[36mFix\u001b[39m\n",
       "defined \u001b[32mobject\u001b[39m \u001b[36mFix\u001b[39m"
      ]
     },
     "execution_count": 19,
     "metadata": {},
     "output_type": "execute_result"
    }
   ],
   "source": [
    "case class Fix[F[_]](unfix: F[Fix[F]] )\n",
    "object Fix {\n",
    "  def in[F[_]](ff: F[Fix[F]]): Fix[F] = new Fix[F](ff)\n",
    "  def out[F[_]]: Fix[F] => F[Fix[F]] = f => f.unfix\n",
    "}"
   ]
  },
  {
   "cell_type": "code",
   "execution_count": null,
   "id": "ca178831-dcdb-4686-9306-8c5da7361eb9",
   "metadata": {},
   "outputs": [],
   "source": []
  },
  {
   "cell_type": "code",
   "execution_count": null,
   "id": "8f984bb3-678b-44fe-a919-e842b9290e24",
   "metadata": {},
   "outputs": [],
   "source": []
  },
  {
   "cell_type": "code",
   "execution_count": 20,
   "id": "51beacf5-5ffd-4a90-a0fd-397eb227b0c3",
   "metadata": {},
   "outputs": [
    {
     "data": {
      "text/plain": [
       "defined \u001b[32mtype\u001b[39m \u001b[36mRing\u001b[39m\n",
       "\u001b[36mzero\u001b[39m: \u001b[32mFix\u001b[39m[\u001b[32mRingF\u001b[39m] = \u001b[33mFix\u001b[39m(Zero)\n",
       "\u001b[36mone\u001b[39m: \u001b[32mFix\u001b[39m[\u001b[32mRingF\u001b[39m] = \u001b[33mFix\u001b[39m(One)\n",
       "defined \u001b[32mfunction\u001b[39m \u001b[36melem\u001b[39m\n",
       "defined \u001b[32mfunction\u001b[39m \u001b[36madd\u001b[39m\n",
       "defined \u001b[32mfunction\u001b[39m \u001b[36mmult\u001b[39m"
      ]
     },
     "execution_count": 20,
     "metadata": {},
     "output_type": "execute_result"
    }
   ],
   "source": [
    "type Ring = Fix[RingF]\n",
    "val zero = Fix[RingF](Zero)\n",
    "val one =  Fix[RingF](One)\n",
    "def elem: Int  => Ring = x => Fix[RingF](Elem(x))\n",
    "def add: (Ring, Ring) => Ring = (x, y) =>  Fix[RingF](Add(x, y))\n",
    "def mult: (Ring, Ring) => Ring = (x, y) =>  Fix[RingF](Mult(x, y))"
   ]
  },
  {
   "cell_type": "code",
   "execution_count": 10,
   "id": "4ba95a24-7d27-49ad-89f0-f370fa30dda8",
   "metadata": {},
   "outputs": [
    {
     "name": "stderr",
     "output_type": "stream",
     "text": [
      "cmd10.sc:1: not found: value expresion1\n",
      "val res10_0 = renderer.render(\"example2\", Diagram.sourceCodeCaption(expresion1))\n",
      "                                                                    ^Compilation Failed"
     ]
    },
    {
     "ename": "",
     "evalue": "",
     "output_type": "error",
     "traceback": [
      "Compilation Failed"
     ]
    }
   ],
   "source": [
    "renderer.render(\"example2\", Diagram.sourceCodeCaption(expresion1))\n",
    "Image.fromFile(\"example2.png\")"
   ]
  },
  {
   "cell_type": "code",
   "execution_count": 23,
   "id": "19b11fd8-de0c-4a7d-89cc-4653b23dc49a",
   "metadata": {},
   "outputs": [
    {
     "data": {
      "text/plain": [
       "\u001b[36mexpresion2\u001b[39m: \u001b[32mRing\u001b[39m = \u001b[33mFix\u001b[39m(\u001b[33mMult\u001b[39m(\u001b[33mFix\u001b[39m(\u001b[33mElem\u001b[39m(\u001b[32m4\u001b[39m)), \u001b[33mFix\u001b[39m(\u001b[33mAdd\u001b[39m(\u001b[33mFix\u001b[39m(\u001b[33mElem\u001b[39m(\u001b[32m3\u001b[39m)), \u001b[33mFix\u001b[39m(One)))))"
      ]
     },
     "execution_count": 23,
     "metadata": {},
     "output_type": "execute_result"
    }
   ],
   "source": [
    "val expresion2 = mult(elem(4), add(elem(3), one))"
   ]
  },
  {
   "cell_type": "code",
   "execution_count": 29,
   "id": "d40e873d-c6b9-417a-bd2c-e1c82df06946",
   "metadata": {},
   "outputs": [
    {
     "data": {
      "image/png": "[encoded data removed]"
     },
     "metadata": {},
     "output_type": "display_data"
    },
    {
     "data": {
      "text/plain": [
       "\u001b[32mimport \u001b[39m\u001b[36m$ivy.$                                \n",
       "\n",
       "\u001b[39m"
      ]
     },
     "execution_count": 29,
     "metadata": {},
     "output_type": "execute_result"
    }
   ],
   "source": [
    "\n",
    "\n",
    "import $ivy.`io.github.stanch::reftree:1.3.0`\n",
    "\n",
    "{{\n",
    "  import reftree.render._, reftree.diagram._\n",
    "  import reftree.contrib.SimplifiedInstances.string\n",
    "  val renderer = Renderer(renderingOptions = RenderingOptions(density = 60))\n",
    "    \n",
    "  case class Person(name: String, age: Int)\n",
    "  val people = List(\n",
    "    Person(\"Alice\", 29),\n",
    "    Person(\"Bob\", 23),\n",
    "    Person(\"Charlie\", 34)\n",
    "  )\n",
    "\n",
    "  renderer.render(\"example1\", Diagram.sourceCodeCaption(expresion2))\n",
    "}}\n",
    "Image.fromFile(\"example1.png\")\n",
    "\n"
   ]
  },
  {
   "cell_type": "code",
   "execution_count": 30,
   "id": "86cb18ac-50a7-4233-ab1d-69ad33379cd4",
   "metadata": {},
   "outputs": [
    {
     "data": {
      "image/png": "[encoded data removed]"
     },
     "metadata": {},
     "output_type": "display_data"
    },
    {
     "data": {
      "text/plain": [
       "\u001b[32mimport \u001b[39m\u001b[36m$ivy.$                                \n",
       "\n",
       "\u001b[39m"
      ]
     },
     "execution_count": 30,
     "metadata": {},
     "output_type": "execute_result"
    }
   ],
   "source": [
    "import $ivy.`io.github.stanch::reftree:1.3.0`\n",
    "\n",
    "{{\n",
    "  import reftree.render._, reftree.diagram._\n",
    "  import reftree.contrib.SimplifiedInstances.string\n",
    "  val renderer = Renderer(renderingOptions = RenderingOptions(density = 60))\n",
    "    \n",
    "  renderer.render(\"example\", Diagram.sourceCodeCaption(expression1))\n",
    "}}\n",
    "Image.fromFile(\"example.png\")"
   ]
  },
  {
   "cell_type": "code",
   "execution_count": null,
   "id": "078c158c-9091-474c-a3da-ab64efc2bbf7",
   "metadata": {},
   "outputs": [],
   "source": [
    "import $ivy.`io.github.stanch::reftree:1.3.0`\n",
    "\n",
    "{{\n",
    "  import reftree.render._, reftree.diagram._\n",
    "  import reftree.contrib.SimplifiedInstances.string\n",
    "  val renderer = Renderer(renderingOptions = RenderingOptions(density = 60))\n",
    "    \n",
    "  case class Person(name: String, age: Int)\n",
    "  val people = List(\n",
    "    Person(\"Alice\", 29),\n",
    "    Person(\"Bob\", 23),\n",
    "    Person(\"Charlie\", 34)\n",
    "  )\n",
    "\n",
    "  renderer.render(\"example1\", Diagram.sourceCodeCaption(expresion1))\n",
    "}}\n",
    "Image.fromFile(\"example1.png\")"
   ]
  },
  {
   "cell_type": "code",
   "execution_count": null,
   "id": "bc9fc321-0e9f-4868-8610-d38b4608ad60",
   "metadata": {},
   "outputs": [],
   "source": []
  },
  {
   "cell_type": "markdown",
   "id": "3ca63b9c",
   "metadata": {},
   "source": [
    "Las funciones in y out son las que representan la igualdad de tipos ya que podemos ir de un tipo a otro sin perder nada de información (es un isomorfismo). A partir de este tipo, podemos contruir nuestros tipo recursivo asociado al functo RingF de la manera siguiente"
   ]
  },
  {
   "cell_type": "code",
   "execution_count": 6,
   "id": "9e4ee063",
   "metadata": {},
   "outputs": [
    {
     "name": "stderr",
     "output_type": "stream",
     "text": [
      "cmd6.sc:2: type mismatch;\n",
      " found   : cmd6.this.cmd2.Zero.type\n",
      " required: cmd6.this.cmd2.RingFF[cmd6.this.cmd1.Fix[cmd6.this.cmd2.RingFF]]\n",
      "val zero = Fix[RingFF](Zero)\n",
      "                       ^cmd6.sc:3: type mismatch;\n",
      " found   : cmd6.this.cmd2.One.type\n",
      " required: cmd6.this.cmd2.RingFF[cmd6.this.cmd1.Fix[cmd6.this.cmd2.RingFF]]\n",
      "val one =  Fix[RingFF](One)\n",
      "                       ^cmd6.sc:4: type mismatch;\n",
      " found   : cmd6.this.cmd2.Add[Helper.this.Ring]\n",
      "    (which expands to)  cmd6.this.cmd2.Add[cmd6.this.cmd1.Fix[cmd6.this.cmd2.RingFF]]\n",
      " required: cmd6.this.cmd2.RingFF[cmd6.this.cmd1.Fix[cmd6.this.cmd2.RingFF]]\n",
      "def add: (Ring, Ring) => Ring = (x, y) =>  Fix[RingFF](Add(x, y))\n",
      "                                                          ^cmd6.sc:5: type mismatch;\n",
      " found   : cmd6.this.cmd2.Mult[Helper.this.Ring]\n",
      "    (which expands to)  cmd6.this.cmd2.Mult[cmd6.this.cmd1.Fix[cmd6.this.cmd2.RingFF]]\n",
      " required: cmd6.this.cmd2.RingFF[cmd6.this.cmd1.Fix[cmd6.this.cmd2.RingFF]]\n",
      "def mult: (Ring, Ring) => Ring = (x, y) =>  Fix[RingFF](Mult(x, y))\n",
      "                                                            ^Compilation Failed"
     ]
    },
    {
     "ename": "",
     "evalue": "",
     "output_type": "error",
     "traceback": [
      "Compilation Failed"
     ]
    }
   ],
   "source": [
    "type Ring = Fix[RingFF]\n",
    "val zero = Fix[RingFF](Zero)\n",
    "val one =  Fix[RingFF](One)\n",
    "def add: (Ring, Ring) => Ring = (x, y) =>  Fix[RingFF](Add(x, y))\n",
    "def mult: (Ring, Ring) => Ring = (x, y) =>  Fix[RingFF](Mult(x, y))"
   ]
  },
  {
   "cell_type": "code",
   "execution_count": null,
   "id": "db337740-1663-4ade-aeb3-84a214ec43de",
   "metadata": {},
   "outputs": [],
   "source": []
  },
  {
   "cell_type": "markdown",
   "id": "1d1a329c",
   "metadata": {},
   "source": [
    "Con esto, ya podemos definir expresiones tan complejas ocmo deseemos:"
   ]
  },
  {
   "cell_type": "code",
   "execution_count": 24,
   "id": "10cc0c60",
   "metadata": {},
   "outputs": [
    {
     "data": {
      "text/plain": [
       "\u001b[36mr\u001b[39m: \u001b[32mRing\u001b[39m = \u001b[33mFix\u001b[39m(\n",
       "  \u001b[33mMult\u001b[39m(\n",
       "    \u001b[33mFix\u001b[39m(\u001b[33mAdd\u001b[39m(\u001b[33mFix\u001b[39m(One), \u001b[33mFix\u001b[39m(One))),\n",
       "    \u001b[33mFix\u001b[39m(\u001b[33mAdd\u001b[39m(\u001b[33mFix\u001b[39m(\u001b[33mAdd\u001b[39m(\u001b[33mFix\u001b[39m(One), \u001b[33mFix\u001b[39m(One))), \u001b[33mFix\u001b[39m(One)))\n",
       "  )\n",
       ")"
      ]
     },
     "execution_count": 24,
     "metadata": {},
     "output_type": "execute_result"
    }
   ],
   "source": [
    "val r = mult(add(one, one), add(add(one, one), one))"
   ]
  },
  {
   "cell_type": "markdown",
   "id": "698c8897",
   "metadata": {},
   "source": [
    "Uno de los objetivos lo hemos conseguido, en realidad, el trait Fix nos permite construir la estructura recursiva de cualquier functor, es decir, que dada cualquier definición de tipos sobre el caso base, podemos levantarla a su estructura recursiva. Sin embargo, esto no es muy interesanete si no podemos hacer lo mismo con las evaluaciones. Ya hemos comentado que las evaluaciones se basan en F-álgebras. "
   ]
  },
  {
   "cell_type": "code",
   "execution_count": 12,
   "id": "c8cd22e3",
   "metadata": {},
   "outputs": [
    {
     "data": {
      "text/plain": [
       "defined \u001b[32mtype\u001b[39m \u001b[36mAlgebra\u001b[39m"
      ]
     },
     "execution_count": 12,
     "metadata": {},
     "output_type": "execute_result"
    }
   ],
   "source": [
    "type Algebra[F[_], A] = F[A] => A"
   ]
  },
  {
   "cell_type": "markdown",
   "id": "20ab07f4",
   "metadata": {},
   "source": [
    "A partir de este punto, nos gustaria deducir cómo funciona la evaluación de las estructuras recursivas a partir de un álgebra concreta. Es aquí donde entra en juego de manera crucial que F sea un functor y que, por tanto, pueda generar aplicaciones entre las tipos contruidos con F. Sea i el punto fijo del functor F, tenemos que F[i] = i ( en el sentido de las aplicaciones, es decir que:\n",
    "\n",
    "F[i] -----> F[A]\n",
    " |             |\n",
    " |             |\n",
    " i ---------> A\n",
    " \n",
    " tenemos bien definidas tanto la aplicación in, como out, como el evaluador. Podemos contruir las dos funciones que conectan el álgebra del punto fijo con el ágebra dada. La respuesta es que sí, y esta función no depende del álgebra inicial: "
   ]
  },
  {
   "cell_type": "code",
   "execution_count": 13,
   "id": "c7a4eb5c",
   "metadata": {},
   "outputs": [
    {
     "data": {
      "text/plain": [
       "defined \u001b[32mfunction\u001b[39m \u001b[36mcata\u001b[39m"
      ]
     },
     "execution_count": 13,
     "metadata": {},
     "output_type": "execute_result"
    }
   ],
   "source": [
    "def cata[F[_], A](alg: Algebra[F, A])(implicit F: Functor[F]): Fix[F] => A = {\n",
    "    x => alg((F.map(cata(alg))(Fix.out(x))))\n",
    "}"
   ]
  },
  {
   "cell_type": "markdown",
   "id": "89c2b230",
   "metadata": {},
   "source": [
    "Con esta función, ya podemos generar la versión recursiva de evalToInt"
   ]
  },
  {
   "cell_type": "code",
   "execution_count": 15,
   "id": "89655bab",
   "metadata": {},
   "outputs": [
    {
     "data": {
      "text/plain": [
       "defined \u001b[32mfunction\u001b[39m \u001b[36mevalToInt\u001b[39m\n",
       "\u001b[36mres14_1\u001b[39m: \u001b[32mInt\u001b[39m = \u001b[32m3\u001b[39m"
      ]
     },
     "execution_count": 15,
     "metadata": {},
     "output_type": "execute_result"
    }
   ],
   "source": [
    "def evalToInt: Algebra[RingF, Int] = {\n",
    "    x => x match {\n",
    "        case Zero => 0\n",
    "        case One => 1\n",
    "        case Add(x, y) => x + y\n",
    "        case Mult(x, y) => x*y\n",
    "    }\n",
    "}\n",
    "cata(evalToInt)(RingFunctor)(exp)"
   ]
  },
  {
   "cell_type": "markdown",
   "id": "f4eae4df",
   "metadata": {},
   "source": [
    "## Recursive data Types\n",
    "\n",
    "Uno de los ejemplos más claros de tipos recursivos es el de litas. Una implementación sencilla sería \n",
    "\n",
    "---"
   ]
  },
  {
   "cell_type": "code",
   "execution_count": 16,
   "id": "a1a705ff-2967-4509-9ade-ccf783b1eb67",
   "metadata": {},
   "outputs": [
    {
     "data": {
      "text/plain": [
       "\u001b[32mimport \u001b[39m\u001b[36mannotation.tailrec\n",
       "\u001b[39m\n",
       "defined \u001b[32mfunction\u001b[39m \u001b[36mexpand\u001b[39m"
      ]
     },
     "execution_count": 16,
     "metadata": {},
     "output_type": "execute_result"
    }
   ],
   "source": [
    "import annotation.tailrec\n",
    "@tailrec\n",
    "def expand(n: Int, x: List[Int], i: Int): List[Int] = {\n",
    "    val z = x\n",
    "    n match {\n",
    "        case 0 =>  z\n",
    "        case _ => expand(n-1, i::x, i)\n",
    "    }\n",
    "}"
   ]
  },
  {
   "cell_type": "code",
   "execution_count": 17,
   "id": "c6e89316-89fa-406e-9883-1582069d8d0b",
   "metadata": {},
   "outputs": [
    {
     "data": {
      "text/plain": [
       "defined \u001b[32mfunction\u001b[39m \u001b[36mmult\u001b[39m\n",
       "defined \u001b[32mfunction\u001b[39m \u001b[36mevalToPol\u001b[39m"
      ]
     },
     "execution_count": 17,
     "metadata": {},
     "output_type": "execute_result"
    }
   ],
   "source": [
    "//Hacer esto de manera funcional, que es feo de cojones\n",
    "\n",
    "def mult(x: List[Int], y: List[Int]): List[Int] = {\n",
    "    val max = if (x.length >= y.length) x else y\n",
    "    val min = if (x.length < y.length) x else y\n",
    "    val fillmin = expand(max.length - min.length, min, 1)\n",
    "    var res = expand(2*(max.length)-1, Nil, 0).toArray\n",
    "    for (i <- (0 to (x.length-1))) {\n",
    "        for (j <- (0 to (y.length-1))) {\n",
    "            res(i + j) +=x(i)*y(j) \n",
    "        }\n",
    "    }\n",
    "    return res.toList\n",
    "}\n",
    "def evalToPol(x: List[Int]) = {\n",
    "    var res = \"\"\n",
    "    for (i <- (0 to x.length-1)) {\n",
    "        res += x(x.length-1-i)+\" x^\" + i + \" + \"\n",
    "    }\n",
    "    res\n",
    "}\n",
    "\n"
   ]
  },
  {
   "cell_type": "code",
   "execution_count": 20,
   "id": "4b7d3771-23dd-467d-a8e1-2bed2cbc7c53",
   "metadata": {},
   "outputs": [
    {
     "data": {
      "text/plain": [
       "\u001b[36mx\u001b[39m: \u001b[32mList\u001b[39m[\u001b[32mInt\u001b[39m] = \u001b[33mList\u001b[39m(\u001b[32m2\u001b[39m, \u001b[32m3\u001b[39m)\n",
       "\u001b[36my\u001b[39m: \u001b[32mList\u001b[39m[\u001b[32mInt\u001b[39m] = \u001b[33mList\u001b[39m(\u001b[32m3\u001b[39m, \u001b[32m2\u001b[39m, \u001b[32m1\u001b[39m)\n",
       "\u001b[36mres19_2\u001b[39m: \u001b[32mString\u001b[39m = \u001b[32m\"0 x^0 + 12 x^1 + 6 x^2 + \"\u001b[39m"
      ]
     },
     "execution_count": 20,
     "metadata": {},
     "output_type": "execute_result"
    }
   ],
   "source": [
    "val x = 2::3::Nil\n",
    "val y = 3::2::1::Nil\n",
    "evalToPol(mult(List(3), List(2, 4)))"
   ]
  },
  {
   "cell_type": "code",
   "execution_count": 22,
   "id": "a8acc261-9fa7-4654-b110-536ee565c59d",
   "metadata": {},
   "outputs": [
    {
     "data": {
      "text/plain": [
       "defined \u001b[32mtype\u001b[39m \u001b[36mPol\u001b[39m\n",
       "defined \u001b[32mfunction\u001b[39m \u001b[36mevalPol\u001b[39m\n",
       "defined \u001b[32mtype\u001b[39m \u001b[36mPolRing\u001b[39m"
      ]
     },
     "execution_count": 22,
     "metadata": {},
     "output_type": "execute_result"
    }
   ],
   "source": [
    "type Pol = List[Int]\n",
    "def evalPol: Algebra[RingF, Pol] = {\n",
    "    x => x match {\n",
    "        case Zero => 0::Nil\n",
    "        case One => 1::Nil\n",
    "        case Add(x, y) => {\n",
    "            val max =  if (x.length >= y.length) x else y\n",
    "            val min = if (x.length >= y.length) y else x\n",
    "            val N = max.length - min.length\n",
    "            val nmin= expand(N, min, 0)\n",
    "            max.zip(min).map(x => x match {\n",
    "                case (i, j) => i + j\n",
    "            })\n",
    "        }\n",
    "        case Mult(x, y) => mult(x, y)\n",
    "        \n",
    "    }\n",
    "}\n",
    "\n",
    "type PolRing = RingF[Pol]\n",
    "add(const())"
   ]
  },
  {
   "cell_type": "code",
   "execution_count": 4,
   "id": "7b3a712f",
   "metadata": {},
   "outputs": [
    {
     "data": {
      "text/plain": [
       "defined \u001b[32mtrait\u001b[39m \u001b[36mmyList\u001b[39m\n",
       "defined \u001b[32mobject\u001b[39m \u001b[36mNill\u001b[39m\n",
       "defined \u001b[32mclass\u001b[39m \u001b[36mCons\u001b[39m"
      ]
     },
     "execution_count": 4,
     "metadata": {},
     "output_type": "execute_result"
    }
   ],
   "source": [
    "sealed trait myList[+A]\n",
    "case object Nill extends myList[Nothing]\n",
    "case class Cons[A](h: A, t: myList[A]) extends myList[A]"
   ]
  },
  {
   "cell_type": "markdown",
   "id": "1f52ca51",
   "metadata": {},
   "source": [
    "Como puede verse, tenemos un caso base que es la lista vacía y un elemento Cons que representa la lista formada por una cabecera y su cola. "
   ]
  },
  {
   "cell_type": "code",
   "execution_count": 22,
   "id": "15064d08",
   "metadata": {},
   "outputs": [
    {
     "data": {
      "text/plain": [
       "defined \u001b[32mtrait\u001b[39m \u001b[36mFunctor\u001b[39m\n",
       "defined \u001b[32mtrait\u001b[39m \u001b[36mExprF\u001b[39m\n",
       "defined \u001b[32mclass\u001b[39m \u001b[36mc\u001b[39m\n",
       "defined \u001b[32mclass\u001b[39m \u001b[36mv\u001b[39m\n",
       "defined \u001b[32mclass\u001b[39m \u001b[36madd\u001b[39m\n",
       "defined \u001b[32mclass\u001b[39m \u001b[36mtimes\u001b[39m\n",
       "\u001b[36mexprfunctor\u001b[39m: \u001b[32mAnyRef\u001b[39m with \u001b[32mFunctor\u001b[39m[\u001b[32mExprF\u001b[39m] = ammonite.$sess.cmd21$Helper$$anon$1@50432c7f"
      ]
     },
     "execution_count": 22,
     "metadata": {},
     "output_type": "execute_result"
    }
   ],
   "source": [
    "trait Functor[F[_]] {\n",
    "    def map[A, B](f: A => B): F[A] => F[B]\n",
    "}\n",
    "\n",
    "sealed trait ExprF[A] \n",
    "final case class c[A](x: Double) extends ExprF[A] \n",
    "final case class  v[A](x: String) extends ExprF[A]\n",
    "final case class  add[A](x: A, y: A) extends ExprF[A]\n",
    "final case class  times[A](x: A, y : A) extends ExprF[A]\n",
    "val exprfunctor = new Functor[ExprF] {\n",
    "    override def map[A, B](f: A => B): ExprF[A] => ExprF[B] = {\n",
    "        exp1 => exp1 match {\n",
    "            case c(x) => c(x)\n",
    "            case v(s) => v(s)\n",
    "            case add(a, b) => add(f(a), f(b))\n",
    "            case times(a, b) => times(f(a), f(b))\n",
    "        }\n",
    "    }\n",
    "}"
   ]
  },
  {
   "cell_type": "code",
   "execution_count": null,
   "id": "e3b03f79",
   "metadata": {},
   "outputs": [],
   "source": []
  },
  {
   "cell_type": "code",
   "execution_count": null,
   "id": "3350c4e6",
   "metadata": {},
   "outputs": [],
   "source": []
  },
  {
   "cell_type": "code",
   "execution_count": 23,
   "id": "0cdfdb8b",
   "metadata": {},
   "outputs": [
    {
     "data": {
      "text/plain": [
       "defined \u001b[32mtype\u001b[39m \u001b[36mAlgebra\u001b[39m"
      ]
     },
     "execution_count": 23,
     "metadata": {},
     "output_type": "execute_result"
    }
   ],
   "source": [
    "type Algebra[F[_], A] = F[A] => A"
   ]
  },
  {
   "cell_type": "code",
   "execution_count": 24,
   "id": "ff68d546",
   "metadata": {},
   "outputs": [
    {
     "data": {
      "text/plain": [
       "defined \u001b[32mclass\u001b[39m \u001b[36mAssing\u001b[39m\n",
       "defined \u001b[32mfunction\u001b[39m \u001b[36mevalStr\u001b[39m\n",
       "defined \u001b[32mfunction\u001b[39m \u001b[36mevalDouble\u001b[39m"
      ]
     },
     "execution_count": 24,
     "metadata": {},
     "output_type": "execute_result"
    }
   ],
   "source": [
    "case class Assing(value: Double, variable: String)\n",
    "\n",
    "def evalStr: Algebra[ExprF, String] = {\n",
    "x => x match {\n",
    "    case c(x) => x.toString\n",
    "    case v(x) => x\n",
    "    case add(a, b) => a + \" + \" +  b\n",
    "    case times(a, b) => \"(\" + a + \")\" + \"*\" +\"(\" + b + \")\"\n",
    "    }\n",
    "}\n",
    "\n",
    "def evalDouble(y: Assing*): Algebra[ExprF, Double] = {\n",
    "    x => x match {\n",
    "        case c(x) => x\n",
    "        case v(x) => {\n",
    "            val value = y.filter(z => z.variable == x)\n",
    "            if (value.length > 0) value(0).value else 0\n",
    "    }\n",
    "        case add(a, b) => a + b\n",
    "        case times(a, b) => a * b\n",
    "}\n",
    "}"
   ]
  },
  {
   "cell_type": "code",
   "execution_count": 25,
   "id": "e1f641ad",
   "metadata": {},
   "outputs": [
    {
     "data": {
      "text/plain": [
       "defined \u001b[32mclass\u001b[39m \u001b[36mFix\u001b[39m\n",
       "defined \u001b[32mobject\u001b[39m \u001b[36mFix\u001b[39m"
      ]
     },
     "execution_count": 25,
     "metadata": {},
     "output_type": "execute_result"
    }
   ],
   "source": [
    "case class Fix[F[_]](unfix: F[Fix[F]] )\n",
    "object Fix {\n",
    "  def in[F[_]](ff: F[Fix[F]]): Fix[F] = new Fix[F](ff)\n",
    "  def out[F[_]]: Fix[F] => F[Fix[F]] = f => f.unfix\n",
    "}"
   ]
  },
  {
   "cell_type": "code",
   "execution_count": 26,
   "id": "c911d462",
   "metadata": {},
   "outputs": [
    {
     "data": {
      "text/plain": [
       "defined \u001b[32mtype\u001b[39m \u001b[36mExpr\u001b[39m\n",
       "defined \u001b[32mfunction\u001b[39m \u001b[36mVar\u001b[39m\n",
       "defined \u001b[32mfunction\u001b[39m \u001b[36mConst\u001b[39m\n",
       "defined \u001b[32mfunction\u001b[39m \u001b[36mAdd\u001b[39m\n",
       "defined \u001b[32mfunction\u001b[39m \u001b[36mTimes\u001b[39m"
      ]
     },
     "execution_count": 26,
     "metadata": {},
     "output_type": "execute_result"
    }
   ],
   "source": [
    "type Expr = Fix[ExprF]\n",
    "def Var: String => Expr = s => Fix[ExprF](v(s))\n",
    "def Const: Double => Expr = x => Fix[ExprF](c(x))\n",
    "def Add: (Expr, Expr) => Expr = (a, b) => Fix[ExprF](add(a, b))\n",
    "def Times: (Expr, Expr) => Expr = (a, b) => Fix[ExprF](times(a, b))\n"
   ]
  },
  {
   "cell_type": "code",
   "execution_count": 27,
   "id": "9e4e0e89",
   "metadata": {},
   "outputs": [
    {
     "data": {
      "text/plain": [
       "\u001b[36mx\u001b[39m: \u001b[32mExpr\u001b[39m = \u001b[33mFix\u001b[39m(\n",
       "  \u001b[33madd\u001b[39m(\u001b[33mFix\u001b[39m(\u001b[33madd\u001b[39m(\u001b[33mFix\u001b[39m(\u001b[33mv\u001b[39m(\u001b[32m\"x\"\u001b[39m)), \u001b[33mFix\u001b[39m(\u001b[33mc\u001b[39m(\u001b[32m7.0\u001b[39m)))), \u001b[33mFix\u001b[39m(\u001b[33madd\u001b[39m(\u001b[33mFix\u001b[39m(\u001b[33mv\u001b[39m(\u001b[32m\"x\"\u001b[39m)), \u001b[33mFix\u001b[39m(\u001b[33mc\u001b[39m(\u001b[32m7.0\u001b[39m)))))\n",
       ")"
      ]
     },
     "execution_count": 27,
     "metadata": {},
     "output_type": "execute_result"
    }
   ],
   "source": [
    "val x = Add(Add(Var(\"x\"), Const(7)), Add(Var(\"x\"), Const(7)))"
   ]
  },
  {
   "cell_type": "code",
   "execution_count": 27,
   "id": "4305d24f",
   "metadata": {},
   "outputs": [
    {
     "name": "stderr",
     "output_type": "stream",
     "text": [
      "(console):1:11 expected (Semis | &\"}\" | end-of-input)\n",
      "zero: Nat = Fix(Zero)\n",
      "          ^"
     ]
    },
    {
     "ename": "",
     "evalue": "",
     "output_type": "error",
     "traceback": [
      "(console):1:11 expected (Semis | &\"}\" | end-of-input)\nzero: Nat = Fix(Zero)\n          ^"
     ]
    }
   ],
   "source": [
    "zero: Nat = Fix(Zero)"
   ]
  },
  {
   "cell_type": "code",
   "execution_count": 28,
   "id": "46e3d467",
   "metadata": {},
   "outputs": [
    {
     "data": {
      "text/plain": [
       "defined \u001b[32mtrait\u001b[39m \u001b[36mNatF\u001b[39m\n",
       "defined \u001b[32mobject\u001b[39m \u001b[36mZero\u001b[39m\n",
       "defined \u001b[32mclass\u001b[39m \u001b[36mSucc\u001b[39m\n",
       "\u001b[36mNatFunctor\u001b[39m: \u001b[32mAnyRef\u001b[39m with \u001b[32mFunctor\u001b[39m[\u001b[32mNatF\u001b[39m] = ammonite.$sess.cmd27$Helper$$anon$1@5601c43e\n",
       "defined \u001b[32mtype\u001b[39m \u001b[36mNat\u001b[39m\n",
       "\u001b[36mzero\u001b[39m: \u001b[32mNat\u001b[39m = \u001b[33mFix\u001b[39m(Zero)\n",
       "defined \u001b[32mfunction\u001b[39m \u001b[36msuc\u001b[39m"
      ]
     },
     "execution_count": 28,
     "metadata": {},
     "output_type": "execute_result"
    }
   ],
   "source": [
    "sealed trait NatF[+A]\n",
    "case object Zero extends NatF[Nothing]\n",
    "case class Succ[A](x: A) extends NatF[A]\n",
    "\n",
    "val NatFunctor = new Functor[NatF] {\n",
    "    override def map[A,B](f: A => B): NatF[A] => NatF[B] = {\n",
    "        case Zero => Zero\n",
    "        case Succ(x) => Succ(f(x))\n",
    "    }\n",
    "}\n",
    "\n",
    "type Nat = Fix[NatF]\n",
    "val zero: Nat =  Fix[NatF](Zero)\n",
    "def suc: Nat => Nat = x =>  Fix[NatF](Succ(x))"
   ]
  },
  {
   "cell_type": "code",
   "execution_count": 29,
   "id": "5e01f037",
   "metadata": {},
   "outputs": [
    {
     "data": {
      "text/plain": [
       "\u001b[36mnum\u001b[39m: \u001b[32mNat\u001b[39m = \u001b[33mFix\u001b[39m(\u001b[33mSucc\u001b[39m(\u001b[33mFix\u001b[39m(\u001b[33mSucc\u001b[39m(\u001b[33mFix\u001b[39m(Zero)))))"
      ]
     },
     "execution_count": 29,
     "metadata": {},
     "output_type": "execute_result"
    }
   ],
   "source": [
    "val num = suc(suc(zero))"
   ]
  },
  {
   "cell_type": "code",
   "execution_count": 30,
   "id": "a2fa16e8",
   "metadata": {},
   "outputs": [
    {
     "data": {
      "text/plain": [
       "defined \u001b[32mfunction\u001b[39m \u001b[36mevalToInt\u001b[39m\n",
       "defined \u001b[32mfunction\u001b[39m \u001b[36mevaltoFib\u001b[39m"
      ]
     },
     "execution_count": 30,
     "metadata": {},
     "output_type": "execute_result"
    }
   ],
   "source": [
    "def evalToInt: Algebra[NatF, Int] = {\n",
    "    x => x match {\n",
    "        case Zero => 0\n",
    "        case Succ(x) => x + 1 \n",
    "    }\n",
    "}\n",
    "def evaltoFib: Algebra[NatF, (Int, Int)] = {\n",
    "    case Zero => (1, 1)\n",
    "    case Succ((n, m)) => (m, n+m) \n",
    "}\n"
   ]
  },
  {
   "cell_type": "code",
   "execution_count": 30,
   "id": "cc6f62fa",
   "metadata": {},
   "outputs": [
    {
     "name": "stderr",
     "output_type": "stream",
     "text": [
      "cmd30.sc:1: type mismatch;\n",
      " found   : ammonite.$sess.cmd23.wrapper.cmd22.Algebra[ammonite.$sess.cmd23.wrapper.cmd21.ExprF,String]\n",
      "    (which expands to)  ammonite.$sess.cmd23.wrapper.cmd21.ExprF[String] => String\n",
      " required: ammonite.$sess.cmd18.wrapper.cmd16.Algebra[F,String]\n",
      "    (which expands to)  F[String] => String\n",
      "val res30 = cata(evalStr)(exprfunctor)(x)\n",
      "                 ^Compilation Failed"
     ]
    },
    {
     "ename": "",
     "evalue": "",
     "output_type": "error",
     "traceback": [
      "Compilation Failed"
     ]
    }
   ],
   "source": [
    "cata(evalStr)(exprfunctor)(x)"
   ]
  },
  {
   "cell_type": "code",
   "execution_count": 30,
   "id": "5886d5c8",
   "metadata": {},
   "outputs": [
    {
     "name": "stderr",
     "output_type": "stream",
     "text": [
      "cmd30.sc:1: type mismatch;\n",
      " found   : ammonite.$sess.cmd23.wrapper.cmd22.Algebra[ammonite.$sess.cmd23.wrapper.cmd21.ExprF,Double]\n",
      "    (which expands to)  ammonite.$sess.cmd23.wrapper.cmd21.ExprF[Double] => Double\n",
      " required: ammonite.$sess.cmd18.wrapper.cmd16.Algebra[F,Double]\n",
      "    (which expands to)  F[Double] => Double\n",
      "val res30 = cata(evalDouble(Assing(3, \"x\")))(exprfunctor)(x)\n",
      "                           ^Compilation Failed"
     ]
    },
    {
     "ename": "",
     "evalue": "",
     "output_type": "error",
     "traceback": [
      "Compilation Failed"
     ]
    }
   ],
   "source": [
    "cata(evalDouble(Assing(3, \"x\")))(exprfunctor)(x)"
   ]
  },
  {
   "cell_type": "code",
   "execution_count": 30,
   "id": "99c4856e",
   "metadata": {},
   "outputs": [
    {
     "name": "stderr",
     "output_type": "stream",
     "text": [
      "cmd30.sc:1: type mismatch;\n",
      " found   : ammonite.$sess.cmd29.wrapper.cmd22.Algebra[ammonite.$sess.cmd29.wrapper.cmd27.NatF,(Int, Int)]\n",
      "    (which expands to)  ammonite.$sess.cmd29.wrapper.cmd27.NatF[(Int, Int)] => (Int, Int)\n",
      " required: ammonite.$sess.cmd18.wrapper.cmd16.Algebra[F,(Int, Int)]\n",
      "    (which expands to)  F[(Int, Int)] => (Int, Int)\n",
      "val res30 = cata(evaltoFib)(NatFunctor)(suc(num))\n",
      "                 ^Compilation Failed"
     ]
    },
    {
     "ename": "",
     "evalue": "",
     "output_type": "error",
     "traceback": [
      "Compilation Failed"
     ]
    }
   ],
   "source": [
    "cata(evaltoFib)(NatFunctor)(suc(num))"
   ]
  },
  {
   "cell_type": "code",
   "execution_count": 45,
   "id": "87d8842a",
   "metadata": {},
   "outputs": [
    {
     "data": {
      "text/plain": [
       "res3: Int = 2\n"
      ]
     },
     "execution_count": 45,
     "metadata": {},
     "output_type": "execute_result"
    }
   ],
   "source": [
    "cata(evalToInt)(NatFunctor)(num)"
   ]
  },
  {
   "cell_type": "code",
   "execution_count": 3,
   "id": "53f1b8b7",
   "metadata": {},
   "outputs": [
    {
     "ename": "<console>",
     "evalue": "26: error: not found: value %",
     "output_type": "error",
     "traceback": [
      "<console>:26: error: not found: value %",
      "       %load_ext itikz",
      "       ^",
      "<console>:26: error: not found: value itikz",
      "       %load_ext itikz",
      "                 ^",
      ""
     ]
    }
   ],
   "source": [
    "%load_ext itikz"
   ]
  },
  {
   "cell_type": "code",
   "execution_count": 4,
   "id": "f5919c71",
   "metadata": {},
   "outputs": [
    {
     "ename": "<console>",
     "evalue": "4: error: error in unicode escape",
     "output_type": "error",
     "traceback": [
      "<console>:4: error: error in unicode escape",
      "       \\usepackage{tikz-cd}",
      "         ^",
      "<console>:4: error: illegal character '\\uffff'",
      "       \\usepackage{tikz-cd}",
      "        ^",
      "<console>:5: error: error in unicode escape",
      "       \\usepackage{adjustbox}",
      "         ^",
      "<console>:5: error: illegal character '\\uffff'",
      "       \\usepackage{adjustbox}",
      "        ^",
      "<console>:7: error: ';' expected but ',' found.",
      "       \\adjustbox{scale=3,center}{%",
      "                         ^",
      "<console>:7: error: ';' expected but '{' found.",
      "       \\adjustbox{scale=3,center}{%",
      "                                 ^",
      ""
     ]
    }
   ],
   "source": [
    "%%itikz\n",
    "\\documentclass{standalone}\n",
    "\\usepackage{tikz-cd}\n",
    "\\usepackage{adjustbox}\n",
    "\\begin{document}\n",
    "\\adjustbox{scale=3,center}{%\n",
    "    \\begin{tikzcd}\n",
    "    X \\arrow[r, hook] \\arrow[dr, dashrightarrow]\n",
    "    & \\bar{X} \\arrow[d]\\\\\n",
    "    & Y\n",
    "    \\end{tikzcd}\n",
    "}\n",
    "\\end{document}"
   ]
  },
  {
   "cell_type": "code",
   "execution_count": null,
   "id": "160c9a04",
   "metadata": {},
   "outputs": [],
   "source": []
  }
 ],
 "metadata": {
  "kernelspec": {
   "display_name": "Scala",
   "language": "scala",
   "name": "scala"
  },
  "language_info": {
   "codemirror_mode": "text/x-scala",
   "file_extension": ".scala",
   "mimetype": "text/x-scala",
   "name": "scala",
   "nbconvert_exporter": "script",
   "version": "2.12.11"
  },
  "toc-autonumbering": true,
  "toc-showcode": true,
  "toc-showmarkdowntxt": true
 },
 "nbformat": 4,
 "nbformat_minor": 5
}
