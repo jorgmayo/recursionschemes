{
 "cells": [
  {
   "cell_type": "code",
   "execution_count": 1,
   "id": "3df98465-98d2-4972-9496-1743b793f94c",
   "metadata": {
    "slideshow": {
     "slide_type": "slide"
    }
   },
   "outputs": [
    {
     "data": {
      "text/plain": [
       "defined \u001b[32mtrait\u001b[39m \u001b[36mNat\u001b[39m\n",
       "defined \u001b[32mobject\u001b[39m \u001b[36mZero\u001b[39m\n",
       "defined \u001b[32mclass\u001b[39m \u001b[36mSuc\u001b[39m\n",
       "defined \u001b[32mtrait\u001b[39m \u001b[36mList\u001b[39m\n",
       "defined \u001b[32mobject\u001b[39m \u001b[36mNil\u001b[39m\n",
       "defined \u001b[32mclass\u001b[39m \u001b[36mCons\u001b[39m"
      ]
     },
     "execution_count": 1,
     "metadata": {},
     "output_type": "execute_result"
    }
   ],
   "source": [
    "sealed trait Nat\n",
    "final object Zero extends Nat\n",
    "final case class Suc(n: Nat) extends Nat\n",
    "sealed trait List[+A]\n",
    "final object Nil extends List[Nothing]\n",
    "final case class Cons[A](head: A, tail: List[A]) extends List[A]"
   ]
  },
  {
   "cell_type": "code",
   "execution_count": 2,
   "id": "5f7b37f1-18e4-44df-828b-cc25d897efa5",
   "metadata": {
    "slideshow": {
     "slide_type": "slide"
    }
   },
   "outputs": [
    {
     "data": {
      "text/plain": [
       "defined \u001b[32mfunction\u001b[39m \u001b[36mlength\u001b[39m"
      ]
     },
     "execution_count": 2,
     "metadata": {},
     "output_type": "execute_result"
    }
   ],
   "source": [
    "def length[A]: List[A] => Int = {\n",
    "    case Nil => 0\n",
    "    case Cons(h, t) => 1 + length(t)\n",
    "} "
   ]
  },
  {
   "cell_type": "code",
   "execution_count": 3,
   "id": "04c967b7-068b-46cc-bafb-dfbddf8d563a",
   "metadata": {
    "slideshow": {
     "slide_type": "slide"
    }
   },
   "outputs": [
    {
     "data": {
      "text/plain": [
       "defined \u001b[32mtrait\u001b[39m \u001b[36mRing\u001b[39m\n",
       "defined \u001b[32mobject\u001b[39m \u001b[36mZero\u001b[39m\n",
       "defined \u001b[32mobject\u001b[39m \u001b[36mOne\u001b[39m\n",
       "defined \u001b[32mclass\u001b[39m \u001b[36mElem\u001b[39m\n",
       "defined \u001b[32mclass\u001b[39m \u001b[36mAdd\u001b[39m\n",
       "defined \u001b[32mclass\u001b[39m \u001b[36mMult\u001b[39m"
      ]
     },
     "execution_count": 3,
     "metadata": {},
     "output_type": "execute_result"
    }
   ],
   "source": [
    "sealed trait Ring \n",
    "case object Zero extends Ring\n",
    "case object One extends Ring\n",
    "case class Elem(x: Int) extends Ring\n",
    "case class Add(x: Ring, y: Ring) extends Ring\n",
    "case class Mult(x: Ring, y: Ring) extends Ring\n"
   ]
  },
  {
   "cell_type": "code",
   "execution_count": 4,
   "id": "0bb7d89b-e90d-466b-9e3b-9cf408c37ee5",
   "metadata": {
    "slideshow": {
     "slide_type": "slide"
    }
   },
   "outputs": [
    {
     "data": {
      "text/plain": [
       "defined \u001b[32mfunction\u001b[39m \u001b[36mtoInt\u001b[39m"
      ]
     },
     "execution_count": 4,
     "metadata": {},
     "output_type": "execute_result"
    }
   ],
   "source": [
    "def toInt: Ring => Int = {\n",
    "    case Zero => 0\n",
    "    case One => 1\n",
    "    case Elem(x) => x\n",
    "    case Add(x, y) => toInt(x) + toInt(y)\n",
    "    case Mult(x, y) => toInt(x) * toInt(y)\n",
    "}"
   ]
  },
  {
   "cell_type": "code",
   "execution_count": 5,
   "id": "69943d7c-f104-4a5e-a6cc-2da436288f75",
   "metadata": {
    "slideshow": {
     "slide_type": "slide"
    }
   },
   "outputs": [
    {
     "data": {
      "text/plain": [
       "defined \u001b[32mtrait\u001b[39m \u001b[36mRingF\u001b[39m\n",
       "defined \u001b[32mobject\u001b[39m \u001b[36mZero\u001b[39m\n",
       "defined \u001b[32mobject\u001b[39m \u001b[36mOne\u001b[39m\n",
       "defined \u001b[32mclass\u001b[39m \u001b[36mElem\u001b[39m\n",
       "defined \u001b[32mclass\u001b[39m \u001b[36mAdd\u001b[39m\n",
       "defined \u001b[32mclass\u001b[39m \u001b[36mMult\u001b[39m"
      ]
     },
     "execution_count": 5,
     "metadata": {},
     "output_type": "execute_result"
    }
   ],
   "source": [
    "sealed trait RingF[+A]\n",
    "case object Zero extends RingF[Nothing]\n",
    "case object One extends RingF[Nothing]\n",
    "case class Elem(x: Int) extends RingF[Nothing]\n",
    "case class Add[A](x: A, y: A) extends RingF[A]\n",
    "case class Mult[A](x:A, y: A) extends RingF[A]\n",
    "\n"
   ]
  },
  {
   "cell_type": "code",
   "execution_count": 6,
   "id": "c1039ac1-b9f0-4e76-ba24-762e56e792dd",
   "metadata": {
    "slideshow": {
     "slide_type": "slide"
    }
   },
   "outputs": [
    {
     "data": {
      "text/plain": [
       "\u001b[36mexpresion1\u001b[39m: \u001b[32mMult\u001b[39m[\u001b[32mProduct\u001b[39m with \u001b[32mSerializable\u001b[39m with \u001b[32mRingF\u001b[39m[\u001b[32mProduct\u001b[39m with \u001b[32mSerializable\u001b[39m with \u001b[32mRingF\u001b[39m[\u001b[32mNothing\u001b[39m]]] = \u001b[33mMult\u001b[39m(\u001b[33mElem\u001b[39m(\u001b[32m4\u001b[39m), \u001b[33mAdd\u001b[39m(\u001b[33mElem\u001b[39m(\u001b[32m3\u001b[39m), One))"
      ]
     },
     "execution_count": 6,
     "metadata": {},
     "output_type": "execute_result"
    }
   ],
   "source": [
    "val expresion1 = Mult(Elem(4), Add(Elem(3), One))"
   ]
  },
  {
   "cell_type": "code",
   "execution_count": 7,
   "id": "07b3965b-3acf-499b-af75-ce7e17c7e4c3",
   "metadata": {
    "slideshow": {
     "slide_type": "slide"
    }
   },
   "outputs": [
    {
     "data": {
      "text/plain": [
       "defined \u001b[32mfunction\u001b[39m \u001b[36mevalToInt\u001b[39m"
      ]
     },
     "execution_count": 7,
     "metadata": {},
     "output_type": "execute_result"
    }
   ],
   "source": [
    "def evalToInt: RingF[Int] => Int = {\n",
    "    x => x match {\n",
    "        case Zero => 0\n",
    "        case One => 1\n",
    "        case Elem(x) => x\n",
    "        case Add(x, y) => x + y\n",
    "        case Mult(x, y) => x * y\n",
    "    }\n",
    "}\n",
    "\n"
   ]
  },
  {
   "cell_type": "code",
   "execution_count": 8,
   "id": "900a0e93-dc4c-4407-9a05-247f6cab13a0",
   "metadata": {
    "slideshow": {
     "slide_type": "slide"
    }
   },
   "outputs": [
    {
     "data": {
      "text/plain": [
       "defined \u001b[32mtrait\u001b[39m \u001b[36mFunctor\u001b[39m\n",
       "\u001b[36mringFunctor\u001b[39m: \u001b[32mAnyRef\u001b[39m with \u001b[32mFunctor\u001b[39m[\u001b[32mRingF\u001b[39m] = ammonite.$sess.cmd7$Helper$$anon$1@79d15866"
      ]
     },
     "execution_count": 8,
     "metadata": {},
     "output_type": "execute_result"
    }
   ],
   "source": [
    "trait Functor[F[_]] {\n",
    "    def map[A,B](f: A => B): F[A] => F[B]\n",
    "}\n",
    "\n",
    "implicit val ringFunctor = new Functor[RingF] {\n",
    "    override def map[A, B](f: A => B): RingF[A] => RingF[B] = {\n",
    "        case Zero => Zero\n",
    "        case One => One\n",
    "        case Elem(x) => Elem(x)\n",
    "        case Add(x, y) => Add(f(x), f(y))\n",
    "        case Mult(x, y) => Mult(f(x), f(y))\n",
    "    }\n",
    "}"
   ]
  },
  {
   "cell_type": "code",
   "execution_count": 9,
   "id": "30ca95fb-1648-4981-8fec-f4bcadd6f05c",
   "metadata": {
    "slideshow": {
     "slide_type": "slide"
    }
   },
   "outputs": [
    {
     "data": {
      "text/plain": [
       "defined \u001b[32mfunction\u001b[39m \u001b[36mliftInt\u001b[39m"
      ]
     },
     "execution_count": 9,
     "metadata": {},
     "output_type": "execute_result"
    }
   ],
   "source": [
    "def liftInt: RingF[RingF[Int]] => RingF[Int] = {\n",
    "    ringFunctor.map(evalToInt)\n",
    "}"
   ]
  },
  {
   "cell_type": "code",
   "execution_count": 10,
   "id": "4969f7d5-47fd-4d5a-8e61-684619a094f6",
   "metadata": {
    "slideshow": {
     "slide_type": "slide"
    }
   },
   "outputs": [
    {
     "data": {
      "text/plain": [
       "defined \u001b[32mclass\u001b[39m \u001b[36mFix\u001b[39m\n",
       "defined \u001b[32mobject\u001b[39m \u001b[36mFix\u001b[39m"
      ]
     },
     "execution_count": 10,
     "metadata": {},
     "output_type": "execute_result"
    }
   ],
   "source": [
    "case class Fix[F[_]](value: F[Fix[F]] )\n",
    "object Fix {\n",
    "  def fix[F[_]](ff: F[Fix[F]]): Fix[F] = new Fix[F](ff)\n",
    "  def unfix[F[_]]: Fix[F] => F[Fix[F]] = f => f.value\n",
    "}"
   ]
  },
  {
   "cell_type": "code",
   "execution_count": 11,
   "id": "53757144-0ad2-434b-8264-03b536a8f1be",
   "metadata": {
    "slideshow": {
     "slide_type": "slide"
    }
   },
   "outputs": [
    {
     "data": {
      "text/plain": [
       "defined \u001b[32mtype\u001b[39m \u001b[36mRing\u001b[39m\n",
       "\u001b[36mzero\u001b[39m: \u001b[32mFix\u001b[39m[\u001b[32mRingF\u001b[39m] = \u001b[33mFix\u001b[39m(Zero)\n",
       "\u001b[36mone\u001b[39m: \u001b[32mFix\u001b[39m[\u001b[32mRingF\u001b[39m] = \u001b[33mFix\u001b[39m(One)\n",
       "defined \u001b[32mfunction\u001b[39m \u001b[36melem\u001b[39m\n",
       "defined \u001b[32mfunction\u001b[39m \u001b[36madd\u001b[39m\n",
       "defined \u001b[32mfunction\u001b[39m \u001b[36mmult\u001b[39m"
      ]
     },
     "execution_count": 11,
     "metadata": {},
     "output_type": "execute_result"
    }
   ],
   "source": [
    "type Ring = Fix[RingF]\n",
    "val zero = Fix[RingF](Zero)\n",
    "val one =  Fix[RingF](One)\n",
    "def elem: Int  => Ring = x => Fix[RingF](Elem(x))\n",
    "def add: (Ring, Ring) => Ring = (x, y) =>  Fix[RingF](Add(x, y))\n",
    "def mult: (Ring, Ring) => Ring = (x, y) =>  Fix[RingF](Mult(x, y))"
   ]
  },
  {
   "cell_type": "code",
   "execution_count": 12,
   "id": "2567b97e-c266-441e-967b-ea45042041a1",
   "metadata": {
    "slideshow": {
     "slide_type": "slide"
    }
   },
   "outputs": [
    {
     "data": {
      "text/plain": [
       "\u001b[36ms\u001b[39m: \u001b[32mRing\u001b[39m = \u001b[33mFix\u001b[39m(\u001b[33mAdd\u001b[39m(\u001b[33mFix\u001b[39m(\u001b[33mElem\u001b[39m(\u001b[32m7\u001b[39m)), \u001b[33mFix\u001b[39m(\u001b[33mElem\u001b[39m(\u001b[32m7\u001b[39m))))\n",
       "\u001b[36mexp1\u001b[39m: \u001b[32mRing\u001b[39m = \u001b[33mFix\u001b[39m(\u001b[33mMult\u001b[39m(\u001b[33mFix\u001b[39m(\u001b[33mElem\u001b[39m(\u001b[32m4\u001b[39m)), \u001b[33mFix\u001b[39m(\u001b[33mAdd\u001b[39m(\u001b[33mFix\u001b[39m(\u001b[33mElem\u001b[39m(\u001b[32m3\u001b[39m)), \u001b[33mFix\u001b[39m(One)))))"
      ]
     },
     "execution_count": 12,
     "metadata": {},
     "output_type": "execute_result"
    }
   ],
   "source": [
    "val s = add(elem(7), elem(7))\n",
    "val exp1 = mult(elem(4), add(elem(3), one))"
   ]
  },
  {
   "cell_type": "code",
   "execution_count": 13,
   "id": "9e6f660e-b033-4a3f-97be-e97a034597db",
   "metadata": {
    "slideshow": {
     "slide_type": "slide"
    }
   },
   "outputs": [
    {
     "data": {
      "text/plain": [
       "defined \u001b[32mfunction\u001b[39m \u001b[36mcata\u001b[39m"
      ]
     },
     "execution_count": 13,
     "metadata": {},
     "output_type": "execute_result"
    }
   ],
   "source": [
    "def cata: Fix[RingF] => Int = {\n",
    "    x => evalToInt(ringFunctor.map(cata)(Fix.unfix(x)))\n",
    "}\n"
   ]
  },
  {
   "cell_type": "code",
   "execution_count": 14,
   "id": "0ba46697-5944-4bdd-aec9-dcd044f0bbfa",
   "metadata": {},
   "outputs": [
    {
     "data": {
      "text/plain": [
       "\u001b[36mres13\u001b[39m: \u001b[32mInt\u001b[39m = \u001b[32m16\u001b[39m"
      ]
     },
     "execution_count": 14,
     "metadata": {},
     "output_type": "execute_result"
    }
   ],
   "source": [
    "cata(exp1)"
   ]
  },
  {
   "cell_type": "code",
   "execution_count": 15,
   "id": "fde3ce7b-2d08-4d37-a78c-2cee6ef2b0f1",
   "metadata": {
    "slideshow": {
     "slide_type": "slide"
    }
   },
   "outputs": [
    {
     "data": {
      "text/plain": [
       "defined \u001b[32mfunction\u001b[39m \u001b[36mcata\u001b[39m"
      ]
     },
     "execution_count": 15,
     "metadata": {},
     "output_type": "execute_result"
    }
   ],
   "source": [
    "def cata[F[_], A](alg: F[A] => A)(implicit F: Functor[F]): Fix[F] => A = {\n",
    "    x => alg(F.map(cata(alg))(Fix.unfix(x)))\n",
    "}"
   ]
  },
  {
   "cell_type": "code",
   "execution_count": 16,
   "id": "b7913f97-8305-4232-87db-d2f2d9dafe17",
   "metadata": {
    "slideshow": {
     "slide_type": "slide"
    }
   },
   "outputs": [
    {
     "data": {
      "text/plain": [
       "\u001b[36mres15\u001b[39m: \u001b[32mInt\u001b[39m = \u001b[32m16\u001b[39m"
      ]
     },
     "execution_count": 16,
     "metadata": {},
     "output_type": "execute_result"
    }
   ],
   "source": [
    "cata(evalToInt)(ringFunctor)(exp1)"
   ]
  },
  {
   "cell_type": "code",
   "execution_count": 17,
   "id": "eb871f8e-bc7e-4567-9c72-288fceedcb91",
   "metadata": {},
   "outputs": [
    {
     "data": {
      "text/plain": [
       "defined \u001b[32mtrait\u001b[39m \u001b[36mListF\u001b[39m\n",
       "defined \u001b[32mtrait\u001b[39m \u001b[36mList\u001b[39m\n",
       "defined \u001b[32mobject\u001b[39m \u001b[36mNil\u001b[39m\n",
       "defined \u001b[32mclass\u001b[39m \u001b[36mCons\u001b[39m"
      ]
     },
     "execution_count": 17,
     "metadata": {},
     "output_type": "execute_result"
    }
   ],
   "source": [
    "/**h\n",
    "Repasar esto para que funcione\n",
    "**/\n",
    "sealed trait ListF[+A, +B]\n",
    "sealed trait List[+A] extends ListF[A, Fix[List]]\n",
    "final object Nil extends ListF[Nothing, Nothing]\n",
    "final case class Cons[A, B](head: A, tail: B) extends ListF[A, B]"
   ]
  },
  {
   "cell_type": "code",
   "execution_count": 58,
   "id": "ba3cbdbb-fa08-46bb-bd97-f7ea161c61e4",
   "metadata": {},
   "outputs": [
    {
     "data": {
      "text/plain": [
       "defined \u001b[32mfunction\u001b[39m \u001b[36mfindDivisorsOf\u001b[39m"
      ]
     },
     "execution_count": 58,
     "metadata": {},
     "output_type": "execute_result"
    }
   ],
   "source": [
    "def findDivisorsOf(r: Int): RingF[Int] = {\n",
    "    def loop(n: Int): RingF[Int] = {\n",
    "        n match {\n",
    "            case 0 => Zero\n",
    "            case 1 => One\n",
    "            case x => \n",
    "                if (x >= r) Elem(x)\n",
    "                else if (r%x == 0) Mult(r/x, x) \n",
    "                else loop(n+1)\n",
    "        }\n",
    "    }\n",
    "    loop(2)\n",
    "}"
   ]
  },
  {
   "cell_type": "code",
   "execution_count": 59,
   "id": "9d85e6f5-5161-4551-8348-d0ac02e2b6dc",
   "metadata": {},
   "outputs": [
    {
     "data": {
      "text/plain": [
       "\u001b[36mres58_0\u001b[39m: \u001b[32mRingF\u001b[39m[\u001b[32mInt\u001b[39m] = \u001b[33mMult\u001b[39m(\u001b[32m3\u001b[39m, \u001b[32m2\u001b[39m)\n",
       "\u001b[36mres58_1\u001b[39m: \u001b[32mRingF\u001b[39m[\u001b[32mInt\u001b[39m] = \u001b[33mMult\u001b[39m(\u001b[32m6\u001b[39m, \u001b[32m2\u001b[39m)"
      ]
     },
     "execution_count": 59,
     "metadata": {},
     "output_type": "execute_result"
    }
   ],
   "source": [
    "findDivisorsOf(6)\n",
    "findDivisorsOf(12)"
   ]
  },
  {
   "cell_type": "code",
   "execution_count": 38,
   "id": "90fdb3d9-09e9-4e83-a278-600c0eae879a",
   "metadata": {},
   "outputs": [
    {
     "data": {
      "text/plain": [
       "defined \u001b[32mfunction\u001b[39m \u001b[36mf1\u001b[39m\n",
       "defined \u001b[32mfunction\u001b[39m \u001b[36mfind\u001b[39m"
      ]
     },
     "execution_count": 38,
     "metadata": {},
     "output_type": "execute_result"
    }
   ],
   "source": [
    "def f1: RingF[Int] => RingF[RingF[Int]] = ringFunctor.map(FindDivisorsOf)\n",
    "def find: Int => RingF[RingF[Int]] = {\n",
    "    x => f1(FindDivisorsOf(x))\n",
    "}"
   ]
  },
  {
   "cell_type": "code",
   "execution_count": 42,
   "id": "7d41ec0c-ea68-4b95-a7be-b1e128d66fc5",
   "metadata": {},
   "outputs": [
    {
     "data": {
      "text/plain": [
       "\u001b[36mres41\u001b[39m: \u001b[32mRingF\u001b[39m[\u001b[32mRingF\u001b[39m[\u001b[32mInt\u001b[39m]] = \u001b[33mMult\u001b[39m(\u001b[33mMult\u001b[39m(\u001b[32m2\u001b[39m, \u001b[32m2\u001b[39m), \u001b[33mElem\u001b[39m(\u001b[32m2\u001b[39m))"
      ]
     },
     "execution_count": 42,
     "metadata": {},
     "output_type": "execute_result"
    }
   ],
   "source": [
    "find(8)"
   ]
  },
  {
   "cell_type": "code",
   "execution_count": 43,
   "id": "60d0796c-6152-451f-b403-2c0307917dbf",
   "metadata": {},
   "outputs": [
    {
     "data": {
      "text/plain": [
       "defined \u001b[32mfunction\u001b[39m \u001b[36mana\u001b[39m"
      ]
     },
     "execution_count": 43,
     "metadata": {},
     "output_type": "execute_result"
    }
   ],
   "source": [
    "def ana[F[_], A](coalg: A => F[A])(implicit F: Functor[F]): A => Fix[F] = {\n",
    "    x => Fix((F.map(ana(coalg))(coalg(x))))\n",
    "}"
   ]
  },
  {
   "cell_type": "code",
   "execution_count": 62,
   "id": "16c8f5f6-10ca-4563-b626-4357ed9238a2",
   "metadata": {},
   "outputs": [
    {
     "data": {
      "text/plain": [
       "\u001b[36mexpression3\u001b[39m: \u001b[32mFix\u001b[39m[\u001b[32mRingF\u001b[39m] = \u001b[33mFix\u001b[39m(\n",
       "  \u001b[33mMult\u001b[39m(\u001b[33mFix\u001b[39m(\u001b[33mMult\u001b[39m(\u001b[33mFix\u001b[39m(\u001b[33mElem\u001b[39m(\u001b[32m3\u001b[39m)), \u001b[33mFix\u001b[39m(\u001b[33mElem\u001b[39m(\u001b[32m2\u001b[39m)))), \u001b[33mFix\u001b[39m(\u001b[33mElem\u001b[39m(\u001b[32m2\u001b[39m)))\n",
       ")"
      ]
     },
     "execution_count": 62,
     "metadata": {},
     "output_type": "execute_result"
    }
   ],
   "source": [
    "val expression3 = ana(FindDivisorsOf)(ringFunctor)(12)"
   ]
  },
  {
   "cell_type": "code",
   "execution_count": 48,
   "id": "c9caa2ba-f76a-460e-abd5-691031850e02",
   "metadata": {},
   "outputs": [
    {
     "data": {
      "text/plain": [
       "defined \u001b[32mfunction\u001b[39m \u001b[36mevalToStr\u001b[39m"
      ]
     },
     "execution_count": 48,
     "metadata": {},
     "output_type": "execute_result"
    }
   ],
   "source": [
    "def evalToStr: RingF[String] => String = {\n",
    "    x => x match {\n",
    "        case Zero => \"0\"\n",
    "        case One => \"1\"\n",
    "        case Elem(x) => x.toString\n",
    "        case Add(x, y) => x.toString + \" + \" + y.toString\n",
    "        case Mult(x, y) => x.toString + \" * \" + y.toString\n",
    "    }\n",
    "}"
   ]
  },
  {
   "cell_type": "code",
   "execution_count": 52,
   "id": "724b82d2-186a-4eb2-85e5-a14cc1f6f220",
   "metadata": {},
   "outputs": [
    {
     "data": {
      "text/plain": [
       "\u001b[36mres51\u001b[39m: \u001b[32mString\u001b[39m = \u001b[32m\"3 * 2 * 2\"\u001b[39m"
      ]
     },
     "execution_count": 52,
     "metadata": {},
     "output_type": "execute_result"
    }
   ],
   "source": [
    "cata(evalToStr)(ringFunctor)(ana(FindDivisorsOf)(ringFunctor)(12))"
   ]
  },
  {
   "cell_type": "code",
   "execution_count": 61,
   "id": "8439c102-fb59-46af-a97d-983b4468e5f0",
   "metadata": {},
   "outputs": [
    {
     "data": {
      "image/png": "[encoded data removed]"
     },
     "metadata": {},
     "output_type": "display_data"
    },
    {
     "data": {
      "text/plain": [
       "\u001b[32mimport \u001b[39m\u001b[36m$ivy.$                                \n",
       "\n",
       "\u001b[39m"
      ]
     },
     "execution_count": 61,
     "metadata": {},
     "output_type": "execute_result"
    }
   ],
   "source": [
    "import $ivy.`io.github.stanch::reftree:1.3.0`\n",
    "\n",
    "{{\n",
    "  import reftree.render._, reftree.diagram._\n",
    "  import reftree.contrib.SimplifiedInstances.string\n",
    "  val renderer = Renderer(renderingOptions = RenderingOptions(density = 60))\n",
    "    \n",
    "  renderer.render(\"example5\", Diagram.sourceCodeCaption(expression3))\n",
    "}}\n",
    "Image.fromFile(\"example5.png\")"
   ]
  },
  {
   "cell_type": "code",
   "execution_count": null,
   "id": "5765dfe3-f52f-41de-ae8c-2c53cd4bb2c6",
   "metadata": {},
   "outputs": [],
   "source": []
  }
 ],
 "metadata": {
  "celltoolbar": "Slideshow",
  "kernelspec": {
   "display_name": "Scala",
   "language": "scala",
   "name": "scala"
  },
  "language_info": {
   "codemirror_mode": "text/x-scala",
   "file_extension": ".scala",
   "mimetype": "text/x-scala",
   "name": "scala",
   "nbconvert_exporter": "script",
   "version": "2.12.11"
  }
 },
 "nbformat": 4,
 "nbformat_minor": 5
}
